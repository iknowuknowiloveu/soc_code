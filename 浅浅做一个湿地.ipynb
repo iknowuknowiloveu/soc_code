{
 "cells": [
  {
   "cell_type": "code",
   "execution_count": 1,
   "id": "33102d56",
   "metadata": {},
   "outputs": [],
   "source": [
    "import numpy as np\n",
    "import xarray as xr\n",
    "#import geopandas as geo\n",
    "#import salem\n",
    "from cdo import *\n",
    "from cdo import Cdo\n",
    "cdo = Cdo()\n",
    "\n",
    "import seaborn as sns\n",
    "from scipy.stats import pearsonr\n",
    "from scipy.stats import linregress\n",
    "from scipy import signal\n",
    "import matplotlib.pyplot as plt\n",
    "from sklearn import preprocessing"
   ]
  },
  {
   "cell_type": "code",
   "execution_count": 7,
   "id": "26562929",
   "metadata": {},
   "outputs": [
    {
     "data": {
      "text/html": [
       "<div><svg style=\"position: absolute; width: 0; height: 0; overflow: hidden\">\n",
       "<defs>\n",
       "<symbol id=\"icon-database\" viewBox=\"0 0 32 32\">\n",
       "<path d=\"M16 0c-8.837 0-16 2.239-16 5v4c0 2.761 7.163 5 16 5s16-2.239 16-5v-4c0-2.761-7.163-5-16-5z\"></path>\n",
       "<path d=\"M16 17c-8.837 0-16-2.239-16-5v6c0 2.761 7.163 5 16 5s16-2.239 16-5v-6c0 2.761-7.163 5-16 5z\"></path>\n",
       "<path d=\"M16 26c-8.837 0-16-2.239-16-5v6c0 2.761 7.163 5 16 5s16-2.239 16-5v-6c0 2.761-7.163 5-16 5z\"></path>\n",
       "</symbol>\n",
       "<symbol id=\"icon-file-text2\" viewBox=\"0 0 32 32\">\n",
       "<path d=\"M28.681 7.159c-0.694-0.947-1.662-2.053-2.724-3.116s-2.169-2.030-3.116-2.724c-1.612-1.182-2.393-1.319-2.841-1.319h-15.5c-1.378 0-2.5 1.121-2.5 2.5v27c0 1.378 1.122 2.5 2.5 2.5h23c1.378 0 2.5-1.122 2.5-2.5v-19.5c0-0.448-0.137-1.23-1.319-2.841zM24.543 5.457c0.959 0.959 1.712 1.825 2.268 2.543h-4.811v-4.811c0.718 0.556 1.584 1.309 2.543 2.268zM28 29.5c0 0.271-0.229 0.5-0.5 0.5h-23c-0.271 0-0.5-0.229-0.5-0.5v-27c0-0.271 0.229-0.5 0.5-0.5 0 0 15.499-0 15.5 0v7c0 0.552 0.448 1 1 1h7v19.5z\"></path>\n",
       "<path d=\"M23 26h-14c-0.552 0-1-0.448-1-1s0.448-1 1-1h14c0.552 0 1 0.448 1 1s-0.448 1-1 1z\"></path>\n",
       "<path d=\"M23 22h-14c-0.552 0-1-0.448-1-1s0.448-1 1-1h14c0.552 0 1 0.448 1 1s-0.448 1-1 1z\"></path>\n",
       "<path d=\"M23 18h-14c-0.552 0-1-0.448-1-1s0.448-1 1-1h14c0.552 0 1 0.448 1 1s-0.448 1-1 1z\"></path>\n",
       "</symbol>\n",
       "</defs>\n",
       "</svg>\n",
       "<style>/* CSS stylesheet for displaying xarray objects in jupyterlab.\n",
       " *\n",
       " */\n",
       "\n",
       ":root {\n",
       "  --xr-font-color0: var(--jp-content-font-color0, rgba(0, 0, 0, 1));\n",
       "  --xr-font-color2: var(--jp-content-font-color2, rgba(0, 0, 0, 0.54));\n",
       "  --xr-font-color3: var(--jp-content-font-color3, rgba(0, 0, 0, 0.38));\n",
       "  --xr-border-color: var(--jp-border-color2, #e0e0e0);\n",
       "  --xr-disabled-color: var(--jp-layout-color3, #bdbdbd);\n",
       "  --xr-background-color: var(--jp-layout-color0, white);\n",
       "  --xr-background-color-row-even: var(--jp-layout-color1, white);\n",
       "  --xr-background-color-row-odd: var(--jp-layout-color2, #eeeeee);\n",
       "}\n",
       "\n",
       "html[theme=dark],\n",
       "body.vscode-dark {\n",
       "  --xr-font-color0: rgba(255, 255, 255, 1);\n",
       "  --xr-font-color2: rgba(255, 255, 255, 0.54);\n",
       "  --xr-font-color3: rgba(255, 255, 255, 0.38);\n",
       "  --xr-border-color: #1F1F1F;\n",
       "  --xr-disabled-color: #515151;\n",
       "  --xr-background-color: #111111;\n",
       "  --xr-background-color-row-even: #111111;\n",
       "  --xr-background-color-row-odd: #313131;\n",
       "}\n",
       "\n",
       ".xr-wrap {\n",
       "  display: block;\n",
       "  min-width: 300px;\n",
       "  max-width: 700px;\n",
       "}\n",
       "\n",
       ".xr-text-repr-fallback {\n",
       "  /* fallback to plain text repr when CSS is not injected (untrusted notebook) */\n",
       "  display: none;\n",
       "}\n",
       "\n",
       ".xr-header {\n",
       "  padding-top: 6px;\n",
       "  padding-bottom: 6px;\n",
       "  margin-bottom: 4px;\n",
       "  border-bottom: solid 1px var(--xr-border-color);\n",
       "}\n",
       "\n",
       ".xr-header > div,\n",
       ".xr-header > ul {\n",
       "  display: inline;\n",
       "  margin-top: 0;\n",
       "  margin-bottom: 0;\n",
       "}\n",
       "\n",
       ".xr-obj-type,\n",
       ".xr-array-name {\n",
       "  margin-left: 2px;\n",
       "  margin-right: 10px;\n",
       "}\n",
       "\n",
       ".xr-obj-type {\n",
       "  color: var(--xr-font-color2);\n",
       "}\n",
       "\n",
       ".xr-sections {\n",
       "  padding-left: 0 !important;\n",
       "  display: grid;\n",
       "  grid-template-columns: 150px auto auto 1fr 20px 20px;\n",
       "}\n",
       "\n",
       ".xr-section-item {\n",
       "  display: contents;\n",
       "}\n",
       "\n",
       ".xr-section-item input {\n",
       "  display: none;\n",
       "}\n",
       "\n",
       ".xr-section-item input + label {\n",
       "  color: var(--xr-disabled-color);\n",
       "}\n",
       "\n",
       ".xr-section-item input:enabled + label {\n",
       "  cursor: pointer;\n",
       "  color: var(--xr-font-color2);\n",
       "}\n",
       "\n",
       ".xr-section-item input:enabled + label:hover {\n",
       "  color: var(--xr-font-color0);\n",
       "}\n",
       "\n",
       ".xr-section-summary {\n",
       "  grid-column: 1;\n",
       "  color: var(--xr-font-color2);\n",
       "  font-weight: 500;\n",
       "}\n",
       "\n",
       ".xr-section-summary > span {\n",
       "  display: inline-block;\n",
       "  padding-left: 0.5em;\n",
       "}\n",
       "\n",
       ".xr-section-summary-in:disabled + label {\n",
       "  color: var(--xr-font-color2);\n",
       "}\n",
       "\n",
       ".xr-section-summary-in + label:before {\n",
       "  display: inline-block;\n",
       "  content: '►';\n",
       "  font-size: 11px;\n",
       "  width: 15px;\n",
       "  text-align: center;\n",
       "}\n",
       "\n",
       ".xr-section-summary-in:disabled + label:before {\n",
       "  color: var(--xr-disabled-color);\n",
       "}\n",
       "\n",
       ".xr-section-summary-in:checked + label:before {\n",
       "  content: '▼';\n",
       "}\n",
       "\n",
       ".xr-section-summary-in:checked + label > span {\n",
       "  display: none;\n",
       "}\n",
       "\n",
       ".xr-section-summary,\n",
       ".xr-section-inline-details {\n",
       "  padding-top: 4px;\n",
       "  padding-bottom: 4px;\n",
       "}\n",
       "\n",
       ".xr-section-inline-details {\n",
       "  grid-column: 2 / -1;\n",
       "}\n",
       "\n",
       ".xr-section-details {\n",
       "  display: none;\n",
       "  grid-column: 1 / -1;\n",
       "  margin-bottom: 5px;\n",
       "}\n",
       "\n",
       ".xr-section-summary-in:checked ~ .xr-section-details {\n",
       "  display: contents;\n",
       "}\n",
       "\n",
       ".xr-array-wrap {\n",
       "  grid-column: 1 / -1;\n",
       "  display: grid;\n",
       "  grid-template-columns: 20px auto;\n",
       "}\n",
       "\n",
       ".xr-array-wrap > label {\n",
       "  grid-column: 1;\n",
       "  vertical-align: top;\n",
       "}\n",
       "\n",
       ".xr-preview {\n",
       "  color: var(--xr-font-color3);\n",
       "}\n",
       "\n",
       ".xr-array-preview,\n",
       ".xr-array-data {\n",
       "  padding: 0 5px !important;\n",
       "  grid-column: 2;\n",
       "}\n",
       "\n",
       ".xr-array-data,\n",
       ".xr-array-in:checked ~ .xr-array-preview {\n",
       "  display: none;\n",
       "}\n",
       "\n",
       ".xr-array-in:checked ~ .xr-array-data,\n",
       ".xr-array-preview {\n",
       "  display: inline-block;\n",
       "}\n",
       "\n",
       ".xr-dim-list {\n",
       "  display: inline-block !important;\n",
       "  list-style: none;\n",
       "  padding: 0 !important;\n",
       "  margin: 0;\n",
       "}\n",
       "\n",
       ".xr-dim-list li {\n",
       "  display: inline-block;\n",
       "  padding: 0;\n",
       "  margin: 0;\n",
       "}\n",
       "\n",
       ".xr-dim-list:before {\n",
       "  content: '(';\n",
       "}\n",
       "\n",
       ".xr-dim-list:after {\n",
       "  content: ')';\n",
       "}\n",
       "\n",
       ".xr-dim-list li:not(:last-child):after {\n",
       "  content: ',';\n",
       "  padding-right: 5px;\n",
       "}\n",
       "\n",
       ".xr-has-index {\n",
       "  font-weight: bold;\n",
       "}\n",
       "\n",
       ".xr-var-list,\n",
       ".xr-var-item {\n",
       "  display: contents;\n",
       "}\n",
       "\n",
       ".xr-var-item > div,\n",
       ".xr-var-item label,\n",
       ".xr-var-item > .xr-var-name span {\n",
       "  background-color: var(--xr-background-color-row-even);\n",
       "  margin-bottom: 0;\n",
       "}\n",
       "\n",
       ".xr-var-item > .xr-var-name:hover span {\n",
       "  padding-right: 5px;\n",
       "}\n",
       "\n",
       ".xr-var-list > li:nth-child(odd) > div,\n",
       ".xr-var-list > li:nth-child(odd) > label,\n",
       ".xr-var-list > li:nth-child(odd) > .xr-var-name span {\n",
       "  background-color: var(--xr-background-color-row-odd);\n",
       "}\n",
       "\n",
       ".xr-var-name {\n",
       "  grid-column: 1;\n",
       "}\n",
       "\n",
       ".xr-var-dims {\n",
       "  grid-column: 2;\n",
       "}\n",
       "\n",
       ".xr-var-dtype {\n",
       "  grid-column: 3;\n",
       "  text-align: right;\n",
       "  color: var(--xr-font-color2);\n",
       "}\n",
       "\n",
       ".xr-var-preview {\n",
       "  grid-column: 4;\n",
       "}\n",
       "\n",
       ".xr-var-name,\n",
       ".xr-var-dims,\n",
       ".xr-var-dtype,\n",
       ".xr-preview,\n",
       ".xr-attrs dt {\n",
       "  white-space: nowrap;\n",
       "  overflow: hidden;\n",
       "  text-overflow: ellipsis;\n",
       "  padding-right: 10px;\n",
       "}\n",
       "\n",
       ".xr-var-name:hover,\n",
       ".xr-var-dims:hover,\n",
       ".xr-var-dtype:hover,\n",
       ".xr-attrs dt:hover {\n",
       "  overflow: visible;\n",
       "  width: auto;\n",
       "  z-index: 1;\n",
       "}\n",
       "\n",
       ".xr-var-attrs,\n",
       ".xr-var-data {\n",
       "  display: none;\n",
       "  background-color: var(--xr-background-color) !important;\n",
       "  padding-bottom: 5px !important;\n",
       "}\n",
       "\n",
       ".xr-var-attrs-in:checked ~ .xr-var-attrs,\n",
       ".xr-var-data-in:checked ~ .xr-var-data {\n",
       "  display: block;\n",
       "}\n",
       "\n",
       ".xr-var-data > table {\n",
       "  float: right;\n",
       "}\n",
       "\n",
       ".xr-var-name span,\n",
       ".xr-var-data,\n",
       ".xr-attrs {\n",
       "  padding-left: 25px !important;\n",
       "}\n",
       "\n",
       ".xr-attrs,\n",
       ".xr-var-attrs,\n",
       ".xr-var-data {\n",
       "  grid-column: 1 / -1;\n",
       "}\n",
       "\n",
       "dl.xr-attrs {\n",
       "  padding: 0;\n",
       "  margin: 0;\n",
       "  display: grid;\n",
       "  grid-template-columns: 125px auto;\n",
       "}\n",
       "\n",
       ".xr-attrs dt,\n",
       ".xr-attrs dd {\n",
       "  padding: 0;\n",
       "  margin: 0;\n",
       "  float: left;\n",
       "  padding-right: 10px;\n",
       "  width: auto;\n",
       "}\n",
       "\n",
       ".xr-attrs dt {\n",
       "  font-weight: normal;\n",
       "  grid-column: 1;\n",
       "}\n",
       "\n",
       ".xr-attrs dt:hover span {\n",
       "  display: inline-block;\n",
       "  background: var(--xr-background-color);\n",
       "  padding-right: 10px;\n",
       "}\n",
       "\n",
       ".xr-attrs dd {\n",
       "  grid-column: 2;\n",
       "  white-space: pre-wrap;\n",
       "  word-break: break-all;\n",
       "}\n",
       "\n",
       ".xr-icon-database,\n",
       ".xr-icon-file-text2 {\n",
       "  display: inline-block;\n",
       "  vertical-align: middle;\n",
       "  width: 1em;\n",
       "  height: 1.5em !important;\n",
       "  stroke-width: 0;\n",
       "  stroke: currentColor;\n",
       "  fill: currentColor;\n",
       "}\n",
       "</style><pre class='xr-text-repr-fallback'>&lt;xarray.Dataset&gt;\n",
       "Dimensions:  (lon: 7680, lat: 4717, time: 36)\n",
       "Coordinates:\n",
       "  * lon      (lon) float64 72.2 72.21 72.22 72.23 ... 136.2 136.2 136.2 136.2\n",
       "  * lat      (lat) float64 55.55 55.55 55.54 55.53 ... 16.28 16.27 16.26 16.25\n",
       "  * time     (time) float64 1.0 2.0 3.0 4.0 5.0 6.0 ... 32.0 33.0 34.0 35.0 36.0\n",
       "Data variables:\n",
       "    tmp      (time, lat, lon) float32 ...</pre><div class='xr-wrap' hidden><div class='xr-header'><div class='xr-obj-type'>xarray.Dataset</div></div><ul class='xr-sections'><li class='xr-section-item'><input id='section-98a5a5d1-e971-459a-9507-d75c1ef6536a' class='xr-section-summary-in' type='checkbox' disabled ><label for='section-98a5a5d1-e971-459a-9507-d75c1ef6536a' class='xr-section-summary'  title='Expand/collapse section'>Dimensions:</label><div class='xr-section-inline-details'><ul class='xr-dim-list'><li><span class='xr-has-index'>lon</span>: 7680</li><li><span class='xr-has-index'>lat</span>: 4717</li><li><span class='xr-has-index'>time</span>: 36</li></ul></div><div class='xr-section-details'></div></li><li class='xr-section-item'><input id='section-fde2f5a2-bca4-4eb5-8fcb-5d75788a7a83' class='xr-section-summary-in' type='checkbox'  checked><label for='section-fde2f5a2-bca4-4eb5-8fcb-5d75788a7a83' class='xr-section-summary' >Coordinates: <span>(3)</span></label><div class='xr-section-inline-details'></div><div class='xr-section-details'><ul class='xr-var-list'><li class='xr-var-item'><div class='xr-var-name'><span class='xr-has-index'>lon</span></div><div class='xr-var-dims'>(lon)</div><div class='xr-var-dtype'>float64</div><div class='xr-var-preview xr-preview'>72.2 72.21 72.22 ... 136.2 136.2</div><input id='attrs-dd7d4cdf-b2e0-47a2-b32e-0eec976eb8d2' class='xr-var-attrs-in' type='checkbox' ><label for='attrs-dd7d4cdf-b2e0-47a2-b32e-0eec976eb8d2' title='Show/Hide attributes'><svg class='icon xr-icon-file-text2'><use xlink:href='#icon-file-text2'></use></svg></label><input id='data-8e5b71b5-ef5e-4198-bbf0-99a9444f3852' class='xr-var-data-in' type='checkbox'><label for='data-8e5b71b5-ef5e-4198-bbf0-99a9444f3852' title='Show/Hide data repr'><svg class='icon xr-icon-database'><use xlink:href='#icon-database'></use></svg></label><div class='xr-var-attrs'><dl class='xr-attrs'><dt><span>long_name :</span></dt><dd>longitude</dd><dt><span>unit :</span></dt><dd>degree</dd></dl></div><div class='xr-var-data'><pre>array([ 72.200212,  72.208545,  72.216878, ..., 136.175212, 136.183545,\n",
       "       136.191878])</pre></div></li><li class='xr-var-item'><div class='xr-var-name'><span class='xr-has-index'>lat</span></div><div class='xr-var-dims'>(lat)</div><div class='xr-var-dtype'>float64</div><div class='xr-var-preview xr-preview'>55.55 55.55 55.54 ... 16.26 16.25</div><input id='attrs-4268a246-0039-4497-b077-34475b6f6684' class='xr-var-attrs-in' type='checkbox' ><label for='attrs-4268a246-0039-4497-b077-34475b6f6684' title='Show/Hide attributes'><svg class='icon xr-icon-file-text2'><use xlink:href='#icon-file-text2'></use></svg></label><input id='data-a467f1bf-036a-4fc0-bb46-8a1a9e7cb0da' class='xr-var-data-in' type='checkbox'><label for='data-a467f1bf-036a-4fc0-bb46-8a1a9e7cb0da' title='Show/Hide data repr'><svg class='icon xr-icon-database'><use xlink:href='#icon-database'></use></svg></label><div class='xr-var-attrs'><dl class='xr-attrs'><dt><span>long_name :</span></dt><dd>latitude</dd><dt><span>unit :</span></dt><dd>degree</dd></dl></div><div class='xr-var-data'><pre>array([55.554628, 55.546294, 55.537961, ..., 16.271294, 16.262961, 16.254628])</pre></div></li><li class='xr-var-item'><div class='xr-var-name'><span class='xr-has-index'>time</span></div><div class='xr-var-dims'>(time)</div><div class='xr-var-dtype'>float64</div><div class='xr-var-preview xr-preview'>1.0 2.0 3.0 4.0 ... 34.0 35.0 36.0</div><input id='attrs-eeb3bfdb-8c8a-497c-9d51-d93909b1136a' class='xr-var-attrs-in' type='checkbox' ><label for='attrs-eeb3bfdb-8c8a-497c-9d51-d93909b1136a' title='Show/Hide attributes'><svg class='icon xr-icon-file-text2'><use xlink:href='#icon-file-text2'></use></svg></label><input id='data-12812355-5023-45a0-870b-2c56d53d606a' class='xr-var-data-in' type='checkbox'><label for='data-12812355-5023-45a0-870b-2c56d53d606a' title='Show/Hide data repr'><svg class='icon xr-icon-database'><use xlink:href='#icon-database'></use></svg></label><div class='xr-var-attrs'><dl class='xr-attrs'><dt><span>long_name :</span></dt><dd>1982.1-1984.12</dd></dl></div><div class='xr-var-data'><pre>array([ 1.,  2.,  3.,  4.,  5.,  6.,  7.,  8.,  9., 10., 11., 12., 13., 14.,\n",
       "       15., 16., 17., 18., 19., 20., 21., 22., 23., 24., 25., 26., 27., 28.,\n",
       "       29., 30., 31., 32., 33., 34., 35., 36.])</pre></div></li></ul></div></li><li class='xr-section-item'><input id='section-e31d76e9-c9c7-4f5b-bc2d-ea6ecdb79446' class='xr-section-summary-in' type='checkbox'  checked><label for='section-e31d76e9-c9c7-4f5b-bc2d-ea6ecdb79446' class='xr-section-summary' >Data variables: <span>(1)</span></label><div class='xr-section-inline-details'></div><div class='xr-section-details'><ul class='xr-var-list'><li class='xr-var-item'><div class='xr-var-name'><span>tmp</span></div><div class='xr-var-dims'>(time, lat, lon)</div><div class='xr-var-dtype'>float32</div><div class='xr-var-preview xr-preview'>...</div><input id='attrs-830f607c-1411-4a0a-b5ac-255ba2532cae' class='xr-var-attrs-in' type='checkbox' ><label for='attrs-830f607c-1411-4a0a-b5ac-255ba2532cae' title='Show/Hide attributes'><svg class='icon xr-icon-file-text2'><use xlink:href='#icon-file-text2'></use></svg></label><input id='data-4c69b102-febd-4b21-b140-ad1eb3252d96' class='xr-var-data-in' type='checkbox'><label for='data-4c69b102-febd-4b21-b140-ad1eb3252d96' title='Show/Hide data repr'><svg class='icon xr-icon-database'><use xlink:href='#icon-database'></use></svg></label><div class='xr-var-attrs'><dl class='xr-attrs'><dt><span>unit :</span></dt><dd>0.1 degree centigrade</dd><dt><span>long_name :</span></dt><dd>monthly mean temperature</dd></dl></div><div class='xr-var-data'><pre>[1304156160 values with dtype=float32]</pre></div></li></ul></div></li><li class='xr-section-item'><input id='section-31de0b6f-8467-493e-a2e6-bcd74344dee4' class='xr-section-summary-in' type='checkbox' disabled ><label for='section-31de0b6f-8467-493e-a2e6-bcd74344dee4' class='xr-section-summary'  title='Expand/collapse section'>Attributes: <span>(0)</span></label><div class='xr-section-inline-details'></div><div class='xr-section-details'><dl class='xr-attrs'></dl></div></li></ul></div></div>"
      ],
      "text/plain": [
       "<xarray.Dataset>\n",
       "Dimensions:  (lon: 7680, lat: 4717, time: 36)\n",
       "Coordinates:\n",
       "  * lon      (lon) float64 72.2 72.21 72.22 72.23 ... 136.2 136.2 136.2 136.2\n",
       "  * lat      (lat) float64 55.55 55.55 55.54 55.53 ... 16.28 16.27 16.26 16.25\n",
       "  * time     (time) float64 1.0 2.0 3.0 4.0 5.0 6.0 ... 32.0 33.0 34.0 35.0 36.0\n",
       "Data variables:\n",
       "    tmp      (time, lat, lon) float32 ..."
      ]
     },
     "execution_count": 7,
     "metadata": {},
     "output_type": "execute_result"
    }
   ],
   "source": [
    "tem_82_84 = xr.open_dataset('/mnt/f/遥感资料/1km_month_tem/tmp_1982_2017/tmp_1982_1984.nc')\n",
    "tem_82_84"
   ]
  },
  {
   "cell_type": "code",
   "execution_count": 5,
   "id": "761a9754",
   "metadata": {},
   "outputs": [
    {
     "ename": "MissingDimensionsError",
     "evalue": "cannot set variable 'tmp' with 3-dimensional data without explicit dimension names. Pass a tuple of (dims, data) instead.",
     "output_type": "error",
     "traceback": [
      "\u001b[0;31m---------------------------------------------------------------------------\u001b[0m",
      "\u001b[0;31mMissingDimensionsError\u001b[0m                    Traceback (most recent call last)",
      "\u001b[1;32m/home/yqr/浅浅做一个湿地.ipynb Cell 3\u001b[0m in \u001b[0;36m<cell line: 12>\u001b[0;34m()\u001b[0m\n\u001b[1;32m     <a href='vscode-notebook-cell://wsl%2Bubuntu-20.04/home/yqr/%E6%B5%85%E6%B5%85%E5%81%9A%E4%B8%80%E4%B8%AA%E6%B9%BF%E5%9C%B0.ipynb#W2sdnNjb2RlLXJlbW90ZQ%3D%3D?line=9'>10</a>\u001b[0m year \u001b[39m=\u001b[39m np\u001b[39m.\u001b[39marray([\u001b[39m1982\u001b[39m,\u001b[39m1983\u001b[39m,\u001b[39m1984\u001b[39m])\n\u001b[1;32m     <a href='vscode-notebook-cell://wsl%2Bubuntu-20.04/home/yqr/%E6%B5%85%E6%B5%85%E5%81%9A%E4%B8%80%E4%B8%AA%E6%B9%BF%E5%9C%B0.ipynb#W2sdnNjb2RlLXJlbW90ZQ%3D%3D?line=10'>11</a>\u001b[0m ndvi \u001b[39m=\u001b[39m xr\u001b[39m.\u001b[39mDataArray(tem_year_8284,coords\u001b[39m=\u001b[39m[year,lon_ndvi,lat_ndvi],dims\u001b[39m=\u001b[39m[\u001b[39m'\u001b[39m\u001b[39mtime\u001b[39m\u001b[39m'\u001b[39m,\u001b[39m'\u001b[39m\u001b[39mlon\u001b[39m\u001b[39m'\u001b[39m,\u001b[39m'\u001b[39m\u001b[39mlat\u001b[39m\u001b[39m'\u001b[39m])\n\u001b[0;32m---> <a href='vscode-notebook-cell://wsl%2Bubuntu-20.04/home/yqr/%E6%B5%85%E6%B5%85%E5%81%9A%E4%B8%80%E4%B8%AA%E6%B9%BF%E5%9C%B0.ipynb#W2sdnNjb2RlLXJlbW90ZQ%3D%3D?line=11'>12</a>\u001b[0m ndvi\u001b[39m=\u001b[39m xr\u001b[39m.\u001b[39;49mDataset({\u001b[39m'\u001b[39;49m\u001b[39mtmp\u001b[39;49m\u001b[39m'\u001b[39;49m:tem_year_8284})\n\u001b[1;32m     <a href='vscode-notebook-cell://wsl%2Bubuntu-20.04/home/yqr/%E6%B5%85%E6%B5%85%E5%81%9A%E4%B8%80%E4%B8%AA%E6%B9%BF%E5%9C%B0.ipynb#W2sdnNjb2RlLXJlbW90ZQ%3D%3D?line=12'>13</a>\u001b[0m ndvi\u001b[39m.\u001b[39mto_netcdf(\u001b[39m'\u001b[39m\u001b[39m/mnt/f/遥感资料/1km_month_tem/tmp_1982_2017/tmp_year_1982_1984.nc\u001b[39m\u001b[39m'\u001b[39m)\n",
      "File \u001b[0;32m~/miniconda3/envs/python/lib/python3.8/site-packages/xarray/core/dataset.py:751\u001b[0m, in \u001b[0;36mDataset.__init__\u001b[0;34m(self, data_vars, coords, attrs)\u001b[0m\n\u001b[1;32m    748\u001b[0m \u001b[39mif\u001b[39;00m \u001b[39misinstance\u001b[39m(coords, Dataset):\n\u001b[1;32m    749\u001b[0m     coords \u001b[39m=\u001b[39m coords\u001b[39m.\u001b[39mvariables\n\u001b[0;32m--> 751\u001b[0m variables, coord_names, dims, indexes, _ \u001b[39m=\u001b[39m merge_data_and_coords(\n\u001b[1;32m    752\u001b[0m     data_vars, coords, compat\u001b[39m=\u001b[39;49m\u001b[39m\"\u001b[39;49m\u001b[39mbroadcast_equals\u001b[39;49m\u001b[39m\"\u001b[39;49m\n\u001b[1;32m    753\u001b[0m )\n\u001b[1;32m    755\u001b[0m \u001b[39mself\u001b[39m\u001b[39m.\u001b[39m_attrs \u001b[39m=\u001b[39m \u001b[39mdict\u001b[39m(attrs) \u001b[39mif\u001b[39;00m attrs \u001b[39mis\u001b[39;00m \u001b[39mnot\u001b[39;00m \u001b[39mNone\u001b[39;00m \u001b[39melse\u001b[39;00m \u001b[39mNone\u001b[39;00m\n\u001b[1;32m    756\u001b[0m \u001b[39mself\u001b[39m\u001b[39m.\u001b[39m_close \u001b[39m=\u001b[39m \u001b[39mNone\u001b[39;00m\n",
      "File \u001b[0;32m~/miniconda3/envs/python/lib/python3.8/site-packages/xarray/core/merge.py:488\u001b[0m, in \u001b[0;36mmerge_data_and_coords\u001b[0;34m(data, coords, compat, join)\u001b[0m\n\u001b[1;32m    486\u001b[0m explicit_coords \u001b[39m=\u001b[39m coords\u001b[39m.\u001b[39mkeys()\n\u001b[1;32m    487\u001b[0m indexes \u001b[39m=\u001b[39m \u001b[39mdict\u001b[39m(_extract_indexes_from_coords(coords))\n\u001b[0;32m--> 488\u001b[0m \u001b[39mreturn\u001b[39;00m merge_core(\n\u001b[1;32m    489\u001b[0m     objects, compat, join, explicit_coords\u001b[39m=\u001b[39;49mexplicit_coords, indexes\u001b[39m=\u001b[39;49mindexes\n\u001b[1;32m    490\u001b[0m )\n",
      "File \u001b[0;32m~/miniconda3/envs/python/lib/python3.8/site-packages/xarray/core/merge.py:637\u001b[0m, in \u001b[0;36mmerge_core\u001b[0;34m(objects, compat, join, combine_attrs, priority_arg, explicit_coords, indexes, fill_value)\u001b[0m\n\u001b[1;32m    633\u001b[0m coerced \u001b[39m=\u001b[39m coerce_pandas_values(objects)\n\u001b[1;32m    634\u001b[0m aligned \u001b[39m=\u001b[39m deep_align(\n\u001b[1;32m    635\u001b[0m     coerced, join\u001b[39m=\u001b[39mjoin, copy\u001b[39m=\u001b[39m\u001b[39mFalse\u001b[39;00m, indexes\u001b[39m=\u001b[39mindexes, fill_value\u001b[39m=\u001b[39mfill_value\n\u001b[1;32m    636\u001b[0m )\n\u001b[0;32m--> 637\u001b[0m collected \u001b[39m=\u001b[39m collect_variables_and_indexes(aligned)\n\u001b[1;32m    639\u001b[0m prioritized \u001b[39m=\u001b[39m _get_priority_vars_and_indexes(aligned, priority_arg, compat\u001b[39m=\u001b[39mcompat)\n\u001b[1;32m    640\u001b[0m variables, out_indexes \u001b[39m=\u001b[39m merge_collected(\n\u001b[1;32m    641\u001b[0m     collected, prioritized, compat\u001b[39m=\u001b[39mcompat, combine_attrs\u001b[39m=\u001b[39mcombine_attrs\n\u001b[1;32m    642\u001b[0m )\n",
      "File \u001b[0;32m~/miniconda3/envs/python/lib/python3.8/site-packages/xarray/core/merge.py:296\u001b[0m, in \u001b[0;36mcollect_variables_and_indexes\u001b[0;34m(list_of_mappings)\u001b[0m\n\u001b[1;32m    293\u001b[0m     indexes\u001b[39m.\u001b[39mpop(name, \u001b[39mNone\u001b[39;00m)\n\u001b[1;32m    294\u001b[0m     append_all(coords, indexes)\n\u001b[0;32m--> 296\u001b[0m variable \u001b[39m=\u001b[39m as_variable(variable, name\u001b[39m=\u001b[39;49mname)\n\u001b[1;32m    298\u001b[0m \u001b[39mif\u001b[39;00m variable\u001b[39m.\u001b[39mdims \u001b[39m==\u001b[39m (name,):\n\u001b[1;32m    299\u001b[0m     idx_variable \u001b[39m=\u001b[39m variable\u001b[39m.\u001b[39mto_index_variable()\n",
      "File \u001b[0;32m~/miniconda3/envs/python/lib/python3.8/site-packages/xarray/core/variable.py:143\u001b[0m, in \u001b[0;36mas_variable\u001b[0;34m(obj, name)\u001b[0m\n\u001b[1;32m    141\u001b[0m     data \u001b[39m=\u001b[39m as_compatible_data(obj)\n\u001b[1;32m    142\u001b[0m     \u001b[39mif\u001b[39;00m data\u001b[39m.\u001b[39mndim \u001b[39m!=\u001b[39m \u001b[39m1\u001b[39m:\n\u001b[0;32m--> 143\u001b[0m         \u001b[39mraise\u001b[39;00m MissingDimensionsError(\n\u001b[1;32m    144\u001b[0m             \u001b[39mf\u001b[39m\u001b[39m\"\u001b[39m\u001b[39mcannot set variable \u001b[39m\u001b[39m{\u001b[39;00mname\u001b[39m!r}\u001b[39;00m\u001b[39m with \u001b[39m\u001b[39m{\u001b[39;00mdata\u001b[39m.\u001b[39mndim\u001b[39m!r}\u001b[39;00m\u001b[39m-dimensional data \u001b[39m\u001b[39m\"\u001b[39m\n\u001b[1;32m    145\u001b[0m             \u001b[39m\"\u001b[39m\u001b[39mwithout explicit dimension names. Pass a tuple of \u001b[39m\u001b[39m\"\u001b[39m\n\u001b[1;32m    146\u001b[0m             \u001b[39m\"\u001b[39m\u001b[39m(dims, data) instead.\u001b[39m\u001b[39m\"\u001b[39m\n\u001b[1;32m    147\u001b[0m         )\n\u001b[1;32m    148\u001b[0m     obj \u001b[39m=\u001b[39m Variable(name, data, fastpath\u001b[39m=\u001b[39m\u001b[39mTrue\u001b[39;00m)\n\u001b[1;32m    149\u001b[0m \u001b[39melse\u001b[39;00m:\n",
      "\u001b[0;31mMissingDimensionsError\u001b[0m: cannot set variable 'tmp' with 3-dimensional data without explicit dimension names. Pass a tuple of (dims, data) instead."
     ]
    }
   ],
   "source": [
    "tem_82_84 = xr.open_dataset('/mnt/f/遥感资料/1km_month_tem/tmp_1982_2017/tmp_1982_1984.nc')\n",
    "tem_year_8284 = np.full((3,7680,4717),np.nan)\n",
    "tem_year_8284[0,:,:] = np.nanmean(tem_82_84.tmp[0:12,:,:])\n",
    "tem_year_8284[1,:,:] = np.nanmean(tem_82_84.tmp[12:24,:,:])\n",
    "tem_year_8284[2,:,:] = np.nanmean(tem_82_84.tmp[24:36,:,:])\n",
    "\n",
    "#创建nc数组\n",
    "lon_ndvi = tem_82_84.lon\n",
    "lat_ndvi = tem_82_84.lat\n",
    "year = np.array([1982,1983,1984])\n",
    "ndvi = xr.DataArray(tem_year_8284,coords=[year,lon_ndvi,lat_ndvi],dims=['time','lon','lat'])\n",
    "ndvi= xr.Dataset({'tmp':tem_year_8284})\n",
    "ndvi.to_netcdf('/mnt/f/遥感资料/1km_month_tem/tmp_1982_2017/tmp_year_1982_1984.nc')"
   ]
  },
  {
   "cell_type": "code",
   "execution_count": null,
   "id": "7110da07",
   "metadata": {},
   "outputs": [],
   "source": [
    "filename = os.listdir('/mnt/f/remote_sensing/1km_month_tem/')\n",
    "\n",
    "tem_year = np.full((36,7680,4717),np.nan)\n",
    "\n",
    "i = 0\n",
    "for file in filename:\n",
    "    inputfile = os.path.join(filename,file)\n",
    "    tem = xr.open_dataset(inputfile)\n",
    "    tem_year[i,:,:] = np.nanmean(tem.tmp[0:12,:,:])\n",
    "    tem_year[i+1,:,:] = np.nanmean(tem.tmp[12:24,:,:])\n",
    "    tem_year[i+2,:,:] = np.nanmean(tem.tmp[24:36,:,:])\n",
    "    i = i + 3"
   ]
  },
  {
   "cell_type": "code",
   "execution_count": 5,
   "id": "58c24b38",
   "metadata": {},
   "outputs": [],
   "source": [
    "#把土地类型数据从tiff转nc，用nc处理\n",
    "import rioxarray\n",
    "tiffile = '/mnt/d/study/大三/湿地保护/数据/1km栅格数据_2020年/ndvi.tif'\n",
    "ncfile = '/mnt/d/study/大三/湿地保护/数据/1km栅格数据_2020年/ndvi.nc'\n",
    "xds = rioxarray.open_rasterio(tiffile)\n",
    "xds.rio.to_raster(ncfile)"
   ]
  },
  {
   "cell_type": "code",
   "execution_count": 3,
   "id": "e9e81c59",
   "metadata": {},
   "outputs": [
    {
     "data": {
      "text/plain": [
       "<matplotlib.collections.QuadMesh at 0x7fc4f0550be0>"
      ]
     },
     "execution_count": 3,
     "metadata": {},
     "output_type": "execute_result"
    },
    {
     "data": {
      "image/png": "[encoded data removed]",
      "text/plain": [
       "<Figure size 640x480 with 1 Axes>"
      ]
     },
     "metadata": {},
     "output_type": "display_data"
    }
   ],
   "source": [
    "shidi_ndvi = xr.open_dataset('/mnt/d/study/大三/湿地保护/数据/1km栅格数据_2020年/ndvi.nc')\n",
    "plt.pcolormesh(shidi_ndvi.Band1)"
   ]
  },
  {
   "cell_type": "code",
   "execution_count": null,
   "id": "edd6ada5",
   "metadata": {},
   "outputs": [],
   "source": [
    "cdo.sellonlatbox( '103.5,104.5,30,31',input = '/mnt/f/cn05/Climite/1982-2015/cn05.1_pre_1982_2015.nc' ,output ='/mnt/f/cn05/Climite/chengdu/cn05.1_pre_1982_2015.nc' )\n",
    "cdo.sellonlatbox( '103.5,104.5,30,31',input = '/mnt/f/cn05/Climite/1982-2015/cn05.1_tm_1982_2015.nc' ,output ='/mnt/f/cn05/Climite/chengdu/cn05.1_tm_1982_2015.nc' )"
   ]
  },
  {
   "cell_type": "code",
   "execution_count": null,
   "id": "827168c4",
   "metadata": {},
   "outputs": [],
   "source": [
    "filename = os.listdir('/mnt/f/NDVI/')\n",
    "for file in filename:\n",
    "    inputfile = os.path.join('/mnt/f/NDVI/',file)\n",
    "    outputfile = os.path.join('/mnt/f/cn05/Climite/chengdu/NDVI_0_1/', file)\n",
    "    cdo.setvrange('0,10000',input= inputfile,output=outputfile)"
   ]
  },
  {
   "cell_type": "code",
   "execution_count": 7,
   "id": "ae93cb8c",
   "metadata": {},
   "outputs": [],
   "source": [
    "filename = os.listdir('/mnt/f/cn05/Climite/chengdu/NDVI_0_1/')\n",
    "for file in filename:\n",
    "    inputfile = os.path.join('/mnt/f/cn05/Climite/chengdu/NDVI_0_1/',file)\n",
    "    outputfile = os.path.join('/mnt/f/cn05/Climite/chengdu/NDVI/', file)\n",
    "    cdo.setgrid('lonlat',input= inputfile,output=outputfile)"
   ]
  },
  {
   "cell_type": "code",
   "execution_count": 8,
   "id": "3c8e0826",
   "metadata": {},
   "outputs": [],
   "source": [
    "filename = os.listdir('/mnt/f/cn05/Climite/chengdu/NDVI/')\n",
    "for file in filename:\n",
    "    inputfile = os.path.join('/mnt/f/cn05/Climite/chengdu/NDVI/',file)\n",
    "    outputfile = os.path.join('/mnt/f/cn05/Climite/chengdu/NDVI_chengdu/', file)\n",
    "    cdo.sellonlatbox('103.5,104.5,30,31',input= inputfile,output=outputfile)"
   ]
  },
  {
   "cell_type": "code",
   "execution_count": 12,
   "id": "0bb1d57b",
   "metadata": {},
   "outputs": [],
   "source": [
    "filename = os.listdir('/mnt/f/cn05/Climite/chengdu/NDVI_chengdu/0106/')\n",
    "i = 1982\n",
    "for file in filename:\n",
    "    inputfile = os.path.join('/mnt/f/cn05/Climite/chengdu/NDVI_chengdu/0106',file)\n",
    "    ndvis = xr.open_dataset(inputfile)\n",
    "    output01=ndvis.ndvi[0:2,:,:]\n",
    "    output02=ndvis.ndvi[2:4,:,:]\n",
    "    output03=ndvis.ndvi[4:6,:,:]\n",
    "    output04=ndvis.ndvi[6:8,:,:]\n",
    "    output05=ndvis.ndvi[8:10,:,:]\n",
    "    output06=ndvis.ndvi[10:12,:,:]\n",
    "    outputfile01 = os.path.join('/mnt/f/cn05/Climite/chengdu/month/',\"{}_01.nc4\" ).format(i)\n",
    "    outputfile02 = os.path.join('/mnt/f/cn05/Climite/chengdu/month/',\"{}_02.nc4\" ).format(i)\n",
    "    outputfile03 = os.path.join('/mnt/f/cn05/Climite/chengdu/month/',\"{}_03.nc4\" ).format(i)\n",
    "    outputfile04 = os.path.join('/mnt/f/cn05/Climite/chengdu/month/',\"{}_04.nc4\" ).format(i)\n",
    "    outputfile05 = os.path.join('/mnt/f/cn05/Climite/chengdu/month/',\"{}_05.nc4\" ).format(i)\n",
    "    outputfile06 = os.path.join('/mnt/f/cn05/Climite/chengdu/month/',\"{}_06.nc4\" ).format(i)\n",
    "    output01.to_netcdf(path = outputfile01)\n",
    "    output02.to_netcdf(path = outputfile02)\n",
    "    output03.to_netcdf(path = outputfile03)\n",
    "    output04.to_netcdf(path = outputfile04)\n",
    "    output05.to_netcdf(path = outputfile05)\n",
    "    output06.to_netcdf(path = outputfile06)\n",
    "    i=i+1"
   ]
  },
  {
   "cell_type": "code",
   "execution_count": 13,
   "id": "e5d229d1",
   "metadata": {},
   "outputs": [],
   "source": [
    "filename = os.listdir('/mnt/f/cn05/Climite/chengdu/NDVI_chengdu/0712/')\n",
    "i = 1982\n",
    "for file in filename:\n",
    "    inputfile = os.path.join('/mnt/f/cn05/Climite/chengdu/NDVI_chengdu/0712',file)\n",
    "    ndvis = xr.open_dataset(inputfile)\n",
    "    output01=ndvis.ndvi[0:2,:,:]\n",
    "    output02=ndvis.ndvi[2:4,:,:]\n",
    "    output03=ndvis.ndvi[4:6,:,:]\n",
    "    output04=ndvis.ndvi[6:8,:,:]\n",
    "    output05=ndvis.ndvi[8:10,:,:]\n",
    "    output06=ndvis.ndvi[10:12,:,:]\n",
    "    outputfile01 = os.path.join('/mnt/f/cn05/Climite/chengdu/month/',\"{}_07.nc4\" ).format(i)\n",
    "    outputfile02 = os.path.join('/mnt/f/cn05/Climite/chengdu/month/',\"{}_08.nc4\" ).format(i)\n",
    "    outputfile03 = os.path.join('/mnt/f/cn05/Climite/chengdu/month/',\"{}_09.nc4\" ).format(i)\n",
    "    outputfile04 = os.path.join('/mnt/f/cn05/Climite/chengdu/month/',\"{}_10.nc4\" ).format(i)\n",
    "    outputfile05 = os.path.join('/mnt/f/cn05/Climite/chengdu/month/',\"{}_11.nc4\" ).format(i)\n",
    "    outputfile06 = os.path.join('/mnt/f/cn05/Climite/chengdu/month/',\"{}_12.nc4\" ).format(i)\n",
    "    output01.to_netcdf(path = outputfile01)\n",
    "    output02.to_netcdf(path = outputfile02)\n",
    "    output03.to_netcdf(path = outputfile03)\n",
    "    output04.to_netcdf(path = outputfile04)\n",
    "    output05.to_netcdf(path = outputfile05)\n",
    "    output06.to_netcdf(path = outputfile06)\n",
    "    i=i+1"
   ]
  },
  {
   "cell_type": "code",
   "execution_count": 2,
   "id": "ee2d98fa",
   "metadata": {},
   "outputs": [],
   "source": [
    "def MCV(ndvi):\n",
    "    NDVI=np.nanmax(ndvi,axis=0)\n",
    "    return NDVI"
   ]
  },
  {
   "cell_type": "code",
   "execution_count": 3,
   "id": "f11e502f",
   "metadata": {},
   "outputs": [],
   "source": [
    "NDVI_matrix =np.full((408,12,12),fill_value=np.nan)\n",
    "path = '/mnt/f/cn05/Climite/chengdu/month/'\n",
    "filename = os.listdir(path)\n",
    "i = 0\n",
    "for file in filename:\n",
    "    inputfile = os.path.join(path,file)\n",
    "    input_ndvi = xr.open_dataset(inputfile)\n",
    "    NDVI_matrix[i,:,:] = MCV(input_ndvi.ndvi)\n",
    "    i=i+1"
   ]
  },
  {
   "cell_type": "code",
   "execution_count": 4,
   "id": "ab6d0e3a",
   "metadata": {},
   "outputs": [],
   "source": [
    "def MEAN(ndvi):\n",
    "    NDVI=np.nanmean(ndvi,axis=0)\n",
    "    return NDVI\n",
    "\n",
    "year_NDVI = np.full((34,12,12),fill_value=np.nan)\n",
    "\n",
    "i = 0\n",
    "for j in range(34):\n",
    "    year_NDVI[j,:,:]=MEAN(NDVI_matrix[i:i+12,:,:])\n",
    "    i=i+12"
   ]
  },
  {
   "cell_type": "code",
   "execution_count": 5,
   "id": "98e5616c",
   "metadata": {},
   "outputs": [],
   "source": [
    "area_mean_NDVI = np.full(34,fill_value=np.nan)\n",
    "i = 0\n",
    "for j in range(34):\n",
    "    area_mean_NDVI[i] = np.nanmean(year_NDVI[j,:,:])\n",
    "    i = i + 1"
   ]
  },
  {
   "cell_type": "code",
   "execution_count": 5,
   "id": "ebecc160",
   "metadata": {},
   "outputs": [
    {
     "ename": "NameError",
     "evalue": "name 'area_mean_NDVI' is not defined",
     "output_type": "error",
     "traceback": [
      "\u001b[0;31m---------------------------------------------------------------------------\u001b[0m",
      "\u001b[0;31mNameError\u001b[0m                                 Traceback (most recent call last)",
      "\u001b[1;32m/home/yqr/浅浅做一个湿地.ipynb 单元格 17\u001b[0m in \u001b[0;36m<cell line: 1>\u001b[0;34m()\u001b[0m\n\u001b[0;32m----> <a href='vscode-notebook-cell://wsl%2Bubuntu-20.04/home/yqr/%E6%B5%85%E6%B5%85%E5%81%9A%E4%B8%80%E4%B8%AA%E6%B9%BF%E5%9C%B0.ipynb#X22sdnNjb2RlLXJlbW90ZQ%3D%3D?line=0'>1</a>\u001b[0m Mean_NDVI\u001b[39m=\u001b[39marea_mean_NDVI\u001b[39m/\u001b[39m\u001b[39m10000\u001b[39m\n\u001b[1;32m      <a href='vscode-notebook-cell://wsl%2Bubuntu-20.04/home/yqr/%E6%B5%85%E6%B5%85%E5%81%9A%E4%B8%80%E4%B8%AA%E6%B9%BF%E5%9C%B0.ipynb#X22sdnNjb2RlLXJlbW90ZQ%3D%3D?line=1'>2</a>\u001b[0m Mean_NDVI\n",
      "\u001b[0;31mNameError\u001b[0m: name 'area_mean_NDVI' is not defined"
     ]
    }
   ],
   "source": [
    "Mean_NDVI=area_mean_NDVI/10000\n",
    "Mean_NDVI"
   ]
  },
  {
   "cell_type": "code",
   "execution_count": 3,
   "id": "4f637417",
   "metadata": {},
   "outputs": [],
   "source": [
    "Mean_NDVI = np.array([0.56921632, 0.56245417, 0.54374618, 0.54787552, 0.57630388,0.56874583, 0.55514126, 0.55977841, 0.58282465, 0.57699769,0.55975093, 0.5439684 , 0.53296071, 0.5775202 , 0.56866719,0.55482824, 0.56794902, 0.55420226, 0.53228299, 0.54618953,0.57108692, 0.54614763, 0.56971927, 0.55697789, 0.57850284,0.56236169, 0.56385654, 0.54091296, 0.5599331 , 0.5796173 ,0.54044659, 0.57044404, 0.57915492, 0.58693119])"
   ]
  },
  {
   "cell_type": "code",
   "execution_count": 4,
   "id": "bfb6f5f9",
   "metadata": {},
   "outputs": [],
   "source": [
    "Mean_tm = np.array([15.13678741, 15.42730808, 14.9689312 , 15.19445419, 15.18932533,15.94319153, 15.13546944, 15.07220936, 15.79996109, 15.59584618,15.13807869, 15.41093349, 16.03179932, 15.66666603, 15.07892036,15.89861298, 16.58696747, 16.00185394, 15.76689529, 16.33409691,16.38202858, 16.2171917 , 16.01578331, 15.89859581, 16.78046799,16.7372818 , 16.11341476, 16.51630592, 16.09251404, 15.97434807,15.78709698, 16.98282242, 16.23069572, 17.06403351])"
   ]
  },
  {
   "cell_type": "code",
   "execution_count": 5,
   "id": "89d91fe6",
   "metadata": {},
   "outputs": [],
   "source": [
    "Mean_pre = np.array([2.54923749, 2.51485109, 3.17142487, 2.96834779, 2.27285028,2.43934107, 3.12854195, 2.51198602, 3.24033833, 2.03235221,2.5823307 , 2.17458129, 2.20749283, 2.95751333, 2.23811555,2.16241121, 2.87676954, 2.75126338, 2.13695455, 2.92373395,2.29536057, 2.21692204, 2.32889295, 2.54149604, 1.83097565,2.14120293, 2.59946966, 2.29832196, 2.54832268, 2.3960762 ,2.34846258, 3.93128848, 3.28444648, 2.99394989])"
   ]
  },
  {
   "cell_type": "code",
   "execution_count": 10,
   "id": "8ad626ff",
   "metadata": {},
   "outputs": [
    {
     "data": {
      "text/plain": [
       "array([15.13678741, 15.42730808, 14.9689312 , 15.19445419, 15.18932533,\n",
       "       15.94319153, 15.13546944, 15.07220936, 15.79996109, 15.59584618,\n",
       "       15.13807869, 15.41093349, 16.03179932, 15.66666603, 15.07892036,\n",
       "       15.89861298, 16.58696747, 16.00185394, 15.76689529, 16.33409691,\n",
       "       16.38202858, 16.2171917 , 16.01578331, 15.89859581, 16.78046799,\n",
       "       16.7372818 , 16.11341476, 16.51630592, 16.09251404, 15.97434807,\n",
       "       15.78709698, 16.98282242, 16.23069572, 17.06403351])"
      ]
     },
     "execution_count": 10,
     "metadata": {},
     "output_type": "execute_result"
    }
   ],
   "source": [
    "Mean_tm =np.full(34,fill_value=np.nan)\n",
    "path = '/mnt/f/cn05/Climite/chengdu/tm/'\n",
    "filename = os.listdir(path)\n",
    "i = 0\n",
    "for file in filename:\n",
    "    inputfile = os.path.join(path,file)\n",
    "    tm = xr.open_dataset(inputfile)\n",
    "    Mean_tm[i] = np.nanmean(tm.tm)\n",
    "    i = i + 1\n",
    "Mean_tm"
   ]
  },
  {
   "cell_type": "code",
   "execution_count": 11,
   "id": "a5e78076",
   "metadata": {},
   "outputs": [
    {
     "data": {
      "text/plain": [
       "15.887379085316377"
      ]
     },
     "execution_count": 11,
     "metadata": {},
     "output_type": "execute_result"
    }
   ],
   "source": [
    "np.mean(Mean_tm)"
   ]
  },
  {
   "cell_type": "code",
   "execution_count": 12,
   "id": "49c825eb",
   "metadata": {},
   "outputs": [
    {
     "data": {
      "text/plain": [
       "array([2.54923749, 2.51485109, 3.17142487, 2.96834779, 2.27285028,\n",
       "       2.43934107, 3.12854195, 2.51198602, 3.24033833, 2.03235221,\n",
       "       2.5823307 , 2.17458129, 2.20749283, 2.95751333, 2.23811555,\n",
       "       2.16241121, 2.87676954, 2.75126338, 2.13695455, 2.92373395,\n",
       "       2.29536057, 2.21692204, 2.32889295, 2.54149604, 1.83097565,\n",
       "       2.14120293, 2.59946966, 2.29832196, 2.54832268, 2.3960762 ,\n",
       "       2.34846258, 3.93128848, 3.28444648, 2.99394989])"
      ]
     },
     "execution_count": 12,
     "metadata": {},
     "output_type": "execute_result"
    }
   ],
   "source": [
    "Mean_pre =np.full(34,fill_value=np.nan)\n",
    "path = '/mnt/f/cn05/Climite/chengdu/pre/'\n",
    "filename = os.listdir(path)\n",
    "\n",
    "i = 0\n",
    "for file in filename:\n",
    "    inputfile = os.path.join(path,file)\n",
    "    pre = xr.open_dataset(inputfile)\n",
    "    Mean_pre[i] = np.nanmean(pre.pre)\n",
    "    i = i +1\n",
    "Mean_pre"
   ]
  },
  {
   "cell_type": "code",
   "execution_count": 13,
   "id": "611c0fee",
   "metadata": {},
   "outputs": [
    {
     "data": {
      "text/plain": [
       "2.576341927051544"
      ]
     },
     "execution_count": 13,
     "metadata": {},
     "output_type": "execute_result"
    }
   ],
   "source": [
    "np.mean(Mean_pre)"
   ]
  },
  {
   "cell_type": "code",
   "execution_count": 4,
   "id": "c0d19352",
   "metadata": {},
   "outputs": [
    {
     "ename": "NameError",
     "evalue": "name 'Mean_tm' is not defined",
     "output_type": "error",
     "traceback": [
      "\u001b[0;31m---------------------------------------------------------------------------\u001b[0m",
      "\u001b[0;31mNameError\u001b[0m                                 Traceback (most recent call last)",
      "\u001b[1;32m/home/yqr/浅浅做一个湿地.ipynb 单元格 25\u001b[0m in \u001b[0;36m<cell line: 2>\u001b[0;34m()\u001b[0m\n\u001b[1;32m      <a href='vscode-notebook-cell://wsl%2Bubuntu-20.04/home/yqr/%E6%B5%85%E6%B5%85%E5%81%9A%E4%B8%80%E4%B8%AA%E6%B9%BF%E5%9C%B0.ipynb#X33sdnNjb2RlLXJlbW90ZQ%3D%3D?line=0'>1</a>\u001b[0m year \u001b[39m=\u001b[39m np\u001b[39m.\u001b[39marange(\u001b[39m1982\u001b[39m,\u001b[39m2016\u001b[39m,\u001b[39m1\u001b[39m)\n\u001b[0;32m----> <a href='vscode-notebook-cell://wsl%2Bubuntu-20.04/home/yqr/%E6%B5%85%E6%B5%85%E5%81%9A%E4%B8%80%E4%B8%AA%E6%B9%BF%E5%9C%B0.ipynb#X33sdnNjb2RlLXJlbW90ZQ%3D%3D?line=1'>2</a>\u001b[0m s1,d1,r1,p1,_ \u001b[39m=\u001b[39m linregress(year,Mean_tm)\n\u001b[1;32m      <a href='vscode-notebook-cell://wsl%2Bubuntu-20.04/home/yqr/%E6%B5%85%E6%B5%85%E5%81%9A%E4%B8%80%E4%B8%AA%E6%B9%BF%E5%9C%B0.ipynb#X33sdnNjb2RlLXJlbW90ZQ%3D%3D?line=2'>3</a>\u001b[0m s2,d2,r2,p2,_\u001b[39m=\u001b[39mlinregress(year,Mean_pre)\n\u001b[1;32m      <a href='vscode-notebook-cell://wsl%2Bubuntu-20.04/home/yqr/%E6%B5%85%E6%B5%85%E5%81%9A%E4%B8%80%E4%B8%AA%E6%B9%BF%E5%9C%B0.ipynb#X33sdnNjb2RlLXJlbW90ZQ%3D%3D?line=3'>4</a>\u001b[0m s3,d3,r3,p3,_\u001b[39m=\u001b[39mlinregress(year,Mean_NDVI)\n",
      "\u001b[0;31mNameError\u001b[0m: name 'Mean_tm' is not defined"
     ]
    }
   ],
   "source": [
    "year = np.arange(1982,2016,1)\n",
    "s1,d1,r1,p1,_ = linregress(year,Mean_tm)\n",
    "s2,d2,r2,p2,_=linregress(year,Mean_pre)\n",
    "s3,d3,r3,p3,_=linregress(year,Mean_NDVI)\n",
    "print(s1,d1,r1,p1,s2,d2,r2,p2,s3,d3,r3,p3)"
   ]
  },
  {
   "cell_type": "code",
   "execution_count": 2,
   "id": "ef9c897f",
   "metadata": {},
   "outputs": [],
   "source": [
    "year = np.arange(1982,2016,1)\n",
    "s1 = 0.04537270111014044 \n",
    "d1 = -74.78996408329928 \n",
    "s2 = 0.0018003883937372333 \n",
    "d2 = -1.0217342778323166 \n",
    "s3 = 0.00017365916694960868 \n",
    "p3 = 0.21433910304020481"
   ]
  },
  {
   "cell_type": "code",
   "execution_count": 3,
   "id": "92bea720",
   "metadata": {},
   "outputs": [
    {
     "ename": "NameError",
     "evalue": "name 'Mean_tm' is not defined",
     "output_type": "error",
     "traceback": [
      "\u001b[0;31m---------------------------------------------------------------------------\u001b[0m",
      "\u001b[0;31mNameError\u001b[0m                                 Traceback (most recent call last)",
      "\u001b[1;32m/home/yqr/浅浅做一个湿地.ipynb 单元格 27\u001b[0m in \u001b[0;36m<cell line: 5>\u001b[0;34m()\u001b[0m\n\u001b[1;32m      <a href='vscode-notebook-cell://wsl%2Bubuntu-20.04/home/yqr/%E6%B5%85%E6%B5%85%E5%81%9A%E4%B8%80%E4%B8%AA%E6%B9%BF%E5%9C%B0.ipynb#X35sdnNjb2RlLXJlbW90ZQ%3D%3D?line=2'>3</a>\u001b[0m fig1\u001b[39m=\u001b[39mplt\u001b[39m.\u001b[39mfigure(figsize\u001b[39m=\u001b[39m(\u001b[39m8\u001b[39m,\u001b[39m7\u001b[39m))\n\u001b[1;32m      <a href='vscode-notebook-cell://wsl%2Bubuntu-20.04/home/yqr/%E6%B5%85%E6%B5%85%E5%81%9A%E4%B8%80%E4%B8%AA%E6%B9%BF%E5%9C%B0.ipynb#X35sdnNjb2RlLXJlbW90ZQ%3D%3D?line=3'>4</a>\u001b[0m ax2 \u001b[39m=\u001b[39m fig1\u001b[39m.\u001b[39madd_axes([\u001b[39m0.0\u001b[39m,\u001b[39m0.0\u001b[39m,\u001b[39m0.5\u001b[39m,\u001b[39m0.4\u001b[39m])\n\u001b[0;32m----> <a href='vscode-notebook-cell://wsl%2Bubuntu-20.04/home/yqr/%E6%B5%85%E6%B5%85%E5%81%9A%E4%B8%80%E4%B8%AA%E6%B9%BF%E5%9C%B0.ipynb#X35sdnNjb2RlLXJlbW90ZQ%3D%3D?line=4'>5</a>\u001b[0m ax2 \u001b[39m.\u001b[39mplot(year,Mean_tm,lw\u001b[39m=\u001b[39m\u001b[39m0.8\u001b[39m,marker\u001b[39m=\u001b[39m\u001b[39m'\u001b[39m\u001b[39mo\u001b[39m\u001b[39m'\u001b[39m,color\u001b[39m=\u001b[39m\u001b[39m'\u001b[39m\u001b[39mk\u001b[39m\u001b[39m'\u001b[39m,ms\u001b[39m=\u001b[39m\u001b[39m'\u001b[39m\u001b[39m4\u001b[39m\u001b[39m'\u001b[39m)\n\u001b[1;32m      <a href='vscode-notebook-cell://wsl%2Bubuntu-20.04/home/yqr/%E6%B5%85%E6%B5%85%E5%81%9A%E4%B8%80%E4%B8%AA%E6%B9%BF%E5%9C%B0.ipynb#X35sdnNjb2RlLXJlbW90ZQ%3D%3D?line=5'>6</a>\u001b[0m ax2\u001b[39m.\u001b[39mset_title(\u001b[39m'\u001b[39m\u001b[39mA \u001b[39m\u001b[39m'\u001b[39m,fontsize\u001b[39m=\u001b[39m\u001b[39m14\u001b[39m,loc\u001b[39m=\u001b[39m\u001b[39m'\u001b[39m\u001b[39mleft\u001b[39m\u001b[39m'\u001b[39m)\n\u001b[1;32m      <a href='vscode-notebook-cell://wsl%2Bubuntu-20.04/home/yqr/%E6%B5%85%E6%B5%85%E5%81%9A%E4%B8%80%E4%B8%AA%E6%B9%BF%E5%9C%B0.ipynb#X35sdnNjb2RlLXJlbW90ZQ%3D%3D?line=6'>7</a>\u001b[0m ax2\u001b[39m.\u001b[39mplot(year,s1\u001b[39m*\u001b[39myear\u001b[39m+\u001b[39md1,\u001b[39m'\u001b[39m\u001b[39mk--\u001b[39m\u001b[39m'\u001b[39m,lw\u001b[39m=\u001b[39m\u001b[39m0.7\u001b[39m)\n",
      "\u001b[0;31mNameError\u001b[0m: name 'Mean_tm' is not defined"
     ]
    },
    {
     "name": "stderr",
     "output_type": "stream",
     "text": [
      "findfont: Font family ['Times New Roman'] not found. Falling back to DejaVu Sans.\n"
     ]
    },
    {
     "data": {
      "image/png": "[encoded data removed]",
      "text/plain": [
       "<Figure size 800x700 with 1 Axes>"
      ]
     },
     "metadata": {},
     "output_type": "display_data"
    }
   ],
   "source": [
    "plt.rcParams['font.family'] = 'Times New Roman'\n",
    "plt.rcParams['font.size'] = '12'\n",
    "fig1=plt.figure(figsize=(8,7))\n",
    "ax2 = fig1.add_axes([0.0,0.0,0.5,0.4])\n",
    "ax2 .plot(year,Mean_tm,lw=0.8,marker='o',color='k',ms='4')\n",
    "ax2.set_title('A ',fontsize=14,loc='left')\n",
    "ax2.plot(year,s1*year+d1,'k--',lw=0.7)\n",
    "ax2.set_xlabel('Year')\n",
    "ax2.set_ylabel('℃')\n",
    "ax2.text(2001,15.5,'y=0.0454x-74.79 ')\n",
    "ax2.text(2001,15.3,'R²=0.61  p<0.01')\n",
    "ax1=fig1.add_axes([0.0,-0.55,0.5,0.4])\n",
    "ax1 .plot(year,Mean_pre,lw=0.8,marker='o',color='k',ms='4')\n",
    "ax1.set_title('B ',fontsize=14,loc='left')\n",
    "ax1.plot(year,s2*year+d2,'k--',lw=0.7)\n",
    "ax1.set_xlabel('Year')\n",
    "ax1.set_ylabel('mm')\n",
    "ax1.text(1995,3.5,'y=0.0018x-1.02 ')\n",
    "ax1.text(1995,3.3,'R²=0.002 ')"
   ]
  },
  {
   "cell_type": "code",
   "execution_count": 37,
   "id": "47eae055",
   "metadata": {},
   "outputs": [
    {
     "data": {
      "text/plain": [
       "Text(1996, 0.58, 'R²=0.01')"
      ]
     },
     "execution_count": 37,
     "metadata": {},
     "output_type": "execute_result"
    },
    {
     "data": {
      "image/png": "[encoded data removed]",
      "text/plain": [
       "<Figure size 576x504 with 1 Axes>"
      ]
     },
     "metadata": {
      "needs_background": "light"
     },
     "output_type": "display_data"
    }
   ],
   "source": [
    "fig2=plt.figure(figsize=(8,7))\n",
    "ax3 = fig2.add_axes([0.0,0.0,0.5,0.4])\n",
    "ax3 .plot(year,Mean_NDVI,lw=0.8,marker='o',color='k',ms='4')\n",
    "ax3.plot(year,s3*year+d3,'k--',lw=0.7)\n",
    "ax3.set_xlabel('Year')\n",
    "ax3.set_ylabel('NDVI')\n",
    "ax3.text(1995,0.585,'y=0.00017x+0.2143 ')\n",
    "ax3.text(1996,0.58,'R²=0.01')"
   ]
  },
  {
   "cell_type": "code",
   "execution_count": 38,
   "id": "e37a881f",
   "metadata": {},
   "outputs": [
    {
     "data": {
      "text/plain": [
       "(0.2084814696837744, 0.23671744418733018)"
      ]
     },
     "execution_count": 38,
     "metadata": {},
     "output_type": "execute_result"
    }
   ],
   "source": [
    "R,P=pearsonr(Mean_tm,Mean_NDVI)\n",
    "R,P"
   ]
  },
  {
   "cell_type": "code",
   "execution_count": 39,
   "id": "8069d46e",
   "metadata": {},
   "outputs": [
    {
     "data": {
      "text/plain": [
       "(0.20032511007570192, 0.25597499444301697)"
      ]
     },
     "execution_count": 39,
     "metadata": {},
     "output_type": "execute_result"
    }
   ],
   "source": [
    "R2,P2=pearsonr(Mean_pre,Mean_NDVI)\n",
    "R2,P2"
   ]
  },
  {
   "cell_type": "code",
   "execution_count": 40,
   "id": "ffce4473",
   "metadata": {},
   "outputs": [],
   "source": [
    "ndvi_trend=signal.detrend(Mean_NDVI,axis=0,type='linear')\n",
    "tm_trend =signal.detrend(Mean_tm,axis=0,type='linear')\n",
    "pre_trend =signal.detrend(Mean_pre,axis=0,type='linear')"
   ]
  },
  {
   "cell_type": "code",
   "execution_count": 41,
   "id": "42cdee51",
   "metadata": {},
   "outputs": [
    {
     "data": {
      "text/plain": [
       "(0.1872629716938068, 0.28891904650345795)"
      ]
     },
     "execution_count": 41,
     "metadata": {},
     "output_type": "execute_result"
    }
   ],
   "source": [
    "R3,P3=pearsonr(tm_trend,ndvi_trend)\n",
    "R3,P3"
   ]
  },
  {
   "cell_type": "code",
   "execution_count": 42,
   "id": "4bb1ed2d",
   "metadata": {},
   "outputs": [
    {
     "data": {
      "text/plain": [
       "(0.19711551946081174, 0.2638292162705873)"
      ]
     },
     "execution_count": 42,
     "metadata": {},
     "output_type": "execute_result"
    }
   ],
   "source": [
    "R4,P4=pearsonr(pre_trend,ndvi_trend)\n",
    "R4,P4"
   ]
  },
  {
   "cell_type": "code",
   "execution_count": 14,
   "id": "0aa1cf21",
   "metadata": {},
   "outputs": [],
   "source": [
    "from sklearn import linear_model"
   ]
  },
  {
   "cell_type": "code",
   "execution_count": 21,
   "id": "93dedc04",
   "metadata": {},
   "outputs": [],
   "source": [
    "lin=linear_model.LinearRegression(fit_intercept=True)"
   ]
  },
  {
   "cell_type": "code",
   "execution_count": 16,
   "id": "1826b902",
   "metadata": {},
   "outputs": [],
   "source": [
    "Mean_NDVI2=Mean_NDVI.reshape(34,1)\n",
    "Mean_tm2=Mean_tm.reshape(34,1)\n",
    "Mean_pre2=Mean_pre.reshape(34,1)\n",
    "ttt=np.concatenate((Mean_tm2,Mean_pre2),axis=1)"
   ]
  },
  {
   "cell_type": "code",
   "execution_count": 20,
   "id": "da8abc32",
   "metadata": {},
   "outputs": [],
   "source": [
    "z_scaler = preprocessing.StandardScaler()\n",
    "trendX_z =z_scaler.fit_transform(ttt)\n",
    "trendndvi_z=z_scaler.fit_transform(Mean_NDVI2)"
   ]
  },
  {
   "cell_type": "code",
   "execution_count": 22,
   "id": "def50776",
   "metadata": {},
   "outputs": [
    {
     "name": "stdout",
     "output_type": "stream",
     "text": [
      "[[0.19430389 0.18547245]]\n",
      "[4.35015377e-15]\n"
     ]
    }
   ],
   "source": [
    "exaple=lin.fit(trendX_z,trendndvi_z)\n",
    "print(exaple.coef_)\n",
    "print(exaple.intercept_)"
   ]
  },
  {
   "cell_type": "code",
   "execution_count": 36,
   "id": "a9e3279a",
   "metadata": {},
   "outputs": [
    {
     "data": {
      "text/plain": [
       "<matplotlib.legend.Legend at 0x7f2cf6766df0>"
      ]
     },
     "execution_count": 36,
     "metadata": {},
     "output_type": "execute_result"
    },
    {
     "data": {
      "image/png": "[encoded data removed]",
      "text/plain": [
       "<Figure size 432x288 with 1 Axes>"
      ]
     },
     "metadata": {
      "needs_background": "light"
     },
     "output_type": "display_data"
    }
   ],
   "source": [
    "plt.scatter(trendX_z[:,0],trendndvi_z,label='tm',color='r')\n",
    "plt.scatter(trendX_z[:,1],trendndvi_z,label='pre',color='b')\n",
    "plt.ylabel('NDVI')\n",
    "plt.legend(loc='best',fontsize=8)"
   ]
  },
  {
   "cell_type": "code",
   "execution_count": null,
   "id": "301c1e5d",
   "metadata": {},
   "outputs": [],
   "source": []
  }
 ],
 "metadata": {
  "kernelspec": {
   "display_name": "python",
   "language": "python",
   "name": "python3"
  },
  "language_info": {
   "codemirror_mode": {
    "name": "ipython",
    "version": 3
   },
   "file_extension": ".py",
   "mimetype": "text/x-python",
   "name": "python",
   "nbconvert_exporter": "python",
   "pygments_lexer": "ipython3",
   "version": "3.8.0"
  },
  "toc": {
   "base_numbering": 1,
   "nav_menu": {},
   "number_sections": true,
   "sideBar": true,
   "skip_h1_title": false,
   "title_cell": "Table of Contents",
   "title_sidebar": "Contents",
   "toc_cell": false,
   "toc_position": {},
   "toc_section_display": true,
   "toc_window_display": false
  },
  "varInspector": {
   "cols": {
    "lenName": 16,
    "lenType": 16,
    "lenVar": 40
   },
   "kernels_config": {
    "python": {
     "delete_cmd_postfix": "",
     "delete_cmd_prefix": "del ",
     "library": "var_list.py",
     "varRefreshCmd": "print(var_dic_list())"
    },
    "r": {
     "delete_cmd_postfix": ") ",
     "delete_cmd_prefix": "rm(",
     "library": "var_list.r",
     "varRefreshCmd": "cat(var_dic_list()) "
    }
   },
   "types_to_exclude": [
    "module",
    "function",
    "builtin_function_or_method",
    "instance",
    "_Feature"
   ],
   "window_display": false
  },
  "vscode": {
   "interpreter": {
    "hash": "eba85198518481e6d865b398799ef7adbe3cdaefd612840451b36e3f719c83a3"
   }
  }
 },
 "nbformat": 4,
 "nbformat_minor": 5
}
