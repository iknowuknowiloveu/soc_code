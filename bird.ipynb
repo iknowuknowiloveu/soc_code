{
 "cells": [
  {
   "cell_type": "code",
   "execution_count": 1,
   "metadata": {},
   "outputs": [],
   "source": [
    "import numpy as np\n",
    "import xarray as xr\n",
    "import os\n",
    "from cdo import *\n",
    "from cdo import Cdo\n",
    "cdo = Cdo()\n",
    "\n",
    "import geopandas as geo\n",
    "import matplotlib.pyplot as plt\n",
    "import salem\n"
   ]
  },
  {
   "cell_type": "markdown",
   "metadata": {},
   "source": [
    "## 裁剪？"
   ]
  },
  {
   "cell_type": "code",
   "execution_count": 2,
   "metadata": {},
   "outputs": [],
   "source": [
    "#导入shp\n",
    "cornwall_shp = geo.read_file('/mnt/d/work/lyn/data/CTYUA_DEC_2024_UK_BFC.shp')\n",
    "#导入需要裁剪的数据\n",
    "\n",
    "tm = '/mnt/d/work/lyn/data/tm.nc'\n",
    "pre = '/mnt/d/work/lyn/data/pre.nc'\n",
    "\n",
    "\n",
    "input = xr.open_dataset(tm)\n",
    "input = input.t2m\n",
    "output = input.salem.roi(shape = cornwall_shp)\n",
    "outputfile = '/mnt/d/work/lyn/data/tm_clip.nc'\n",
    "output.to_netcdf(path = outputfile)\n",
    "\n",
    "input = xr.open_dataset(pre)\n",
    "input = input.tp\n",
    "output = input.salem.roi(shape = cornwall_shp)\n",
    "outputfile = '/mnt/d/work/lyn/data/pre_clip.nc'\n",
    "output.to_netcdf(path = outputfile)"
   ]
  },
  {
   "cell_type": "markdown",
   "metadata": {},
   "source": [
    "## 分别计算月和年平均"
   ]
  },
  {
   "cell_type": "code",
   "execution_count": 18,
   "metadata": {},
   "outputs": [
    {
     "name": "stdout",
     "output_type": "stream",
     "text": [
      "✅ 处理完成，已保存 CSV 文件！\n"
     ]
    }
   ],
   "source": [
    "import xarray as xr\n",
    "import pandas as pd\n",
    "\n",
    "# 1️⃣ 读取 NetCDF 数据\n",
    "ds = xr.open_dataset('/mnt/d/work/lyn/data/pre_clip.nc')  # 替换为你的文件路径\n",
    "\n",
    "# 确保时间维度名称正确\n",
    "time_dim = \"valid_time\" if \"valid_time\" in ds.dims else \"time\"\n",
    "\n",
    "# 2️⃣ 获取降水数据（转换单位 m → mm）\n",
    "pre = ds[\"tp\"] * 1000  # 变量名是 \"tp\"，单位从 m 转换为 mm\n",
    "\n",
    "# 3️⃣ 计算年尺度降水累积值（对整个区域求和）\n",
    "pre_annual = pre.groupby(f\"{time_dim}.year\").sum(dim=time_dim, skipna=True).sum(dim=[\"latitude\", \"longitude\"])\n",
    "\n",
    "# 4️⃣ 计算季节尺度降水累积值\n",
    "seasons = {\n",
    "    \"DJF\": [12, 1, 2],  # 冬季\n",
    "    \"MAM\": [3, 4, 5],   # 春季\n",
    "    \"JJA\": [6, 7, 8],   # 夏季\n",
    "    \"SON\": [9, 10, 11]  # 秋季\n",
    "}\n",
    "\n",
    "# 创建空的 DataFrame 来存储季节累积值\n",
    "seasonal_data = []\n",
    "\n",
    "for season, months in seasons.items():\n",
    "    pre_season = pre.sel({time_dim: pre[time_dim].dt.month.isin(months)})\n",
    "    pre_season = pre_season.groupby(f\"{time_dim}.year\").sum(dim=time_dim, skipna=True).sum(dim=[\"latitude\", \"longitude\"])\n",
    "    \n",
    "    # 转换为 Pandas DataFrame 并添加季节信息\n",
    "    df_season = pre_season.to_dataframe().reset_index()\n",
    "    df_season[\"season\"] = season\n",
    "    seasonal_data.append(df_season)\n",
    "\n",
    "# 合并所有季节数据\n",
    "df_seasonal = pd.concat(seasonal_data)\n",
    "\n",
    "# 5️⃣ 保存 CSV 文件\n",
    "df_annual = pre_annual.to_dataframe().reset_index()\n",
    "\n",
    "# 保存为 CSV 文件\n",
    "df_annual.to_csv('/mnt/d/work/lyn/data/pre_annual.csv', index=False)\n",
    "df_seasonal.to_csv('/mnt/d/work/lyn/data/pre_seasonal.csv', index=False)\n",
    "\n",
    "print(\"✅ 处理完成，已保存 CSV 文件！\")\n"
   ]
  },
  {
   "cell_type": "code",
   "execution_count": 19,
   "metadata": {},
   "outputs": [
    {
     "name": "stdout",
     "output_type": "stream",
     "text": [
      "✅ 处理完成，已保存 CSV 文件！\n"
     ]
    }
   ],
   "source": [
    "import xarray as xr\n",
    "import pandas as pd\n",
    "\n",
    "# 1️⃣ 读取 NetCDF 数据\n",
    "ds = xr.open_dataset('/mnt/d/work/lyn/data/tm_clip.nc')  # 替换为你的文件路径\n",
    "\n",
    "# 确保时间维度名称正确\n",
    "time_dim = \"valid_time\" if \"valid_time\" in ds.dims else \"time\"\n",
    "\n",
    "# 2️⃣ 获取温度数据（转换单位 K → °C）\n",
    "temp = ds[\"t2m\"] - 273.15  # 变量名是 \"t2m\"，单位从 K 转换为 °C\n",
    "\n",
    "# 3️⃣ 计算年尺度温度平均值（对整个区域求平均）\n",
    "temp_annual = temp.groupby(f\"{time_dim}.year\").mean(dim=time_dim, skipna=True).mean(dim=[\"latitude\", \"longitude\"])\n",
    "\n",
    "# 4️⃣ 计算季节尺度温度平均值\n",
    "seasons = {\n",
    "    \"DJF\": [12, 1, 2],  # 冬季\n",
    "    \"MAM\": [3, 4, 5],   # 春季\n",
    "    \"JJA\": [6, 7, 8],   # 夏季\n",
    "    \"SON\": [9, 10, 11]  # 秋季\n",
    "}\n",
    "\n",
    "# 创建空的 DataFrame 来存储季节平均值\n",
    "seasonal_data = []\n",
    "\n",
    "for season, months in seasons.items():\n",
    "    temp_season = temp.sel({time_dim: temp[time_dim].dt.month.isin(months)})\n",
    "    temp_season = temp_season.groupby(f\"{time_dim}.year\").mean(dim=time_dim, skipna=True).mean(dim=[\"latitude\", \"longitude\"])\n",
    "    \n",
    "    # 转换为 Pandas DataFrame 并添加季节信息\n",
    "    df_season = temp_season.to_dataframe().reset_index()\n",
    "    df_season[\"season\"] = season\n",
    "    seasonal_data.append(df_season)\n",
    "\n",
    "# 合并所有季节数据\n",
    "df_seasonal = pd.concat(seasonal_data)\n",
    "\n",
    "# 5️⃣ 保存 CSV 文件\n",
    "df_annual = temp_annual.to_dataframe().reset_index()\n",
    "\n",
    "# 保存为 CSV 文件\n",
    "df_annual.to_csv('/mnt/d/work/lyn/data/temp_annual.csv', index=False)\n",
    "df_seasonal.to_csv('/mnt/d/work/lyn/data/temp_seasonal.csv', index=False)\n",
    "\n",
    "print(\"✅ 处理完成，已保存 CSV 文件！\")\n"
   ]
  },
  {
   "cell_type": "code",
   "execution_count": null,
   "metadata": {},
   "outputs": [],
   "source": []
  }
 ],
 "metadata": {
  "kernelspec": {
   "display_name": "salem",
   "language": "python",
   "name": "python3"
  },
  "language_info": {
   "codemirror_mode": {
    "name": "ipython",
    "version": 3
   },
   "file_extension": ".py",
   "mimetype": "text/x-python",
   "name": "python",
   "nbconvert_exporter": "python",
   "pygments_lexer": "ipython3",
   "version": "3.8.0"
  }
 },
 "nbformat": 4,
 "nbformat_minor": 2
}
