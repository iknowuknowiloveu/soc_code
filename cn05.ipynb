{
 "cells": [
  {
   "cell_type": "code",
   "execution_count": 1,
   "id": "84238883",
   "metadata": {},
   "outputs": [],
   "source": [
    "import numpy as np\n",
    "import xarray as xr\n",
    "import os\n",
    "from cdo import *\n",
    "from cdo import Cdo\n",
    "cdo = Cdo()\n",
    "\n",
    "import geopandas as geo\n",
    "import salem\n",
    "\n",
    "\n",
    "#from scipy.stats import pearsonr\n",
    "#from scipy.stats import linregress\n",
    "#from scipy import signal\n",
    "#import matplotlib.pyplot as plt"
   ]
  },
  {
   "cell_type": "code",
   "execution_count": null,
   "id": "24c7e706",
   "metadata": {},
   "outputs": [],
   "source": [
    "reserve_shp = geo.read_file('/mnt/e/BaiduSyncdisk/lunwen/毕设的糟心玩意/华北国家级保护区shp/华北保护区.shp')\n"
   ]
  },
  {
   "cell_type": "code",
   "execution_count": 11,
   "id": "f7fe5c37",
   "metadata": {},
   "outputs": [],
   "source": [
    "dongbei_shp  = geo.read_file('/mnt/d/work/hxm/dongsansheng/dongsansheng.shp')\n",
    "data = xr.open_dataset('/mnt/d/work/hxm/lai_Lmon_ACCESS-ESM1-5_historical_r1i1p1f1_gn_185001-201412.nc')\n",
    "lai = data.lai\n",
    "data_dongbei = lai.salem.roi(shape = dongbei_shp)\n",
    "data_dongbei.to_netcdf(path = '/mnt/d/work/hxm/lai_dongbei.nc')"
   ]
  },
  {
   "cell_type": "code",
   "execution_count": 1,
   "id": "02971440",
   "metadata": {},
   "outputs": [
    {
     "name": "stdout",
     "output_type": "stream",
     "text": [
      "\n",
      "\n",
      "DejaVu Sans Mono                   \n",
      "DejaVu Serif                       \n",
      "DejaVu Serif Display               \n",
      "STIXGeneral                        \n",
      "STIXNonUnicode                     \n",
      "STIXSizeFiveSym                    \n",
      "STIXSizeFourSym                    \n",
      "STIXSizeOneSym                     \n",
      "STIXSizeThreeSym                   \n",
      "STIXSizeTwoSym                     \n",
      "cmb10                              \n",
      "cmex10                             \n",
      "cmmi10                             \n",
      "cmr10                              \n",
      "cmss10                             \n",
      "cmsy10                             \n",
      "cmtt10                             \n"
     ]
    }
   ],
   "source": [
    "import matplotlib.pyplot as plt\n",
    "#plt.rcParams['font.sans-serif']=['Times New Roman']\n",
    "import matplotlib \n",
    "a = sorted([f.name for f in matplotlib.font_manager.fontManager.ttflist])\n",
    "previous_font = '   '\n",
    "count = 0 \n",
    "for font_name in a:\n",
    "    if(font_name != previous_font):\n",
    "        count = count + 1  \n",
    "#         print(font_name, '\\t\\t\\t\\t', end='')\n",
    "        if(count > 2): \n",
    "            print('{:35}'.format(font_name), end='') \n",
    "        if(count % 1 == 0):\n",
    "            print()\n",
    "        previous_font = font_name\n"
   ]
  },
  {
   "cell_type": "code",
   "execution_count": 2,
   "id": "25bc60b8",
   "metadata": {},
   "outputs": [
    {
     "ename": "SyntaxError",
     "evalue": "invalid syntax (1668814613.py, line 1)",
     "output_type": "error",
     "traceback": [
      "\u001b[0;36m  Cell \u001b[0;32mIn [2], line 1\u001b[0;36m\u001b[0m\n\u001b[0;31m    sudo apt-get install fontconfig\u001b[0m\n\u001b[0m         ^\u001b[0m\n\u001b[0;31mSyntaxError\u001b[0m\u001b[0;31m:\u001b[0m invalid syntax\n"
     ]
    }
   ],
   "source": [
    "sudo apt-get install fontconfig\n",
    "sudo apt install ttf-mscorefonts-installer\n"
   ]
  },
  {
   "cell_type": "code",
   "execution_count": 2,
   "id": "1e9ef4aa",
   "metadata": {},
   "outputs": [
    {
     "data": {
      "text/plain": [
       "<matplotlib.collections.QuadMesh at 0x7f81cff66550>"
      ]
     },
     "execution_count": 2,
     "metadata": {},
     "output_type": "execute_result"
    },
    {
     "data": {
      "image/png": "[encoded data removed]",
      "text/plain": [
       "<Figure size 640x480 with 1 Axes>"
      ]
     },
     "metadata": {},
     "output_type": "display_data"
    }
   ],
   "source": [
    "data = xr.open_dataset('/mnt/d/work/hxm/lai_Lmon_ACCESS-ESM1-5_historical_r1i1p1f1_gn_185001-201412.nc')\n",
    "plt.pcolormesh(data.lai[0])"
   ]
  },
  {
   "cell_type": "code",
   "execution_count": null,
   "id": "7d093dd6",
   "metadata": {},
   "outputs": [
    {
     "ename": "KeyError",
     "evalue": "0",
     "output_type": "error",
     "traceback": [
      "\u001b[0;31m---------------------------------------------------------------------------\u001b[0m",
      "\u001b[0;31mKeyError\u001b[0m                                  Traceback (most recent call last)",
      "File \u001b[0;32m~/miniconda3/envs/salem/lib/python3.8/site-packages/xarray/core/dataset.py:1339\u001b[0m, in \u001b[0;36mDataset._construct_dataarray\u001b[0;34m(self, name)\u001b[0m\n\u001b[1;32m   1338\u001b[0m \u001b[39mtry\u001b[39;00m:\n\u001b[0;32m-> 1339\u001b[0m     variable \u001b[39m=\u001b[39m \u001b[39mself\u001b[39;49m\u001b[39m.\u001b[39;49m_variables[name]\n\u001b[1;32m   1340\u001b[0m \u001b[39mexcept\u001b[39;00m \u001b[39mKeyError\u001b[39;00m:\n",
      "\u001b[0;31mKeyError\u001b[0m: 0",
      "\nDuring handling of the above exception, another exception occurred:\n",
      "\u001b[0;31mKeyError\u001b[0m                                  Traceback (most recent call last)",
      "Cell \u001b[0;32mIn [24], line 2\u001b[0m\n\u001b[1;32m      1\u001b[0m lai_dongbei \u001b[39m=\u001b[39m xr\u001b[39m.\u001b[39mopen_dataset(\u001b[39m'\u001b[39m\u001b[39m/mnt/d/work/hxm/lai_dongbei.nc\u001b[39m\u001b[39m'\u001b[39m)\n\u001b[0;32m----> 2\u001b[0m plt\u001b[39m.\u001b[39mpcolormesh(lai_dongbei[\u001b[39m0\u001b[39;49m])\n",
      "File \u001b[0;32m~/miniconda3/envs/salem/lib/python3.8/site-packages/xarray/core/dataset.py:1430\u001b[0m, in \u001b[0;36mDataset.__getitem__\u001b[0;34m(self, key)\u001b[0m\n\u001b[1;32m   1428\u001b[0m     \u001b[39mreturn\u001b[39;00m \u001b[39mself\u001b[39m\u001b[39m.\u001b[39misel(\u001b[39m*\u001b[39m\u001b[39m*\u001b[39mkey)\n\u001b[1;32m   1429\u001b[0m \u001b[39mif\u001b[39;00m utils\u001b[39m.\u001b[39mhashable(key):\n\u001b[0;32m-> 1430\u001b[0m     \u001b[39mreturn\u001b[39;00m \u001b[39mself\u001b[39;49m\u001b[39m.\u001b[39;49m_construct_dataarray(key)\n\u001b[1;32m   1431\u001b[0m \u001b[39mif\u001b[39;00m utils\u001b[39m.\u001b[39miterable_of_hashable(key):\n\u001b[1;32m   1432\u001b[0m     \u001b[39mreturn\u001b[39;00m \u001b[39mself\u001b[39m\u001b[39m.\u001b[39m_copy_listed(key)\n",
      "File \u001b[0;32m~/miniconda3/envs/salem/lib/python3.8/site-packages/xarray/core/dataset.py:1341\u001b[0m, in \u001b[0;36mDataset._construct_dataarray\u001b[0;34m(self, name)\u001b[0m\n\u001b[1;32m   1339\u001b[0m     variable \u001b[39m=\u001b[39m \u001b[39mself\u001b[39m\u001b[39m.\u001b[39m_variables[name]\n\u001b[1;32m   1340\u001b[0m \u001b[39mexcept\u001b[39;00m \u001b[39mKeyError\u001b[39;00m:\n\u001b[0;32m-> 1341\u001b[0m     _, name, variable \u001b[39m=\u001b[39m _get_virtual_variable(\u001b[39mself\u001b[39;49m\u001b[39m.\u001b[39;49m_variables, name, \u001b[39mself\u001b[39;49m\u001b[39m.\u001b[39;49mdims)\n\u001b[1;32m   1343\u001b[0m needed_dims \u001b[39m=\u001b[39m \u001b[39mset\u001b[39m(variable\u001b[39m.\u001b[39mdims)\n\u001b[1;32m   1345\u001b[0m coords: \u001b[39mdict\u001b[39m[Hashable, Variable] \u001b[39m=\u001b[39m {}\n",
      "File \u001b[0;32m~/miniconda3/envs/salem/lib/python3.8/site-packages/xarray/core/dataset.py:173\u001b[0m, in \u001b[0;36m_get_virtual_variable\u001b[0;34m(variables, key, dim_sizes)\u001b[0m\n\u001b[1;32m    170\u001b[0m     \u001b[39mreturn\u001b[39;00m key, key, variable\n\u001b[1;32m    172\u001b[0m \u001b[39mif\u001b[39;00m \u001b[39mnot\u001b[39;00m \u001b[39misinstance\u001b[39m(key, \u001b[39mstr\u001b[39m):\n\u001b[0;32m--> 173\u001b[0m     \u001b[39mraise\u001b[39;00m \u001b[39mKeyError\u001b[39;00m(key)\n\u001b[1;32m    175\u001b[0m split_key \u001b[39m=\u001b[39m key\u001b[39m.\u001b[39msplit(\u001b[39m\"\u001b[39m\u001b[39m.\u001b[39m\u001b[39m\"\u001b[39m, \u001b[39m1\u001b[39m)\n\u001b[1;32m    176\u001b[0m \u001b[39mif\u001b[39;00m \u001b[39mlen\u001b[39m(split_key) \u001b[39m!=\u001b[39m \u001b[39m2\u001b[39m:\n",
      "\u001b[0;31mKeyError\u001b[0m: 0"
     ]
    }
   ],
   "source": [
    "import xarray as xr\n",
    "import matplotlib.pyplot as plt\n",
    "lai_dongbei = xr.open_dataset('/mnt/d/work/hxm/lai_dongbei.nc')\n",
    "plt.pcolormesh(lai_dongbei[0])"
   ]
  },
  {
   "cell_type": "code",
   "execution_count": null,
   "id": "7254ab77",
   "metadata": {},
   "outputs": [],
   "source": [
    "cdo.sellonlatbox( '95,130,30,55', input = '/mnt/f/cn05/huabei_1982_2015/tmax_huabei_1982_2015.nc', output = '/mnt/f/cn05/huabei_1982_2015/cn05_huabei_tmax_1982_2015.nc')"
   ]
  },
  {
   "cell_type": "code",
   "execution_count": 6,
   "id": "9856aee5",
   "metadata": {
    "scrolled": true
   },
   "outputs": [
    {
     "data": {
      "text/plain": [
       "<matplotlib.colorbar.Colorbar at 0x7f89765cb130>"
      ]
     },
     "execution_count": 6,
     "metadata": {},
     "output_type": "execute_result"
    },
    {
     "data": {
      "image/png": "[encoded data removed]",
      "text/plain": [
       "<Figure size 432x288 with 2 Axes>"
      ]
     },
     "metadata": {
      "needs_background": "light"
     },
     "output_type": "display_data"
    }
   ],
   "source": [
    "import matplotlib.pyplot as plt\n",
    "plt.pcolormesh(tmaxhuabei.tmax[0,:],cmap = 'coolwarm')\n",
    "plt.colorbar()"
   ]
  },
  {
   "cell_type": "code",
   "execution_count": 40,
   "id": "b31194a5",
   "metadata": {},
   "outputs": [
    {
     "data": {
      "text/plain": [
       "'/mnt/f/cn05/huabei_1982_2015/cn05_huabei_tmax_1982_2015.nc'"
      ]
     },
     "execution_count": 40,
     "metadata": {},
     "output_type": "execute_result"
    }
   ],
   "source": [
    "cdo.sellonlatbox( '95,130,30,55', input = '/mnt/f/cn05/huabei_1982_2015/tmax_huabei_1982_2015.nc', output = '/mnt/f/cn05/huabei_1982_2015/cn05_huabei_tmax_1982_2015.nc')"
   ]
  },
  {
   "cell_type": "code",
   "execution_count": 41,
   "id": "72fb9fd4",
   "metadata": {},
   "outputs": [],
   "source": [
    "cn05_tmax_huabei=xr.open_dataset('/mnt/f/cn05/huabei_1982_2015/cn05_huabei_tmax_1982_2015.nc')"
   ]
  },
  {
   "cell_type": "code",
   "execution_count": 2,
   "id": "bdf90476",
   "metadata": {},
   "outputs": [
    {
     "data": {
      "text/plain": [
       "['cn05.1_pre_1982_2015.nc',\n",
       " 'cn05.1_tmax_1982_2015.nc',\n",
       " 'cn05.1_tmin_1982_2015.nc',\n",
       " 'cn05.1_tm_1982_2015.nc']"
      ]
     },
     "execution_count": 2,
     "metadata": {},
     "output_type": "execute_result"
    }
   ],
   "source": [
    "import os\n",
    "path = '/mnt/f/cn05/Climite/out/'\n",
    "filename = os.listdir(path)\n",
    "filename"
   ]
  },
  {
   "cell_type": "code",
   "execution_count": 4,
   "id": "0f8fdf42",
   "metadata": {},
   "outputs": [],
   "source": [
    "shp  = geo.read_file('/mnt/f/cn05/huabeishp/output/huabei_area.shp')\n",
    "path = '/mnt/f/cn05/Climite/out/'\n",
    "filename = os.listdir(path)\n",
    "for file in filename:\n",
    "    inputfile = os.path.join('/mnt/f/cn05/Climite/out/',file)\n",
    "    f = xr.open_dataset(inputfile)\n",
    "    output = f.salem.roi(shape = shp)\n",
    "    outputfile = os.path.join('/mnt/f/cn05/huabei_1982_2015/',\"huabei\" + file)\n",
    "    output.to_netcdf(path = outputfile)"
   ]
  },
  {
   "cell_type": "code",
   "execution_count": 5,
   "id": "407a70ac",
   "metadata": {},
   "outputs": [],
   "source": [
    "filename = os.listdir('/mnt/f/cn05/huabei_1982_2015/')\n",
    "for file in filename:\n",
    "    inputfile = os.path.join('/mnt/f/cn05/huabei_1982_2015/',file)\n",
    "    outputfile = os.path.join('/mnt/f/cn05/cn05_huabei/', file)\n",
    "    cdo.sellonlatbox( '95,130,30,55',input = inputfile ,output =outputfile)"
   ]
  },
  {
   "cell_type": "code",
   "execution_count": 10,
   "id": "8aa0f738",
   "metadata": {},
   "outputs": [
    {
     "data": {
      "text/plain": [
       "<matplotlib.colorbar.Colorbar at 0x7f7192a92310>"
      ]
     },
     "execution_count": 10,
     "metadata": {},
     "output_type": "execute_result"
    },
    {
     "data": {
      "image/png": "[encoded data removed]",
      "text/plain": [
       "<Figure size 432x288 with 2 Axes>"
      ]
     },
     "metadata": {
      "needs_background": "light"
     },
     "output_type": "display_data"
    }
   ],
   "source": [
    "import matplotlib.pyplot as plt\n",
    "cn05_tmax_huabei=xr.open_dataset('/mnt/f/cn05/cn05_huabei/huabeicn05.1_pre_1982_2015.nc')\n",
    "plt.pcolormesh(cn05_tmax_huabei.pre[0,:],cmap = 'viridis')\n",
    "plt.colorbar()"
   ]
  },
  {
   "cell_type": "markdown",
   "id": "87d4bed2",
   "metadata": {},
   "source": [
    "cn05出错，重新改pre数据"
   ]
  },
  {
   "cell_type": "code",
   "execution_count": 8,
   "id": "2600920d",
   "metadata": {},
   "outputs": [
    {
     "data": {
      "text/plain": [
       "'/mnt/f/cn05/new_pre/new_pre_1982_2015.nc'"
      ]
     },
     "execution_count": 8,
     "metadata": {},
     "output_type": "execute_result"
    }
   ],
   "source": [
    "cdo.seldate( '1982-01-01,2015-12-31', input = '/mnt/f/cn05/new_pre/CN05.1_Pre_1961_2021_daily_025x025.nc', output = '/mnt/f/cn05/new_pre/new_pre_1982_2015.nc')"
   ]
  },
  {
   "cell_type": "code",
   "execution_count": 10,
   "id": "9d49b90a",
   "metadata": {},
   "outputs": [
    {
     "name": "stderr",
     "output_type": "stream",
     "text": [
      "/home/yqr/miniconda3/envs/python/lib/python3.8/site-packages/xarray/coding/times.py:123: SerializationWarning: Ambiguous reference date string: 1-1-1 00:00:00. The first value is assumed to be the year hence will be padded with zeros to remove the ambiguity (the padded reference date string is: 0001-1-1 00:00:00). To remove this message, remove the ambiguity by padding your reference date strings with zeros.\n",
      "  warnings.warn(warning_msg, SerializationWarning)\n",
      "/home/yqr/miniconda3/envs/python/lib/python3.8/site-packages/xarray/coding/times.py:123: SerializationWarning: Ambiguous reference date string: 1-1-1 00:00:00. The first value is assumed to be the year hence will be padded with zeros to remove the ambiguity (the padded reference date string is: 0001-1-1 00:00:00). To remove this message, remove the ambiguity by padding your reference date strings with zeros.\n",
      "  warnings.warn(warning_msg, SerializationWarning)\n"
     ]
    }
   ],
   "source": [
    "shp = geo.read_file('/mnt/f/cn05/huabeishp/output/huabei_area.shp')\n",
    "new_pre=xr.open_dataset('/mnt/f/cn05/new_pre/new_pre_1982_2015.nc')\n",
    "prehuabei = new_pre.salem.roi(shape = shp)\n",
    "prehuabei.to_netcdf(path = '/mnt/f/cn05/new_pre/pre_huabei_1982_2015.nc')"
   ]
  },
  {
   "cell_type": "code",
   "execution_count": 11,
   "id": "f5053e45",
   "metadata": {},
   "outputs": [
    {
     "data": {
      "text/plain": [
       "'/mnt/f/cn05/new_pre/pre_1982_2015.nc'"
      ]
     },
     "execution_count": 11,
     "metadata": {},
     "output_type": "execute_result"
    }
   ],
   "source": [
    "cdo.sellonlatbox( '95,130,30,55', input = '/mnt/f/cn05/new_pre/pre_huabei_1982_2015.nc', output = '/mnt/f/cn05/new_pre/pre_1982_2015.nc')"
   ]
  },
  {
   "cell_type": "code",
   "execution_count": 24,
   "id": "2df87c54",
   "metadata": {},
   "outputs": [
    {
     "data": {
      "text/html": [
       "<div><svg style=\"position: absolute; width: 0; height: 0; overflow: hidden\">\n",
       "<defs>\n",
       "<symbol id=\"icon-database\" viewBox=\"0 0 32 32\">\n",
       "<path d=\"M16 0c-8.837 0-16 2.239-16 5v4c0 2.761 7.163 5 16 5s16-2.239 16-5v-4c0-2.761-7.163-5-16-5z\"></path>\n",
       "<path d=\"M16 17c-8.837 0-16-2.239-16-5v6c0 2.761 7.163 5 16 5s16-2.239 16-5v-6c0 2.761-7.163 5-16 5z\"></path>\n",
       "<path d=\"M16 26c-8.837 0-16-2.239-16-5v6c0 2.761 7.163 5 16 5s16-2.239 16-5v-6c0 2.761-7.163 5-16 5z\"></path>\n",
       "</symbol>\n",
       "<symbol id=\"icon-file-text2\" viewBox=\"0 0 32 32\">\n",
       "<path d=\"M28.681 7.159c-0.694-0.947-1.662-2.053-2.724-3.116s-2.169-2.030-3.116-2.724c-1.612-1.182-2.393-1.319-2.841-1.319h-15.5c-1.378 0-2.5 1.121-2.5 2.5v27c0 1.378 1.122 2.5 2.5 2.5h23c1.378 0 2.5-1.122 2.5-2.5v-19.5c0-0.448-0.137-1.23-1.319-2.841zM24.543 5.457c0.959 0.959 1.712 1.825 2.268 2.543h-4.811v-4.811c0.718 0.556 1.584 1.309 2.543 2.268zM28 29.5c0 0.271-0.229 0.5-0.5 0.5h-23c-0.271 0-0.5-0.229-0.5-0.5v-27c0-0.271 0.229-0.5 0.5-0.5 0 0 15.499-0 15.5 0v7c0 0.552 0.448 1 1 1h7v19.5z\"></path>\n",
       "<path d=\"M23 26h-14c-0.552 0-1-0.448-1-1s0.448-1 1-1h14c0.552 0 1 0.448 1 1s-0.448 1-1 1z\"></path>\n",
       "<path d=\"M23 22h-14c-0.552 0-1-0.448-1-1s0.448-1 1-1h14c0.552 0 1 0.448 1 1s-0.448 1-1 1z\"></path>\n",
       "<path d=\"M23 18h-14c-0.552 0-1-0.448-1-1s0.448-1 1-1h14c0.552 0 1 0.448 1 1s-0.448 1-1 1z\"></path>\n",
       "</symbol>\n",
       "</defs>\n",
       "</svg>\n",
       "<style>/* CSS stylesheet for displaying xarray objects in jupyterlab.\n",
       " *\n",
       " */\n",
       "\n",
       ":root {\n",
       "  --xr-font-color0: var(--jp-content-font-color0, rgba(0, 0, 0, 1));\n",
       "  --xr-font-color2: var(--jp-content-font-color2, rgba(0, 0, 0, 0.54));\n",
       "  --xr-font-color3: var(--jp-content-font-color3, rgba(0, 0, 0, 0.38));\n",
       "  --xr-border-color: var(--jp-border-color2, #e0e0e0);\n",
       "  --xr-disabled-color: var(--jp-layout-color3, #bdbdbd);\n",
       "  --xr-background-color: var(--jp-layout-color0, white);\n",
       "  --xr-background-color-row-even: var(--jp-layout-color1, white);\n",
       "  --xr-background-color-row-odd: var(--jp-layout-color2, #eeeeee);\n",
       "}\n",
       "\n",
       "html[theme=dark],\n",
       "body.vscode-dark {\n",
       "  --xr-font-color0: rgba(255, 255, 255, 1);\n",
       "  --xr-font-color2: rgba(255, 255, 255, 0.54);\n",
       "  --xr-font-color3: rgba(255, 255, 255, 0.38);\n",
       "  --xr-border-color: #1F1F1F;\n",
       "  --xr-disabled-color: #515151;\n",
       "  --xr-background-color: #111111;\n",
       "  --xr-background-color-row-even: #111111;\n",
       "  --xr-background-color-row-odd: #313131;\n",
       "}\n",
       "\n",
       ".xr-wrap {\n",
       "  display: block;\n",
       "  min-width: 300px;\n",
       "  max-width: 700px;\n",
       "}\n",
       "\n",
       ".xr-text-repr-fallback {\n",
       "  /* fallback to plain text repr when CSS is not injected (untrusted notebook) */\n",
       "  display: none;\n",
       "}\n",
       "\n",
       ".xr-header {\n",
       "  padding-top: 6px;\n",
       "  padding-bottom: 6px;\n",
       "  margin-bottom: 4px;\n",
       "  border-bottom: solid 1px var(--xr-border-color);\n",
       "}\n",
       "\n",
       ".xr-header > div,\n",
       ".xr-header > ul {\n",
       "  display: inline;\n",
       "  margin-top: 0;\n",
       "  margin-bottom: 0;\n",
       "}\n",
       "\n",
       ".xr-obj-type,\n",
       ".xr-array-name {\n",
       "  margin-left: 2px;\n",
       "  margin-right: 10px;\n",
       "}\n",
       "\n",
       ".xr-obj-type {\n",
       "  color: var(--xr-font-color2);\n",
       "}\n",
       "\n",
       ".xr-sections {\n",
       "  padding-left: 0 !important;\n",
       "  display: grid;\n",
       "  grid-template-columns: 150px auto auto 1fr 20px 20px;\n",
       "}\n",
       "\n",
       ".xr-section-item {\n",
       "  display: contents;\n",
       "}\n",
       "\n",
       ".xr-section-item input {\n",
       "  display: none;\n",
       "}\n",
       "\n",
       ".xr-section-item input + label {\n",
       "  color: var(--xr-disabled-color);\n",
       "}\n",
       "\n",
       ".xr-section-item input:enabled + label {\n",
       "  cursor: pointer;\n",
       "  color: var(--xr-font-color2);\n",
       "}\n",
       "\n",
       ".xr-section-item input:enabled + label:hover {\n",
       "  color: var(--xr-font-color0);\n",
       "}\n",
       "\n",
       ".xr-section-summary {\n",
       "  grid-column: 1;\n",
       "  color: var(--xr-font-color2);\n",
       "  font-weight: 500;\n",
       "}\n",
       "\n",
       ".xr-section-summary > span {\n",
       "  display: inline-block;\n",
       "  padding-left: 0.5em;\n",
       "}\n",
       "\n",
       ".xr-section-summary-in:disabled + label {\n",
       "  color: var(--xr-font-color2);\n",
       "}\n",
       "\n",
       ".xr-section-summary-in + label:before {\n",
       "  display: inline-block;\n",
       "  content: '►';\n",
       "  font-size: 11px;\n",
       "  width: 15px;\n",
       "  text-align: center;\n",
       "}\n",
       "\n",
       ".xr-section-summary-in:disabled + label:before {\n",
       "  color: var(--xr-disabled-color);\n",
       "}\n",
       "\n",
       ".xr-section-summary-in:checked + label:before {\n",
       "  content: '▼';\n",
       "}\n",
       "\n",
       ".xr-section-summary-in:checked + label > span {\n",
       "  display: none;\n",
       "}\n",
       "\n",
       ".xr-section-summary,\n",
       ".xr-section-inline-details {\n",
       "  padding-top: 4px;\n",
       "  padding-bottom: 4px;\n",
       "}\n",
       "\n",
       ".xr-section-inline-details {\n",
       "  grid-column: 2 / -1;\n",
       "}\n",
       "\n",
       ".xr-section-details {\n",
       "  display: none;\n",
       "  grid-column: 1 / -1;\n",
       "  margin-bottom: 5px;\n",
       "}\n",
       "\n",
       ".xr-section-summary-in:checked ~ .xr-section-details {\n",
       "  display: contents;\n",
       "}\n",
       "\n",
       ".xr-array-wrap {\n",
       "  grid-column: 1 / -1;\n",
       "  display: grid;\n",
       "  grid-template-columns: 20px auto;\n",
       "}\n",
       "\n",
       ".xr-array-wrap > label {\n",
       "  grid-column: 1;\n",
       "  vertical-align: top;\n",
       "}\n",
       "\n",
       ".xr-preview {\n",
       "  color: var(--xr-font-color3);\n",
       "}\n",
       "\n",
       ".xr-array-preview,\n",
       ".xr-array-data {\n",
       "  padding: 0 5px !important;\n",
       "  grid-column: 2;\n",
       "}\n",
       "\n",
       ".xr-array-data,\n",
       ".xr-array-in:checked ~ .xr-array-preview {\n",
       "  display: none;\n",
       "}\n",
       "\n",
       ".xr-array-in:checked ~ .xr-array-data,\n",
       ".xr-array-preview {\n",
       "  display: inline-block;\n",
       "}\n",
       "\n",
       ".xr-dim-list {\n",
       "  display: inline-block !important;\n",
       "  list-style: none;\n",
       "  padding: 0 !important;\n",
       "  margin: 0;\n",
       "}\n",
       "\n",
       ".xr-dim-list li {\n",
       "  display: inline-block;\n",
       "  padding: 0;\n",
       "  margin: 0;\n",
       "}\n",
       "\n",
       ".xr-dim-list:before {\n",
       "  content: '(';\n",
       "}\n",
       "\n",
       ".xr-dim-list:after {\n",
       "  content: ')';\n",
       "}\n",
       "\n",
       ".xr-dim-list li:not(:last-child):after {\n",
       "  content: ',';\n",
       "  padding-right: 5px;\n",
       "}\n",
       "\n",
       ".xr-has-index {\n",
       "  font-weight: bold;\n",
       "}\n",
       "\n",
       ".xr-var-list,\n",
       ".xr-var-item {\n",
       "  display: contents;\n",
       "}\n",
       "\n",
       ".xr-var-item > div,\n",
       ".xr-var-item label,\n",
       ".xr-var-item > .xr-var-name span {\n",
       "  background-color: var(--xr-background-color-row-even);\n",
       "  margin-bottom: 0;\n",
       "}\n",
       "\n",
       ".xr-var-item > .xr-var-name:hover span {\n",
       "  padding-right: 5px;\n",
       "}\n",
       "\n",
       ".xr-var-list > li:nth-child(odd) > div,\n",
       ".xr-var-list > li:nth-child(odd) > label,\n",
       ".xr-var-list > li:nth-child(odd) > .xr-var-name span {\n",
       "  background-color: var(--xr-background-color-row-odd);\n",
       "}\n",
       "\n",
       ".xr-var-name {\n",
       "  grid-column: 1;\n",
       "}\n",
       "\n",
       ".xr-var-dims {\n",
       "  grid-column: 2;\n",
       "}\n",
       "\n",
       ".xr-var-dtype {\n",
       "  grid-column: 3;\n",
       "  text-align: right;\n",
       "  color: var(--xr-font-color2);\n",
       "}\n",
       "\n",
       ".xr-var-preview {\n",
       "  grid-column: 4;\n",
       "}\n",
       "\n",
       ".xr-var-name,\n",
       ".xr-var-dims,\n",
       ".xr-var-dtype,\n",
       ".xr-preview,\n",
       ".xr-attrs dt {\n",
       "  white-space: nowrap;\n",
       "  overflow: hidden;\n",
       "  text-overflow: ellipsis;\n",
       "  padding-right: 10px;\n",
       "}\n",
       "\n",
       ".xr-var-name:hover,\n",
       ".xr-var-dims:hover,\n",
       ".xr-var-dtype:hover,\n",
       ".xr-attrs dt:hover {\n",
       "  overflow: visible;\n",
       "  width: auto;\n",
       "  z-index: 1;\n",
       "}\n",
       "\n",
       ".xr-var-attrs,\n",
       ".xr-var-data {\n",
       "  display: none;\n",
       "  background-color: var(--xr-background-color) !important;\n",
       "  padding-bottom: 5px !important;\n",
       "}\n",
       "\n",
       ".xr-var-attrs-in:checked ~ .xr-var-attrs,\n",
       ".xr-var-data-in:checked ~ .xr-var-data {\n",
       "  display: block;\n",
       "}\n",
       "\n",
       ".xr-var-data > table {\n",
       "  float: right;\n",
       "}\n",
       "\n",
       ".xr-var-name span,\n",
       ".xr-var-data,\n",
       ".xr-attrs {\n",
       "  padding-left: 25px !important;\n",
       "}\n",
       "\n",
       ".xr-attrs,\n",
       ".xr-var-attrs,\n",
       ".xr-var-data {\n",
       "  grid-column: 1 / -1;\n",
       "}\n",
       "\n",
       "dl.xr-attrs {\n",
       "  padding: 0;\n",
       "  margin: 0;\n",
       "  display: grid;\n",
       "  grid-template-columns: 125px auto;\n",
       "}\n",
       "\n",
       ".xr-attrs dt,\n",
       ".xr-attrs dd {\n",
       "  padding: 0;\n",
       "  margin: 0;\n",
       "  float: left;\n",
       "  padding-right: 10px;\n",
       "  width: auto;\n",
       "}\n",
       "\n",
       ".xr-attrs dt {\n",
       "  font-weight: normal;\n",
       "  grid-column: 1;\n",
       "}\n",
       "\n",
       ".xr-attrs dt:hover span {\n",
       "  display: inline-block;\n",
       "  background: var(--xr-background-color);\n",
       "  padding-right: 10px;\n",
       "}\n",
       "\n",
       ".xr-attrs dd {\n",
       "  grid-column: 2;\n",
       "  white-space: pre-wrap;\n",
       "  word-break: break-all;\n",
       "}\n",
       "\n",
       ".xr-icon-database,\n",
       ".xr-icon-file-text2 {\n",
       "  display: inline-block;\n",
       "  vertical-align: middle;\n",
       "  width: 1em;\n",
       "  height: 1.5em !important;\n",
       "  stroke-width: 0;\n",
       "  stroke: currentColor;\n",
       "  fill: currentColor;\n",
       "}\n",
       "</style><pre class='xr-text-repr-fallback'>&lt;xarray.Dataset&gt;\n",
       "Dimensions:  (time: 12418, lon: 141, lat: 101)\n",
       "Coordinates:\n",
       "  * time     (time) datetime64[ns] 1982-01-01 1982-01-02 ... 2015-12-31\n",
       "  * lon      (lon) float64 95.0 95.25 95.5 95.75 ... 129.2 129.5 129.8 130.0\n",
       "  * lat      (lat) float64 30.0 30.25 30.5 30.75 31.0 ... 54.25 54.5 54.75 55.0\n",
       "Data variables:\n",
       "    pre      (time, lat, lon) float32 ...\n",
       "Attributes:\n",
       "    CDI:          Climate Data Interface version 1.9.8 (https://mpimet.mpg.de...\n",
       "    Conventions:  CF-1.4\n",
       "    history:      Fri Apr 29 19:49:06 2022: cdo -O -s -sellonlatbox,95,130,30...\n",
       "    pyproj_srs:   +proj=longlat +datum=WGS84 +no_defs\n",
       "    CDO:          Climate Data Operators version 1.9.8 (https://mpimet.mpg.de...</pre><div class='xr-wrap' hidden><div class='xr-header'><div class='xr-obj-type'>xarray.Dataset</div></div><ul class='xr-sections'><li class='xr-section-item'><input id='section-916266e2-3341-4605-a33c-bc9119a4d58d' class='xr-section-summary-in' type='checkbox' disabled ><label for='section-916266e2-3341-4605-a33c-bc9119a4d58d' class='xr-section-summary'  title='Expand/collapse section'>Dimensions:</label><div class='xr-section-inline-details'><ul class='xr-dim-list'><li><span class='xr-has-index'>time</span>: 12418</li><li><span class='xr-has-index'>lon</span>: 141</li><li><span class='xr-has-index'>lat</span>: 101</li></ul></div><div class='xr-section-details'></div></li><li class='xr-section-item'><input id='section-b16da553-9ff7-4c09-96d2-1e735f36016f' class='xr-section-summary-in' type='checkbox'  checked><label for='section-b16da553-9ff7-4c09-96d2-1e735f36016f' class='xr-section-summary' >Coordinates: <span>(3)</span></label><div class='xr-section-inline-details'></div><div class='xr-section-details'><ul class='xr-var-list'><li class='xr-var-item'><div class='xr-var-name'><span class='xr-has-index'>time</span></div><div class='xr-var-dims'>(time)</div><div class='xr-var-dtype'>datetime64[ns]</div><div class='xr-var-preview xr-preview'>1982-01-01 ... 2015-12-31</div><input id='attrs-dce3f8ce-aad9-447e-ae2c-b8f5c33251d8' class='xr-var-attrs-in' type='checkbox' ><label for='attrs-dce3f8ce-aad9-447e-ae2c-b8f5c33251d8' title='Show/Hide attributes'><svg class='icon xr-icon-file-text2'><use xlink:href='#icon-file-text2'></use></svg></label><input id='data-c9fcf961-2bb3-4708-97ea-4e1163ef734d' class='xr-var-data-in' type='checkbox'><label for='data-c9fcf961-2bb3-4708-97ea-4e1163ef734d' title='Show/Hide data repr'><svg class='icon xr-icon-database'><use xlink:href='#icon-database'></use></svg></label><div class='xr-var-attrs'><dl class='xr-attrs'><dt><span>standard_name :</span></dt><dd>time</dd><dt><span>axis :</span></dt><dd>T</dd></dl></div><div class='xr-var-data'><pre>array([&#x27;1982-01-01T00:00:00.000000000&#x27;, &#x27;1982-01-02T00:00:00.000000000&#x27;,\n",
       "       &#x27;1982-01-03T00:00:00.000000000&#x27;, ..., &#x27;2015-12-29T00:00:00.000000000&#x27;,\n",
       "       &#x27;2015-12-30T00:00:00.000000000&#x27;, &#x27;2015-12-31T00:00:00.000000000&#x27;],\n",
       "      dtype=&#x27;datetime64[ns]&#x27;)</pre></div></li><li class='xr-var-item'><div class='xr-var-name'><span class='xr-has-index'>lon</span></div><div class='xr-var-dims'>(lon)</div><div class='xr-var-dtype'>float64</div><div class='xr-var-preview xr-preview'>95.0 95.25 95.5 ... 129.8 130.0</div><input id='attrs-d8db5fe8-fd7c-4fe2-8c3d-d826c77c42a7' class='xr-var-attrs-in' type='checkbox' ><label for='attrs-d8db5fe8-fd7c-4fe2-8c3d-d826c77c42a7' title='Show/Hide attributes'><svg class='icon xr-icon-file-text2'><use xlink:href='#icon-file-text2'></use></svg></label><input id='data-034c0799-8da1-4361-9bc1-35df59ede988' class='xr-var-data-in' type='checkbox'><label for='data-034c0799-8da1-4361-9bc1-35df59ede988' title='Show/Hide data repr'><svg class='icon xr-icon-database'><use xlink:href='#icon-database'></use></svg></label><div class='xr-var-attrs'><dl class='xr-attrs'><dt><span>standard_name :</span></dt><dd>longitude</dd><dt><span>long_name :</span></dt><dd>longitude</dd><dt><span>units :</span></dt><dd>degrees_east</dd><dt><span>axis :</span></dt><dd>X</dd></dl></div><div class='xr-var-data'><pre>array([ 95.  ,  95.25,  95.5 ,  95.75,  96.  ,  96.25,  96.5 ,  96.75,  97.  ,\n",
       "        97.25,  97.5 ,  97.75,  98.  ,  98.25,  98.5 ,  98.75,  99.  ,  99.25,\n",
       "        99.5 ,  99.75, 100.  , 100.25, 100.5 , 100.75, 101.  , 101.25, 101.5 ,\n",
       "       101.75, 102.  , 102.25, 102.5 , 102.75, 103.  , 103.25, 103.5 , 103.75,\n",
       "       104.  , 104.25, 104.5 , 104.75, 105.  , 105.25, 105.5 , 105.75, 106.  ,\n",
       "       106.25, 106.5 , 106.75, 107.  , 107.25, 107.5 , 107.75, 108.  , 108.25,\n",
       "       108.5 , 108.75, 109.  , 109.25, 109.5 , 109.75, 110.  , 110.25, 110.5 ,\n",
       "       110.75, 111.  , 111.25, 111.5 , 111.75, 112.  , 112.25, 112.5 , 112.75,\n",
       "       113.  , 113.25, 113.5 , 113.75, 114.  , 114.25, 114.5 , 114.75, 115.  ,\n",
       "       115.25, 115.5 , 115.75, 116.  , 116.25, 116.5 , 116.75, 117.  , 117.25,\n",
       "       117.5 , 117.75, 118.  , 118.25, 118.5 , 118.75, 119.  , 119.25, 119.5 ,\n",
       "       119.75, 120.  , 120.25, 120.5 , 120.75, 121.  , 121.25, 121.5 , 121.75,\n",
       "       122.  , 122.25, 122.5 , 122.75, 123.  , 123.25, 123.5 , 123.75, 124.  ,\n",
       "       124.25, 124.5 , 124.75, 125.  , 125.25, 125.5 , 125.75, 126.  , 126.25,\n",
       "       126.5 , 126.75, 127.  , 127.25, 127.5 , 127.75, 128.  , 128.25, 128.5 ,\n",
       "       128.75, 129.  , 129.25, 129.5 , 129.75, 130.  ])</pre></div></li><li class='xr-var-item'><div class='xr-var-name'><span class='xr-has-index'>lat</span></div><div class='xr-var-dims'>(lat)</div><div class='xr-var-dtype'>float64</div><div class='xr-var-preview xr-preview'>30.0 30.25 30.5 ... 54.5 54.75 55.0</div><input id='attrs-2d2c2de7-3de7-45ed-873b-3e12f123e122' class='xr-var-attrs-in' type='checkbox' ><label for='attrs-2d2c2de7-3de7-45ed-873b-3e12f123e122' title='Show/Hide attributes'><svg class='icon xr-icon-file-text2'><use xlink:href='#icon-file-text2'></use></svg></label><input id='data-374779ce-c751-4946-81d3-7aaa57192de3' class='xr-var-data-in' type='checkbox'><label for='data-374779ce-c751-4946-81d3-7aaa57192de3' title='Show/Hide data repr'><svg class='icon xr-icon-database'><use xlink:href='#icon-database'></use></svg></label><div class='xr-var-attrs'><dl class='xr-attrs'><dt><span>standard_name :</span></dt><dd>latitude</dd><dt><span>long_name :</span></dt><dd>latitude</dd><dt><span>units :</span></dt><dd>degrees_north</dd><dt><span>axis :</span></dt><dd>Y</dd></dl></div><div class='xr-var-data'><pre>array([30.  , 30.25, 30.5 , 30.75, 31.  , 31.25, 31.5 , 31.75, 32.  , 32.25,\n",
       "       32.5 , 32.75, 33.  , 33.25, 33.5 , 33.75, 34.  , 34.25, 34.5 , 34.75,\n",
       "       35.  , 35.25, 35.5 , 35.75, 36.  , 36.25, 36.5 , 36.75, 37.  , 37.25,\n",
       "       37.5 , 37.75, 38.  , 38.25, 38.5 , 38.75, 39.  , 39.25, 39.5 , 39.75,\n",
       "       40.  , 40.25, 40.5 , 40.75, 41.  , 41.25, 41.5 , 41.75, 42.  , 42.25,\n",
       "       42.5 , 42.75, 43.  , 43.25, 43.5 , 43.75, 44.  , 44.25, 44.5 , 44.75,\n",
       "       45.  , 45.25, 45.5 , 45.75, 46.  , 46.25, 46.5 , 46.75, 47.  , 47.25,\n",
       "       47.5 , 47.75, 48.  , 48.25, 48.5 , 48.75, 49.  , 49.25, 49.5 , 49.75,\n",
       "       50.  , 50.25, 50.5 , 50.75, 51.  , 51.25, 51.5 , 51.75, 52.  , 52.25,\n",
       "       52.5 , 52.75, 53.  , 53.25, 53.5 , 53.75, 54.  , 54.25, 54.5 , 54.75,\n",
       "       55.  ])</pre></div></li></ul></div></li><li class='xr-section-item'><input id='section-54548a0d-deea-48d3-b5fe-838b6fd0e405' class='xr-section-summary-in' type='checkbox'  checked><label for='section-54548a0d-deea-48d3-b5fe-838b6fd0e405' class='xr-section-summary' >Data variables: <span>(1)</span></label><div class='xr-section-inline-details'></div><div class='xr-section-details'><ul class='xr-var-list'><li class='xr-var-item'><div class='xr-var-name'><span>pre</span></div><div class='xr-var-dims'>(time, lat, lon)</div><div class='xr-var-dtype'>float32</div><div class='xr-var-preview xr-preview'>...</div><input id='attrs-80f07bc3-e26a-441f-8c20-768078dde382' class='xr-var-attrs-in' type='checkbox' ><label for='attrs-80f07bc3-e26a-441f-8c20-768078dde382' title='Show/Hide attributes'><svg class='icon xr-icon-file-text2'><use xlink:href='#icon-file-text2'></use></svg></label><input id='data-b1253f9c-27f2-4497-977e-d36a5c0fe84b' class='xr-var-data-in' type='checkbox'><label for='data-b1253f9c-27f2-4497-977e-d36a5c0fe84b' title='Show/Hide data repr'><svg class='icon xr-icon-database'><use xlink:href='#icon-database'></use></svg></label><div class='xr-var-attrs'><dl class='xr-attrs'><dt><span>long_name :</span></dt><dd>CN05.1 daily, precipitation,mm/day                                                         \r\n",
       "</dd><dt><span>pyproj_srs :</span></dt><dd>+proj=longlat +datum=WGS84 +no_defs</dd></dl></div><div class='xr-var-data'><pre>[176844738 values with dtype=float32]</pre></div></li></ul></div></li><li class='xr-section-item'><input id='section-5279545c-b240-4389-821b-c2c78546fa51' class='xr-section-summary-in' type='checkbox'  checked><label for='section-5279545c-b240-4389-821b-c2c78546fa51' class='xr-section-summary' >Attributes: <span>(5)</span></label><div class='xr-section-inline-details'></div><div class='xr-section-details'><dl class='xr-attrs'><dt><span>CDI :</span></dt><dd>Climate Data Interface version 1.9.8 (https://mpimet.mpg.de/cdi)</dd><dt><span>Conventions :</span></dt><dd>CF-1.4</dd><dt><span>history :</span></dt><dd>Fri Apr 29 19:49:06 2022: cdo -O -s -sellonlatbox,95,130,30,55 /mnt/f/cn05/huabei_1982_2015/huabeicn05.1_pre_1982_2015.nc /mnt/f/cn05/cn05_huabei/huabeicn05.1_pre_1982_2015.nc\n",
       "Tue Apr 26 17:35:41 2022: cdo select,year=1982,1983,1984,1985,1986,1987,1988,1989,1990,1991,1992,1993,1994,1995,1996,1997,1998,1999,2000,2001,2002,2003,2004,2005,2006,2007,2008,2009,2010,2011,2012,2013,2014,2015 /mnt/f/cn05/Climite/CN05.1_Pre_1961_2020_daily_025x025.nc /mnt/f/cn05/Climite/out/cn05_1982_20150.nc\n",
       "Wed Dec 15 16:21:39 2021: cdo -r -O mergetime CN05.1_Pre_1961_2018_daily_025x025.nc CN05.1-2019/changetime/CN05.1_Pre_2019_daily_025x025.nc 2020/CN05.1_Pre_2020_daily_025x025.nc ../RegCM_BC/CN05.1/CN05.1_Pre_1961_2020_daily_025x025.nc\n",
       "Wed May 15 17:07:06 2019: cdo -f nc import_binary CN05.1_Pre_1961_2018_daily_025x025.ctl CN05.1_Pre_1961_2018_daily_025x025.nc</dd><dt><span>pyproj_srs :</span></dt><dd>+proj=longlat +datum=WGS84 +no_defs</dd><dt><span>CDO :</span></dt><dd>Climate Data Operators version 1.9.8 (https://mpimet.mpg.de/cdo)</dd></dl></div></li></ul></div></div>"
      ],
      "text/plain": [
       "<xarray.Dataset>\n",
       "Dimensions:  (time: 12418, lon: 141, lat: 101)\n",
       "Coordinates:\n",
       "  * time     (time) datetime64[ns] 1982-01-01 1982-01-02 ... 2015-12-31\n",
       "  * lon      (lon) float64 95.0 95.25 95.5 95.75 ... 129.2 129.5 129.8 130.0\n",
       "  * lat      (lat) float64 30.0 30.25 30.5 30.75 31.0 ... 54.25 54.5 54.75 55.0\n",
       "Data variables:\n",
       "    pre      (time, lat, lon) float32 ...\n",
       "Attributes:\n",
       "    CDI:          Climate Data Interface version 1.9.8 (https://mpimet.mpg.de...\n",
       "    Conventions:  CF-1.4\n",
       "    history:      Fri Apr 29 19:49:06 2022: cdo -O -s -sellonlatbox,95,130,30...\n",
       "    pyproj_srs:   +proj=longlat +datum=WGS84 +no_defs\n",
       "    CDO:          Climate Data Operators version 1.9.8 (https://mpimet.mpg.de..."
      ]
     },
     "execution_count": 24,
     "metadata": {},
     "output_type": "execute_result"
    }
   ],
   "source": [
    "cn05_tmax_huabei=xr.open_dataset('/mnt/f/cn05/cn05_huabei/huabeicn05.1_pre_1982_2015.nc')\n",
    "cn05_tmax_huabei"
   ]
  },
  {
   "cell_type": "code",
   "execution_count": 1,
   "id": "981e99af",
   "metadata": {},
   "outputs": [],
   "source": [
    "import numpy as np\n",
    "import xarray as xr\n",
    "import geopandas as geo\n",
    "import salem\n",
    "import os\n",
    "from cdo import *\n",
    "from cdo import Cdo\n",
    "cdo = Cdo() "
   ]
  },
  {
   "cell_type": "code",
   "execution_count": 5,
   "id": "75725225",
   "metadata": {},
   "outputs": [
    {
     "name": "stdout",
     "output_type": "stream",
     "text": [
      "Requirement already satisfied: pyproj==2.6.1 in ./miniconda3/envs/python/lib/python3.8/site-packages (2.6.1)\n",
      "Note: you may need to restart the kernel to use updated packages.\n"
     ]
    }
   ],
   "source": [
    "pip install pyproj==2.6.1"
   ]
  },
  {
   "cell_type": "code",
   "execution_count": 1,
   "id": "c0ca51a0",
   "metadata": {},
   "outputs": [
    {
     "name": "stdout",
     "output_type": "stream",
     "text": [
      "Collecting geopandas\n",
      "  Downloading geopandas-0.10.2-py2.py3-none-any.whl (1.0 MB)\n",
      "\u001b[K     |████████████████████████████████| 1.0 MB 28 kB/s eta 0:00:017\n",
      "\u001b[?25hRequirement already satisfied: shapely>=1.6 in ./miniconda3/envs/python/lib/python3.8/site-packages (from geopandas) (1.7.1)\n",
      "Collecting fiona>=1.8\n",
      "  Downloading Fiona-1.8.21-cp38-cp38-manylinux_2_17_x86_64.manylinux2014_x86_64.whl (16.6 MB)\n",
      "\u001b[K     |████████████████████████████████| 16.6 MB 26 kB/s eta 0:00:010\n",
      "\u001b[?25hRequirement already satisfied: pandas>=0.25.0 in ./miniconda3/envs/python/lib/python3.8/site-packages (from geopandas) (1.4.2)\n",
      "\u001b[33mWARNING: Retrying (Retry(total=4, connect=None, read=None, redirect=None, status=None)) after connection broken by 'ReadTimeoutError(\"HTTPSConnectionPool(host='pypi.org', port=443): Read timed out. (read timeout=15)\")': /simple/pyproj/\u001b[0m\n",
      "Collecting pyproj>=2.2.0\n",
      "  Downloading pyproj-3.3.1-cp38-cp38-manylinux_2_17_x86_64.manylinux2014_x86_64.whl (7.7 MB)\n",
      "\u001b[K     |████████████████████████████████| 7.7 MB 19 kB/s eta 0:00:0107\n",
      "\u001b[?25hRequirement already satisfied: six>=1.7 in ./miniconda3/envs/python/lib/python3.8/site-packages (from fiona>=1.8->geopandas) (1.16.0)\n",
      "\u001b[33mWARNING: Retrying (Retry(total=4, connect=None, read=None, redirect=None, status=None)) after connection broken by 'ReadTimeoutError(\"HTTPSConnectionPool(host='pypi.org', port=443): Read timed out. (read timeout=15)\")': /simple/munch/\u001b[0m\n",
      "Collecting munch\n",
      "  Downloading munch-2.5.0-py2.py3-none-any.whl (10 kB)\n",
      "Requirement already satisfied: setuptools in ./miniconda3/envs/python/lib/python3.8/site-packages (from fiona>=1.8->geopandas) (61.2.0)\n",
      "Collecting cligj>=0.5\n",
      "  Downloading cligj-0.7.2-py3-none-any.whl (7.1 kB)\n",
      "Requirement already satisfied: certifi in ./miniconda3/envs/python/lib/python3.8/site-packages (from fiona>=1.8->geopandas) (2021.10.8)\n",
      "Requirement already satisfied: attrs>=17 in ./miniconda3/envs/python/lib/python3.8/site-packages (from fiona>=1.8->geopandas) (21.4.0)\n",
      "Collecting click>=4.0\n",
      "  Downloading click-8.1.2-py3-none-any.whl (96 kB)\n",
      "\u001b[K     |████████████████████████████████| 96 kB 44 kB/s eta 0:00:01\n",
      "\u001b[?25hCollecting click-plugins>=1.0\n",
      "  Downloading click_plugins-1.1.1-py2.py3-none-any.whl (7.5 kB)\n",
      "Requirement already satisfied: python-dateutil>=2.8.1 in ./miniconda3/envs/python/lib/python3.8/site-packages (from pandas>=0.25.0->geopandas) (2.8.2)\n",
      "Requirement already satisfied: pytz>=2020.1 in ./miniconda3/envs/python/lib/python3.8/site-packages (from pandas>=0.25.0->geopandas) (2021.3)\n",
      "Requirement already satisfied: numpy>=1.18.5 in ./miniconda3/envs/python/lib/python3.8/site-packages (from pandas>=0.25.0->geopandas) (1.21.5)\n",
      "Installing collected packages: click, munch, cligj, click-plugins, pyproj, fiona, geopandas\n",
      "Successfully installed click-8.1.2 click-plugins-1.1.1 cligj-0.7.2 fiona-1.8.21 geopandas-0.10.2 munch-2.5.0 pyproj-3.3.1\n",
      "Note: you may need to restart the kernel to use updated packages.\n"
     ]
    }
   ],
   "source": [
    "pip install geopandas"
   ]
  },
  {
   "cell_type": "code",
   "execution_count": 6,
   "id": "cc6352fe",
   "metadata": {},
   "outputs": [
    {
     "name": "stdout",
     "output_type": "stream",
     "text": [
      "Collecting package metadata (current_repodata.json): done\n",
      "Solving environment: failed with initial frozen solve. Retrying with flexible solve.\n",
      "Solving environment: failed with repodata from current_repodata.json, will retry with next repodata source.\n",
      "Collecting package metadata (repodata.json): done\n",
      "Solving environment: done\n",
      "\n",
      "## Package Plan ##\n",
      "\n",
      "  environment location: /home/yqr/miniconda3/envs/python\n",
      "\n",
      "  added / updated specs:\n",
      "    - salem\n",
      "\n",
      "\n",
      "The following NEW packages will be INSTALLED:\n",
      "\n",
      "  bzip2              conda-forge/linux-64::bzip2-1.0.8-h7f98852_4\n",
      "  cftime             conda-forge/linux-64::cftime-1.5.0-py38hb5d20a5_0\n",
      "  curl               pkgs/main/linux-64::curl-7.82.0-h7f8727e_0\n",
      "  hdf4               conda-forge/linux-64::hdf4-4.2.15-h10796ff_3\n",
      "  hdf5               conda-forge/linux-64::hdf5-1.10.6-nompi_h7c3c948_1111\n",
      "  joblib             conda-forge/noarch::joblib-1.1.0-pyhd8ed1ab_0\n",
      "  libnetcdf          conda-forge/linux-64::libnetcdf-4.8.0-nompi_hcd642e3_103\n",
      "  libzip             conda-forge/linux-64::libzip-1.8.0-h4de3113_0\n",
      "  netcdf4            conda-forge/linux-64::netcdf4-1.5.7-nompi_py38h5e9db54_100\n",
      "  pyproj             pkgs/main/linux-64::pyproj-2.6.1.post1-py38h61f852b_1\n",
      "  salem              conda-forge/noarch::salem-0.3.7-pyhd8ed1ab_0\n",
      "\n",
      "The following packages will be SUPERSEDED by a higher-priority channel:\n",
      "\n",
      "  ca-certificates    pkgs/main::ca-certificates-2022.3.29-~ --> conda-forge::ca-certificates-2021.10.8-ha878542_0\n",
      "  certifi            pkgs/main::certifi-2021.10.8-py38h06a~ --> conda-forge::certifi-2021.10.8-py38h578d9bd_2\n",
      "\n",
      "\n",
      "Preparing transaction: done\n",
      "Verifying transaction: done\n",
      "Executing transaction: done\n",
      "\n",
      "Note: you may need to restart the kernel to use updated packages.\n"
     ]
    }
   ],
   "source": [
    "conda install -c conda-forge salem"
   ]
  },
  {
   "cell_type": "code",
   "execution_count": 2,
   "id": "d0aa28f1",
   "metadata": {},
   "outputs": [
    {
     "name": "stdout",
     "output_type": "stream",
     "text": [
      "Collecting package metadata (current_repodata.json): done\n",
      "Solving environment: done\n",
      "\n",
      "\n",
      "==> WARNING: A newer version of conda exists. <==\n",
      "  current version: 4.12.0\n",
      "  latest version: 22.9.0\n",
      "\n",
      "Please update conda by running\n",
      "\n",
      "    $ conda update -n base -c defaults conda\n",
      "\n",
      "\n",
      "\n",
      "## Package Plan ##\n",
      "\n",
      "  environment location: /home/yqr/miniconda3/envs/python\n",
      "\n",
      "  added / updated specs:\n",
      "    - pyshp\n",
      "\n",
      "\n",
      "The following packages will be downloaded:\n",
      "\n",
      "    package                    |            build\n",
      "    ---------------------------|-----------------\n",
      "    ca-certificates-2022.9.24  |       ha878542_0         150 KB  conda-forge\n",
      "    certifi-2022.9.24          |     pyhd8ed1ab_0         155 KB  conda-forge\n",
      "    pyshp-2.3.1                |     pyhd8ed1ab_0         941 KB  conda-forge\n",
      "    ------------------------------------------------------------\n",
      "                                           Total:         1.2 MB\n",
      "\n",
      "The following packages will be UPDATED:\n",
      "\n",
      "  ca-certificates    pkgs/main::ca-certificates-2022.07.19~ --> conda-forge::ca-certificates-2022.9.24-ha878542_0\n",
      "  certifi            pkgs/main/linux-64::certifi-2022.6.15~ --> conda-forge/noarch::certifi-2022.9.24-pyhd8ed1ab_0\n",
      "  pyshp                 pkgs/main::pyshp-2.1.3-pyhd3eb1b0_0 --> conda-forge::pyshp-2.3.1-pyhd8ed1ab_0\n",
      "\n",
      "\n",
      "\n",
      "Downloading and Extracting Packages\n",
      "pyshp-2.3.1          | 941 KB    | ##################################### | 100% \n",
      "ca-certificates-2022 | 150 KB    | ##################################### | 100% \n",
      "certifi-2022.9.24    | 155 KB    | ##################################### | 100% \n",
      "Preparing transaction: done\n",
      "Verifying transaction: done\n",
      "Executing transaction: done\n",
      "\n",
      "Note: you may need to restart the kernel to use updated packages.\n"
     ]
    }
   ],
   "source": [
    "conda install -c conda-forge pyshp"
   ]
  },
  {
   "cell_type": "code",
   "execution_count": 1,
   "id": "4837dcf9",
   "metadata": {},
   "outputs": [
    {
     "name": "stdout",
     "output_type": "stream",
     "text": [
      "Collecting package metadata (current_repodata.json): done\n",
      "Solving environment: failed with initial frozen solve. Retrying with flexible solve.\n",
      "Collecting package metadata (repodata.json): done\n",
      "Solving environment: failed with initial frozen solve. Retrying with flexible solve.\n",
      "\n",
      "PackagesNotFoundError: The following packages are not available from current channels:\n",
      "\n",
      "  - gma\n",
      "\n",
      "Current channels:\n",
      "\n",
      "  - https://conda.anaconda.org/conda-forge/linux-64\n",
      "  - https://conda.anaconda.org/conda-forge/noarch\n",
      "  - https://repo.anaconda.com/pkgs/main/linux-64\n",
      "  - https://repo.anaconda.com/pkgs/main/noarch\n",
      "  - https://repo.anaconda.com/pkgs/r/linux-64\n",
      "  - https://repo.anaconda.com/pkgs/r/noarch\n",
      "\n",
      "To search for alternate channels that may provide the conda package you're\n",
      "looking for, navigate to\n",
      "\n",
      "    https://anaconda.org\n",
      "\n",
      "and use the search bar at the top of the page.\n",
      "\n",
      "\n",
      "\n",
      "Note: you may need to restart the kernel to use updated packages.\n"
     ]
    }
   ],
   "source": [
    "conda install -c conda-forge gma"
   ]
  },
  {
   "cell_type": "code",
   "execution_count": 2,
   "id": "ae3c87d7",
   "metadata": {},
   "outputs": [
    {
     "ename": "SyntaxError",
     "evalue": "invalid syntax (3520709299.py, line 1)",
     "output_type": "error",
     "traceback": [
      "\u001b[0;36m  Input \u001b[0;32mIn [2]\u001b[0;36m\u001b[0m\n\u001b[0;31m    conda update matplotlib\u001b[0m\n\u001b[0m          ^\u001b[0m\n\u001b[0;31mSyntaxError\u001b[0m\u001b[0;31m:\u001b[0m invalid syntax\n"
     ]
    }
   ],
   "source": [
    "conda update matplotlib\n",
    "conda update cartopy"
   ]
  },
  {
   "cell_type": "code",
   "execution_count": 3,
   "id": "7cd806d1",
   "metadata": {},
   "outputs": [
    {
     "name": "stdout",
     "output_type": "stream",
     "text": [
      "Collecting package metadata (current_repodata.json): done\n",
      "Solving environment: done\n",
      "\n",
      "# All requested packages already installed.\n",
      "\n",
      "Retrieving notices: ...working... done\n",
      "\n",
      "Note: you may need to restart the kernel to use updated packages.\n"
     ]
    }
   ],
   "source": [
    "conda install -c conda-forge cartopy"
   ]
  },
  {
   "cell_type": "code",
   "execution_count": 12,
   "id": "099b782e",
   "metadata": {},
   "outputs": [
    {
     "name": "stdout",
     "output_type": "stream",
     "text": [
      "Collecting package metadata (repodata.json): done\n",
      "Solving environment: done\n",
      "\n",
      "## Package Plan ##\n",
      "\n",
      "  environment location: /home/yqr/miniconda3/envs/python\n",
      "\n",
      "  removed specs:\n",
      "    - cartopy\n",
      "\n",
      "\n",
      "The following packages will be downloaded:\n",
      "\n",
      "    package                    |            build\n",
      "    ---------------------------|-----------------\n",
      "    _openmp_mutex-5.1          |            1_gnu          21 KB\n",
      "    bottleneck-1.3.5           |   py38h7deecbd_0         115 KB\n",
      "    brotli-1.0.9               |       h5eee18b_7          18 KB\n",
      "    brotli-bin-1.0.9           |       h5eee18b_7          19 KB\n",
      "    cftime-1.5.1.1             |   py38hce1f21e_0         206 KB\n",
      "    curl-7.84.0                |       h5eee18b_0          79 KB\n",
      "    expat-2.4.9                |       h6a678d5_0         156 KB\n",
      "    fftw-3.3.9                 |       h27cfd23_1         2.3 MB\n",
      "    ipykernel-6.15.2           |   py38h06a4308_0         190 KB\n",
      "    ipython-8.4.0              |   py38h06a4308_0         960 KB\n",
      "    jasper-1.900.1             |       hd497a04_4         198 KB\n",
      "    jsonschema-4.16.0          |   py38h06a4308_0         128 KB\n",
      "    jupyter_client-7.3.5       |   py38h06a4308_0         192 KB\n",
      "    jupyter_core-4.11.1        |   py38h06a4308_0          76 KB\n",
      "    kiwisolver-1.4.2           |   py38h295c915_0          83 KB\n",
      "    lerc-3.0                   |       h295c915_0         196 KB\n",
      "    libaec-1.0.4               |       he6710b0_1          32 KB\n",
      "    libbrotlicommon-1.0.9      |       h5eee18b_7          70 KB\n",
      "    libbrotlidec-1.0.9         |       h5eee18b_7          31 KB\n",
      "    libbrotlienc-1.0.9         |       h5eee18b_7         264 KB\n",
      "    libcurl-7.84.0             |       h91b91d3_0         337 KB\n",
      "    libdeflate-1.8             |       h7f8727e_5          51 KB\n",
      "    libgcc-ng-11.2.0           |       h1234567_1         5.3 MB\n",
      "    libgomp-11.2.0             |       h1234567_1         474 KB\n",
      "    libssh2-1.10.0             |       h8f2d780_0         274 KB\n",
      "    libstdcxx-ng-11.2.0        |       h1234567_1         4.7 MB\n",
      "    libtiff-4.4.0              |       hecacb30_0         471 KB\n",
      "    libxcb-1.15                |       h7f8727e_0         505 KB\n",
      "    libxml2-2.9.14             |       h74e7548_0         718 KB\n",
      "    libxslt-1.1.35             |       h4e12654_0         453 KB\n",
      "    lxml-4.9.1                 |   py38h1edc446_0         1.3 MB\n",
      "    markupsafe-2.1.1           |   py38h7f8727e_0          21 KB\n",
      "    matplotlib-inline-0.1.6    |   py38h06a4308_0          16 KB\n",
      "    nbformat-5.5.0             |   py38h06a4308_0         128 KB\n",
      "    ncurses-6.3                |       h5eee18b_3         781 KB\n",
      "    numexpr-2.8.3              |   py38h807cd23_0         125 KB\n",
      "    pillow-9.2.0               |   py38hace64e9_1         666 KB\n",
      "    pip-22.2.2                 |   py38h06a4308_0         2.3 MB\n",
      "    pkgutil-resolve-name-1.3.10|   py38h06a4308_0           9 KB\n",
      "    prometheus_client-0.14.1   |   py38h06a4308_0          90 KB\n",
      "    psutil-5.9.0               |   py38h5eee18b_0         330 KB\n",
      "    pyparsing-3.0.9            |   py38h06a4308_0         152 KB\n",
      "    python-fastjsonschema-2.16.2|   py38h06a4308_0         230 KB\n",
      "    pytz-2022.1                |   py38h06a4308_0         196 KB\n",
      "    pyzmq-23.2.0               |   py38h6a678d5_0         448 KB\n",
      "    qtconsole-5.3.2            |   py38h06a4308_0         176 KB\n",
      "    qtpy-2.2.0                 |   py38h06a4308_0          84 KB\n",
      "    setuptools-63.4.1          |   py38h06a4308_0         1.1 MB\n",
      "    testpath-0.6.0             |   py38h06a4308_0          85 KB\n",
      "    tk-8.6.12                  |       h1ccaba5_0         3.0 MB\n",
      "    tornado-6.2                |   py38h5eee18b_0         590 KB\n",
      "    typing-extensions-4.3.0    |   py38h06a4308_0           9 KB\n",
      "    typing_extensions-4.3.0    |   py38h06a4308_0          42 KB\n",
      "    udunits2-2.2.25            |       hd30922c_1         143 KB\n",
      "    xz-5.2.6                   |       h5eee18b_0         394 KB\n",
      "    zipp-3.8.0                 |   py38h06a4308_0          15 KB\n",
      "    zlib-1.2.12                |       h5eee18b_3         103 KB\n",
      "    zstd-1.5.2                 |       ha4553b6_0         488 KB\n",
      "    ------------------------------------------------------------\n",
      "                                           Total:        31.4 MB\n",
      "\n",
      "The following NEW packages will be INSTALLED:\n",
      "\n",
      "  brotli-bin         pkgs/main/linux-64::brotli-bin-1.0.9-h5eee18b_7 None\n",
      "  lerc               pkgs/main/linux-64::lerc-3.0-h295c915_0 None\n",
      "  libbrotlicommon    pkgs/main/linux-64::libbrotlicommon-1.0.9-h5eee18b_7 None\n",
      "  libbrotlidec       pkgs/main/linux-64::libbrotlidec-1.0.9-h5eee18b_7 None\n",
      "  libbrotlienc       pkgs/main/linux-64::libbrotlienc-1.0.9-h5eee18b_7 None\n",
      "  libdeflate         pkgs/main/linux-64::libdeflate-1.8-h7f8727e_5 None\n",
      "  pkgutil-resolve-n~ pkgs/main/linux-64::pkgutil-resolve-name-1.3.10-py38h06a4308_0 None\n",
      "  psutil             pkgs/main/linux-64::psutil-5.9.0-py38h5eee18b_0 None\n",
      "\n",
      "The following packages will be REMOVED:\n",
      "\n",
      "  brotlipy-0.7.0-py38h497a2fe_1001\n",
      "  cartopy-0.17.0-py38he3879fd_1012\n",
      "  charset-normalizer-2.0.12-pyhd8ed1ab_0\n",
      "  cryptography-35.0.0-py38ha5dfef3_0\n",
      "  geos-3.8.0-he6710b0_0\n",
      "  idna-3.3-pyhd8ed1ab_0\n",
      "  libzip-1.8.0-h4de3113_0\n",
      "  owslib-0.25.0-pyhd8ed1ab_0\n",
      "  pyepsg-0.4.0-py_0\n",
      "  pykdtree-1.3.4-py38h0b5ebd8_0\n",
      "  pyopenssl-22.0.0-pyhd8ed1ab_0\n",
      "  pysocks-1.7.1-py38h578d9bd_5\n",
      "  requests-2.27.1-pyhd8ed1ab_0\n",
      "  shapely-1.7.1-py38h1728cc4_0\n",
      "  urllib3-1.26.9-pyhd8ed1ab_0\n",
      "\n",
      "The following packages will be UPDATED:\n",
      "\n",
      "  _openmp_mutex                                   4.5-1_gnu --> 5.1-1_gnu None\n",
      "  bottleneck                           1.3.4-py38hce1f21e_0 --> 1.3.5-py38h7deecbd_0 None\n",
      "  brotli                                   1.0.9-he6710b0_2 --> 1.0.9-h5eee18b_7 None\n",
      "  cftime             conda-forge::cftime-1.5.0-py38hb5d20a~ --> pkgs/main::cftime-1.5.1.1-py38hce1f21e_0 None\n",
      "  curl                                    7.82.0-h7f8727e_0 --> 7.84.0-h5eee18b_0 None\n",
      "  expat                                    2.4.4-h295c915_0 --> 2.4.9-h6a678d5_0 None\n",
      "  fftw               conda-forge::fftw-3.3.8-nompi_hfc0cae~ --> pkgs/main::fftw-3.3.9-h27cfd23_1 None\n",
      "  ipykernel                            6.9.1-py38h06a4308_0 --> 6.15.2-py38h06a4308_0 None\n",
      "  ipython                              8.2.0-py38h06a4308_0 --> 8.4.0-py38h06a4308_0 None\n",
      "  jsonschema                           4.4.0-py38h06a4308_0 --> 4.16.0-py38h06a4308_0 None\n",
      "  jupyter_client                       7.2.2-py38h06a4308_0 --> 7.3.5-py38h06a4308_0 None\n",
      "  jupyter_core                         4.9.2-py38h06a4308_0 --> 4.11.1-py38h06a4308_0 None\n",
      "  kiwisolver                           1.3.2-py38h295c915_0 --> 1.4.2-py38h295c915_0 None\n",
      "  libcurl                                 7.82.0-h0b77cf5_0 --> 7.84.0-h91b91d3_0 None\n",
      "  libgcc-ng                               9.3.0-h5101ec6_17 --> 11.2.0-h1234567_1 None\n",
      "  libgomp                                 9.3.0-h5101ec6_17 --> 11.2.0-h1234567_1 None\n",
      "  libssh2                                  1.9.0-h1ba5d50_1 --> 1.10.0-h8f2d780_0 None\n",
      "  libstdcxx-ng                            9.3.0-hd4cf53a_17 --> 11.2.0-h1234567_1 None\n",
      "  libtiff                                  4.2.0-h85742a9_0 --> 4.4.0-hecacb30_0 None\n",
      "  libxcb                                    1.14-h7b6447c_0 --> 1.15-h7f8727e_0 None\n",
      "  libxml2                                 2.9.12-h03d6c58_0 --> 2.9.14-h74e7548_0 None\n",
      "  libxslt                                 1.1.34-hc22bd24_0 --> 1.1.35-h4e12654_0 None\n",
      "  lxml                                 4.8.0-py38h1f438cf_0 --> 4.9.1-py38h1edc446_0 None\n",
      "  markupsafe                           2.0.1-py38h27cfd23_0 --> 2.1.1-py38h7f8727e_0 None\n",
      "  matplotlib-inline  pkgs/main/noarch::matplotlib-inline-0~ --> pkgs/main/linux-64::matplotlib-inline-0.1.6-py38h06a4308_0 None\n",
      "  nbformat                             5.3.0-py38h06a4308_0 --> 5.5.0-py38h06a4308_0 None\n",
      "  ncurses                                    6.3-h7f8727e_2 --> 6.3-h5eee18b_3 None\n",
      "  numexpr                              2.8.1-py38h6abb31d_0 --> 2.8.3-py38h807cd23_0 None\n",
      "  pillow                               9.0.1-py38h22f2fdc_0 --> 9.2.0-py38hace64e9_1 None\n",
      "  pip                                 21.2.4-py38h06a4308_0 --> 22.2.2-py38h06a4308_0 None\n",
      "  prometheus_client  pkgs/main/noarch::prometheus_client-0~ --> pkgs/main/linux-64::prometheus_client-0.14.1-py38h06a4308_0 None\n",
      "  pyparsing          pkgs/main/noarch::pyparsing-3.0.4-pyh~ --> pkgs/main/linux-64::pyparsing-3.0.9-py38h06a4308_0 None\n",
      "  python-fastjsonsc~ pkgs/main/noarch::python-fastjsonsche~ --> pkgs/main/linux-64::python-fastjsonschema-2.16.2-py38h06a4308_0 None\n",
      "  pytz               pkgs/main/noarch::pytz-2021.3-pyhd3eb~ --> pkgs/main/linux-64::pytz-2022.1-py38h06a4308_0 None\n",
      "  pyzmq                               22.3.0-py38h295c915_2 --> 23.2.0-py38h6a678d5_0 None\n",
      "  qtconsole          pkgs/main/noarch::qtconsole-5.3.0-pyh~ --> pkgs/main/linux-64::qtconsole-5.3.2-py38h06a4308_0 None\n",
      "  qtpy               pkgs/main/noarch::qtpy-2.0.1-pyhd3eb1~ --> pkgs/main/linux-64::qtpy-2.2.0-py38h06a4308_0 None\n",
      "  setuptools                          61.2.0-py38h06a4308_0 --> 63.4.1-py38h06a4308_0 None\n",
      "  testpath           pkgs/main/noarch::testpath-0.5.0-pyhd~ --> pkgs/main/linux-64::testpath-0.6.0-py38h06a4308_0 None\n",
      "  tk                                      8.6.11-h1ccaba5_0 --> 8.6.12-h1ccaba5_0 None\n",
      "  tornado                                6.1-py38h27cfd23_0 --> 6.2-py38h5eee18b_0 None\n",
      "  typing-extensions  pkgs/main/noarch::typing-extensions-4~ --> pkgs/main/linux-64::typing-extensions-4.3.0-py38h06a4308_0 None\n",
      "  typing_extensions  pkgs/main/noarch::typing_extensions-4~ --> pkgs/main/linux-64::typing_extensions-4.3.0-py38h06a4308_0 None\n",
      "  xz                                       5.2.5-h7b6447c_0 --> 5.2.6-h5eee18b_0 None\n",
      "  zipp               pkgs/main/noarch::zipp-3.7.0-pyhd3eb1~ --> pkgs/main/linux-64::zipp-3.8.0-py38h06a4308_0 None\n",
      "  zlib                                    1.2.12-h7f8727e_2 --> 1.2.12-h5eee18b_3 None\n",
      "  zstd                                     1.4.9-haebb681_0 --> 1.5.2-ha4553b6_0 None\n",
      "\n",
      "The following packages will be SUPERSEDED by a higher-priority channel:\n",
      "\n",
      "  bzip2                 conda-forge::bzip2-1.0.8-h7f98852_4 --> pkgs/main::bzip2-1.0.8-h7b6447c_0 None\n",
      "  ca-certificates    conda-forge::ca-certificates-2022.9.2~ --> pkgs/main::ca-certificates-2022.07.19-h06a4308_0 None\n",
      "  certifi            conda-forge/noarch::certifi-2022.9.24~ --> pkgs/main/linux-64::certifi-2022.9.24-py38h06a4308_0 None\n",
      "  hdf4                  conda-forge::hdf4-4.2.15-h10796ff_3 --> pkgs/main::hdf4-4.2.13-h3ca952b_2 None\n",
      "  jasper             conda-forge::jasper-1.900.1-h07fcdf6_~ --> pkgs/main::jasper-1.900.1-hd497a04_4 None\n",
      "  joblib             conda-forge::joblib-1.1.0-pyhd8ed1ab_0 --> pkgs/main::joblib-1.1.0-pyhd3eb1b0_0 None\n",
      "  libaec               conda-forge::libaec-1.0.5-h9c3ff4c_0 --> pkgs/main::libaec-1.0.4-he6710b0_1 None\n",
      "  udunits2           conda-forge::udunits2-2.2.27.27-h975c~ --> pkgs/main::udunits2-2.2.25-hd30922c_1 None\n",
      "\n",
      "\n",
      "\n",
      "Downloading and Extracting Packages\n"
     ]
    },
    {
     "name": "stdout",
     "output_type": "stream",
     "text": [
      "setuptools-63.4.1    | 1.1 MB    | ##################################### | 100% \n",
      "_openmp_mutex-5.1    | 21 KB     | ##################################### | 100% \n",
      "testpath-0.6.0       | 85 KB     | ##################################### | 100% \n",
      "cftime-1.5.1.1       | 206 KB    | ##################################### | 100% \n",
      "tk-8.6.12            | 3.0 MB    | ##################################### | 100% \n",
      "libxslt-1.1.35       | 453 KB    | ##################################### | 100% \n",
      "brotli-bin-1.0.9     | 19 KB     | ##################################### | 100% \n",
      "libcurl-7.84.0       | 337 KB    | ##################################### | 100% \n",
      "qtconsole-5.3.2      | 176 KB    | ##################################### | 100% \n",
      "libssh2-1.10.0       | 274 KB    | ##################################### | 100% \n",
      "python-fastjsonschem | 230 KB    | ##################################### | 100% \n",
      "kiwisolver-1.4.2     | 83 KB     | ##################################### | 100% \n",
      "ipykernel-6.15.2     | 190 KB    | ##################################### | 100% \n",
      "typing-extensions-4. | 9 KB      | ##################################### | 100% \n",
      "pip-22.2.2           | 2.3 MB    | ##################################### | 100% \n",
      "libgomp-11.2.0       | 474 KB    | ##################################### | 100% \n",
      "pyzmq-23.2.0         | 448 KB    | ##################################### | 100% \n",
      "libdeflate-1.8       | 51 KB     | ##################################### | 100% \n",
      "ncurses-6.3          | 781 KB    | ##################################### | 100% \n",
      "jasper-1.900.1       | 198 KB    | ##################################### | 100% \n",
      "fftw-3.3.9           | 2.3 MB    | ##################################### | 100% \n",
      "libaec-1.0.4         | 32 KB     | ##################################### | 100% \n",
      "brotli-1.0.9         | 18 KB     | ##################################### | 100% \n",
      "lxml-4.9.1           | 1.3 MB    | ##################################### | 100% \n",
      "jsonschema-4.16.0    | 128 KB    | ##################################### | 100% \n",
      "pillow-9.2.0         | 666 KB    | ##################################### | 100% \n",
      "matplotlib-inline-0. | 16 KB     | ##################################### | 100% \n",
      "qtpy-2.2.0           | 84 KB     | ##################################### | 100% \n",
      "jupyter_core-4.11.1  | 76 KB     | ##################################### | 100% \n",
      "bottleneck-1.3.5     | 115 KB    | ##################################### | 100% \n",
      "xz-5.2.6             | 394 KB    | ##################################### | 100% \n",
      "libbrotlicommon-1.0. | 70 KB     | ##################################### | 100% \n",
      "zstd-1.5.2           | 488 KB    | ##################################### | 100% \n",
      "libstdcxx-ng-11.2.0  | 4.7 MB    | ##################################### | 100% \n",
      "pyparsing-3.0.9      | 152 KB    | ##################################### | 100% \n",
      "libbrotlidec-1.0.9   | 31 KB     | ##################################### | 100% \n",
      "expat-2.4.9          | 156 KB    | ##################################### | 100% \n",
      "prometheus_client-0. | 90 KB     | ##################################### | 100% \n",
      "numexpr-2.8.3        | 125 KB    | ##################################### | 100% \n",
      "curl-7.84.0          | 79 KB     | ##################################### | 100% \n",
      "zlib-1.2.12          | 103 KB    | ##################################### | 100% \n",
      "udunits2-2.2.25      | 143 KB    | ##################################### | 100% \n",
      "zipp-3.8.0           | 15 KB     | ##################################### | 100% \n",
      "tornado-6.2          | 590 KB    | ##################################### | 100% \n",
      "jupyter_client-7.3.5 | 192 KB    | ##################################### | 100% \n",
      "pkgutil-resolve-name | 9 KB      | ##################################### | 100% \n",
      "libtiff-4.4.0        | 471 KB    | ##################################### | 100% \n",
      "pytz-2022.1          | 196 KB    | ##################################### | 100% \n",
      "nbformat-5.5.0       | 128 KB    | ##################################### | 100% \n",
      "typing_extensions-4. | 42 KB     | ##################################### | 100% \n",
      "libgcc-ng-11.2.0     | 5.3 MB    | ##################################### | 100% \n",
      "lerc-3.0             | 196 KB    | ##################################### | 100% \n",
      "markupsafe-2.1.1     | 21 KB     | ##################################### | 100% \n",
      "ipython-8.4.0        | 960 KB    | ##################################### | 100% \n",
      "psutil-5.9.0         | 330 KB    | ##################################### | 100% \n",
      "libxml2-2.9.14       | 718 KB    | ##################################### | 100% \n",
      "libxcb-1.15          | 505 KB    | ##################################### | 100% \n",
      "libbrotlienc-1.0.9   | 264 KB    | ##################################### | 100% \n",
      "Preparing transaction: done\n",
      "Verifying transaction: done\n",
      "Executing transaction: done\n",
      "\n",
      "Note: you may need to restart the kernel to use updated packages.\n"
     ]
    }
   ],
   "source": [
    "conda uninstall cartopy"
   ]
  },
  {
   "cell_type": "code",
   "execution_count": 14,
   "id": "53565541",
   "metadata": {},
   "outputs": [
    {
     "name": "stdout",
     "output_type": "stream",
     "text": [
      "Collecting package metadata (repodata.json): done\n",
      "Solving environment: done\n",
      "\n",
      "## Package Plan ##\n",
      "\n",
      "  environment location: /home/yqr/miniconda3/envs/python\n",
      "\n",
      "  removed specs:\n",
      "    - matplotlib\n",
      "\n",
      "\n",
      "The following packages will be REMOVED:\n",
      "\n",
      "  brotli-1.0.9-h5eee18b_7\n",
      "  brotli-bin-1.0.9-h5eee18b_7\n",
      "  cycler-0.11.0-pyhd3eb1b0_0\n",
      "  fonttools-4.25.0-pyhd3eb1b0_0\n",
      "  giflib-5.2.1-h7b6447c_0\n",
      "  kiwisolver-1.4.2-py38h295c915_0\n",
      "  lcms2-2.12-h3be6417_0\n",
      "  lerc-3.0-h295c915_0\n",
      "  libbrotlicommon-1.0.9-h5eee18b_7\n",
      "  libbrotlidec-1.0.9-h5eee18b_7\n",
      "  libbrotlienc-1.0.9-h5eee18b_7\n",
      "  libdeflate-1.8-h7f8727e_5\n",
      "  libtiff-4.4.0-hecacb30_0\n",
      "  libwebp-1.2.2-h55f646e_0\n",
      "  libwebp-base-1.2.2-h7f8727e_0\n",
      "  lz4-c-1.9.3-h295c915_1\n",
      "  matplotlib-3.5.1-py38h06a4308_1\n",
      "  matplotlib-base-3.5.1-py38ha18d171_1\n",
      "  munkres-1.1.4-py_0\n",
      "  pillow-9.2.0-py38hace64e9_1\n",
      "  seaborn-0.11.2-pyhd3eb1b0_0\n",
      "  zstd-1.5.2-ha4553b6_0\n",
      "\n",
      "\n",
      "Preparing transaction: done\n",
      "Verifying transaction: done\n",
      "Executing transaction: done\n",
      "\n",
      "Note: you may need to restart the kernel to use updated packages.\n"
     ]
    }
   ],
   "source": [
    "conda uninstall matplotlib"
   ]
  },
  {
   "cell_type": "code",
   "execution_count": 5,
   "id": "62b587b3",
   "metadata": {},
   "outputs": [],
   "source": [
    "import cartopy.io.shapereader as sr\n",
    "import cartopy.feature as cfeature\n",
    "from cartopy.mpl import geoaxes\n",
    "from cartopy.mpl.gridliner import LONGITUDE_FORMATTER, LATITUDE_FORMATTER\n",
    "import matplotlib.pyplot as plt\n",
    "import matplotlib.patches as mpatches\n",
    "import cartopy.crs as ccrs\n",
    "from matplotlib.path import Path\n",
    "from matplotlib.patches import PathPatch\n",
    "import shapefile"
   ]
  },
  {
   "cell_type": "code",
   "execution_count": 6,
   "id": "2e82523f",
   "metadata": {},
   "outputs": [
    {
     "ename": "TypeError",
     "evalue": "draw_wrapper() got an unexpected keyword argument 'inframe'",
     "output_type": "error",
     "traceback": [
      "\u001b[0;31m---------------------------------------------------------------------------\u001b[0m",
      "\u001b[0;31mTypeError\u001b[0m                                 Traceback (most recent call last)",
      "File \u001b[0;32m~/miniconda3/envs/python/lib/python3.8/site-packages/IPython/core/formatters.py:339\u001b[0m, in \u001b[0;36mBaseFormatter.__call__\u001b[0;34m(self, obj)\u001b[0m\n\u001b[1;32m    337\u001b[0m     \u001b[38;5;28;01mpass\u001b[39;00m\n\u001b[1;32m    338\u001b[0m \u001b[38;5;28;01melse\u001b[39;00m:\n\u001b[0;32m--> 339\u001b[0m     \u001b[38;5;28;01mreturn\u001b[39;00m \u001b[43mprinter\u001b[49m\u001b[43m(\u001b[49m\u001b[43mobj\u001b[49m\u001b[43m)\u001b[49m\n\u001b[1;32m    340\u001b[0m \u001b[38;5;66;03m# Finally look for special method names\u001b[39;00m\n\u001b[1;32m    341\u001b[0m method \u001b[38;5;241m=\u001b[39m get_real_method(obj, \u001b[38;5;28mself\u001b[39m\u001b[38;5;241m.\u001b[39mprint_method)\n",
      "File \u001b[0;32m~/miniconda3/envs/python/lib/python3.8/site-packages/IPython/core/pylabtools.py:151\u001b[0m, in \u001b[0;36mprint_figure\u001b[0;34m(fig, fmt, bbox_inches, base64, **kwargs)\u001b[0m\n\u001b[1;32m    148\u001b[0m     \u001b[38;5;28;01mfrom\u001b[39;00m \u001b[38;5;21;01mmatplotlib\u001b[39;00m\u001b[38;5;21;01m.\u001b[39;00m\u001b[38;5;21;01mbackend_bases\u001b[39;00m \u001b[38;5;28;01mimport\u001b[39;00m FigureCanvasBase\n\u001b[1;32m    149\u001b[0m     FigureCanvasBase(fig)\n\u001b[0;32m--> 151\u001b[0m \u001b[43mfig\u001b[49m\u001b[38;5;241;43m.\u001b[39;49m\u001b[43mcanvas\u001b[49m\u001b[38;5;241;43m.\u001b[39;49m\u001b[43mprint_figure\u001b[49m\u001b[43m(\u001b[49m\u001b[43mbytes_io\u001b[49m\u001b[43m,\u001b[49m\u001b[43m \u001b[49m\u001b[38;5;241;43m*\u001b[39;49m\u001b[38;5;241;43m*\u001b[39;49m\u001b[43mkw\u001b[49m\u001b[43m)\u001b[49m\n\u001b[1;32m    152\u001b[0m data \u001b[38;5;241m=\u001b[39m bytes_io\u001b[38;5;241m.\u001b[39mgetvalue()\n\u001b[1;32m    153\u001b[0m \u001b[38;5;28;01mif\u001b[39;00m fmt \u001b[38;5;241m==\u001b[39m \u001b[38;5;124m'\u001b[39m\u001b[38;5;124msvg\u001b[39m\u001b[38;5;124m'\u001b[39m:\n",
      "File \u001b[0;32m~/miniconda3/envs/python/lib/python3.8/site-packages/matplotlib/backend_bases.py:2295\u001b[0m, in \u001b[0;36mFigureCanvasBase.print_figure\u001b[0;34m(self, filename, dpi, facecolor, edgecolor, orientation, format, bbox_inches, pad_inches, bbox_extra_artists, backend, **kwargs)\u001b[0m\n\u001b[1;32m   2289\u001b[0m     renderer \u001b[38;5;241m=\u001b[39m _get_renderer(\n\u001b[1;32m   2290\u001b[0m         \u001b[38;5;28mself\u001b[39m\u001b[38;5;241m.\u001b[39mfigure,\n\u001b[1;32m   2291\u001b[0m         functools\u001b[38;5;241m.\u001b[39mpartial(\n\u001b[1;32m   2292\u001b[0m             print_method, orientation\u001b[38;5;241m=\u001b[39morientation)\n\u001b[1;32m   2293\u001b[0m     )\n\u001b[1;32m   2294\u001b[0m     \u001b[38;5;28;01mwith\u001b[39;00m \u001b[38;5;28mgetattr\u001b[39m(renderer, \u001b[38;5;124m\"\u001b[39m\u001b[38;5;124m_draw_disabled\u001b[39m\u001b[38;5;124m\"\u001b[39m, nullcontext)():\n\u001b[0;32m-> 2295\u001b[0m         \u001b[38;5;28;43mself\u001b[39;49m\u001b[38;5;241;43m.\u001b[39;49m\u001b[43mfigure\u001b[49m\u001b[38;5;241;43m.\u001b[39;49m\u001b[43mdraw\u001b[49m\u001b[43m(\u001b[49m\u001b[43mrenderer\u001b[49m\u001b[43m)\u001b[49m\n\u001b[1;32m   2297\u001b[0m \u001b[38;5;28;01mif\u001b[39;00m bbox_inches:\n\u001b[1;32m   2298\u001b[0m     \u001b[38;5;28;01mif\u001b[39;00m bbox_inches \u001b[38;5;241m==\u001b[39m \u001b[38;5;124m\"\u001b[39m\u001b[38;5;124mtight\u001b[39m\u001b[38;5;124m\"\u001b[39m:\n",
      "File \u001b[0;32m~/miniconda3/envs/python/lib/python3.8/site-packages/matplotlib/artist.py:73\u001b[0m, in \u001b[0;36m_finalize_rasterization.<locals>.draw_wrapper\u001b[0;34m(artist, renderer, *args, **kwargs)\u001b[0m\n\u001b[1;32m     71\u001b[0m \u001b[38;5;129m@wraps\u001b[39m(draw)\n\u001b[1;32m     72\u001b[0m \u001b[38;5;28;01mdef\u001b[39;00m \u001b[38;5;21mdraw_wrapper\u001b[39m(artist, renderer, \u001b[38;5;241m*\u001b[39margs, \u001b[38;5;241m*\u001b[39m\u001b[38;5;241m*\u001b[39mkwargs):\n\u001b[0;32m---> 73\u001b[0m     result \u001b[38;5;241m=\u001b[39m \u001b[43mdraw\u001b[49m\u001b[43m(\u001b[49m\u001b[43martist\u001b[49m\u001b[43m,\u001b[49m\u001b[43m \u001b[49m\u001b[43mrenderer\u001b[49m\u001b[43m,\u001b[49m\u001b[43m \u001b[49m\u001b[38;5;241;43m*\u001b[39;49m\u001b[43margs\u001b[49m\u001b[43m,\u001b[49m\u001b[43m \u001b[49m\u001b[38;5;241;43m*\u001b[39;49m\u001b[38;5;241;43m*\u001b[39;49m\u001b[43mkwargs\u001b[49m\u001b[43m)\u001b[49m\n\u001b[1;32m     74\u001b[0m     \u001b[38;5;28;01mif\u001b[39;00m renderer\u001b[38;5;241m.\u001b[39m_rasterizing:\n\u001b[1;32m     75\u001b[0m         renderer\u001b[38;5;241m.\u001b[39mstop_rasterizing()\n",
      "File \u001b[0;32m~/miniconda3/envs/python/lib/python3.8/site-packages/matplotlib/artist.py:50\u001b[0m, in \u001b[0;36mallow_rasterization.<locals>.draw_wrapper\u001b[0;34m(artist, renderer)\u001b[0m\n\u001b[1;32m     47\u001b[0m     \u001b[38;5;28;01mif\u001b[39;00m artist\u001b[38;5;241m.\u001b[39mget_agg_filter() \u001b[38;5;129;01mis\u001b[39;00m \u001b[38;5;129;01mnot\u001b[39;00m \u001b[38;5;28;01mNone\u001b[39;00m:\n\u001b[1;32m     48\u001b[0m         renderer\u001b[38;5;241m.\u001b[39mstart_filter()\n\u001b[0;32m---> 50\u001b[0m     \u001b[38;5;28;01mreturn\u001b[39;00m \u001b[43mdraw\u001b[49m\u001b[43m(\u001b[49m\u001b[43martist\u001b[49m\u001b[43m,\u001b[49m\u001b[43m \u001b[49m\u001b[43mrenderer\u001b[49m\u001b[43m)\u001b[49m\n\u001b[1;32m     51\u001b[0m \u001b[38;5;28;01mfinally\u001b[39;00m:\n\u001b[1;32m     52\u001b[0m     \u001b[38;5;28;01mif\u001b[39;00m artist\u001b[38;5;241m.\u001b[39mget_agg_filter() \u001b[38;5;129;01mis\u001b[39;00m \u001b[38;5;129;01mnot\u001b[39;00m \u001b[38;5;28;01mNone\u001b[39;00m:\n",
      "File \u001b[0;32m~/miniconda3/envs/python/lib/python3.8/site-packages/matplotlib/figure.py:2837\u001b[0m, in \u001b[0;36mFigure.draw\u001b[0;34m(self, renderer)\u001b[0m\n\u001b[1;32m   2834\u001b[0m         \u001b[38;5;66;03m# ValueError can occur when resizing a window.\u001b[39;00m\n\u001b[1;32m   2836\u001b[0m \u001b[38;5;28mself\u001b[39m\u001b[38;5;241m.\u001b[39mpatch\u001b[38;5;241m.\u001b[39mdraw(renderer)\n\u001b[0;32m-> 2837\u001b[0m \u001b[43mmimage\u001b[49m\u001b[38;5;241;43m.\u001b[39;49m\u001b[43m_draw_list_compositing_images\u001b[49m\u001b[43m(\u001b[49m\n\u001b[1;32m   2838\u001b[0m \u001b[43m    \u001b[49m\u001b[43mrenderer\u001b[49m\u001b[43m,\u001b[49m\u001b[43m \u001b[49m\u001b[38;5;28;43mself\u001b[39;49m\u001b[43m,\u001b[49m\u001b[43m \u001b[49m\u001b[43martists\u001b[49m\u001b[43m,\u001b[49m\u001b[43m \u001b[49m\u001b[38;5;28;43mself\u001b[39;49m\u001b[38;5;241;43m.\u001b[39;49m\u001b[43msuppressComposite\u001b[49m\u001b[43m)\u001b[49m\n\u001b[1;32m   2840\u001b[0m \u001b[38;5;28;01mfor\u001b[39;00m sfig \u001b[38;5;129;01min\u001b[39;00m \u001b[38;5;28mself\u001b[39m\u001b[38;5;241m.\u001b[39msubfigs:\n\u001b[1;32m   2841\u001b[0m     sfig\u001b[38;5;241m.\u001b[39mdraw(renderer)\n",
      "File \u001b[0;32m~/miniconda3/envs/python/lib/python3.8/site-packages/matplotlib/image.py:132\u001b[0m, in \u001b[0;36m_draw_list_compositing_images\u001b[0;34m(renderer, parent, artists, suppress_composite)\u001b[0m\n\u001b[1;32m    130\u001b[0m \u001b[38;5;28;01mif\u001b[39;00m not_composite \u001b[38;5;129;01mor\u001b[39;00m \u001b[38;5;129;01mnot\u001b[39;00m has_images:\n\u001b[1;32m    131\u001b[0m     \u001b[38;5;28;01mfor\u001b[39;00m a \u001b[38;5;129;01min\u001b[39;00m artists:\n\u001b[0;32m--> 132\u001b[0m         \u001b[43ma\u001b[49m\u001b[38;5;241;43m.\u001b[39;49m\u001b[43mdraw\u001b[49m\u001b[43m(\u001b[49m\u001b[43mrenderer\u001b[49m\u001b[43m)\u001b[49m\n\u001b[1;32m    133\u001b[0m \u001b[38;5;28;01melse\u001b[39;00m:\n\u001b[1;32m    134\u001b[0m     \u001b[38;5;66;03m# Composite any adjacent images together\u001b[39;00m\n\u001b[1;32m    135\u001b[0m     image_group \u001b[38;5;241m=\u001b[39m []\n",
      "File \u001b[0;32m~/miniconda3/envs/python/lib/python3.8/site-packages/matplotlib/artist.py:50\u001b[0m, in \u001b[0;36mallow_rasterization.<locals>.draw_wrapper\u001b[0;34m(artist, renderer)\u001b[0m\n\u001b[1;32m     47\u001b[0m     \u001b[38;5;28;01mif\u001b[39;00m artist\u001b[38;5;241m.\u001b[39mget_agg_filter() \u001b[38;5;129;01mis\u001b[39;00m \u001b[38;5;129;01mnot\u001b[39;00m \u001b[38;5;28;01mNone\u001b[39;00m:\n\u001b[1;32m     48\u001b[0m         renderer\u001b[38;5;241m.\u001b[39mstart_filter()\n\u001b[0;32m---> 50\u001b[0m     \u001b[38;5;28;01mreturn\u001b[39;00m \u001b[43mdraw\u001b[49m\u001b[43m(\u001b[49m\u001b[43martist\u001b[49m\u001b[43m,\u001b[49m\u001b[43m \u001b[49m\u001b[43mrenderer\u001b[49m\u001b[43m)\u001b[49m\n\u001b[1;32m     51\u001b[0m \u001b[38;5;28;01mfinally\u001b[39;00m:\n\u001b[1;32m     52\u001b[0m     \u001b[38;5;28;01mif\u001b[39;00m artist\u001b[38;5;241m.\u001b[39mget_agg_filter() \u001b[38;5;129;01mis\u001b[39;00m \u001b[38;5;129;01mnot\u001b[39;00m \u001b[38;5;28;01mNone\u001b[39;00m:\n",
      "File \u001b[0;32m~/miniconda3/envs/python/lib/python3.8/site-packages/cartopy/mpl/geoaxes.py:387\u001b[0m, in \u001b[0;36mGeoAxes.draw\u001b[0;34m(self, renderer, inframe)\u001b[0m\n\u001b[1;32m    383\u001b[0m         \u001b[38;5;28mself\u001b[39m\u001b[38;5;241m.\u001b[39mimshow(img, extent\u001b[38;5;241m=\u001b[39mextent, origin\u001b[38;5;241m=\u001b[39morigin,\n\u001b[1;32m    384\u001b[0m                     transform\u001b[38;5;241m=\u001b[39mfactory\u001b[38;5;241m.\u001b[39mcrs, \u001b[38;5;241m*\u001b[39margs[\u001b[38;5;241m1\u001b[39m:], \u001b[38;5;241m*\u001b[39m\u001b[38;5;241m*\u001b[39mkwargs)\n\u001b[1;32m    385\u001b[0m \u001b[38;5;28mself\u001b[39m\u001b[38;5;241m.\u001b[39m_done_img_factory \u001b[38;5;241m=\u001b[39m \u001b[38;5;28;01mTrue\u001b[39;00m\n\u001b[0;32m--> 387\u001b[0m \u001b[38;5;28;01mreturn\u001b[39;00m \u001b[43mmatplotlib\u001b[49m\u001b[38;5;241;43m.\u001b[39;49m\u001b[43maxes\u001b[49m\u001b[38;5;241;43m.\u001b[39;49m\u001b[43mAxes\u001b[49m\u001b[38;5;241;43m.\u001b[39;49m\u001b[43mdraw\u001b[49m\u001b[43m(\u001b[49m\u001b[38;5;28;43mself\u001b[39;49m\u001b[43m,\u001b[49m\u001b[43m \u001b[49m\u001b[43mrenderer\u001b[49m\u001b[38;5;241;43m=\u001b[39;49m\u001b[43mrenderer\u001b[49m\u001b[43m,\u001b[49m\n\u001b[1;32m    388\u001b[0m \u001b[43m                                 \u001b[49m\u001b[43minframe\u001b[49m\u001b[38;5;241;43m=\u001b[39;49m\u001b[43minframe\u001b[49m\u001b[43m)\u001b[49m\n",
      "\u001b[0;31mTypeError\u001b[0m: draw_wrapper() got an unexpected keyword argument 'inframe'"
     ]
    },
    {
     "data": {
      "text/plain": [
       "<Figure size 2000x1500 with 1 Axes>"
      ]
     },
     "metadata": {},
     "output_type": "display_data"
    }
   ],
   "source": [
    "fig=plt.figure(figsize=(20,15))\n",
    "ax = fig.add_subplot(1, 1, 1, projection=ccrs.PlateCarree())"
   ]
  },
  {
   "cell_type": "code",
   "execution_count": 7,
   "id": "b24781e8",
   "metadata": {},
   "outputs": [
    {
     "name": "stdout",
     "output_type": "stream",
     "text": [
      "Requirement already satisfied: cartopy in ./miniconda3/envs/python/lib/python3.8/site-packages (0.17.0)\n",
      "Requirement already satisfied: shapely>=1.5.6 in ./miniconda3/envs/python/lib/python3.8/site-packages (from cartopy) (1.7.1)\n",
      "Requirement already satisfied: six>=1.3.0 in ./miniconda3/envs/python/lib/python3.8/site-packages (from cartopy) (1.16.0)\n",
      "Requirement already satisfied: pyshp>=1.1.4 in ./miniconda3/envs/python/lib/python3.8/site-packages (from cartopy) (2.3.1)\n",
      "Requirement already satisfied: numpy>=1.10 in ./miniconda3/envs/python/lib/python3.8/site-packages (from cartopy) (1.21.5)\n",
      "Requirement already satisfied: setuptools>=0.7.2 in ./miniconda3/envs/python/lib/python3.8/site-packages (from cartopy) (61.2.0)\n",
      "Note: you may need to restart the kernel to use updated packages.\n"
     ]
    }
   ],
   "source": [
    "pip install cartopy"
   ]
  },
  {
   "cell_type": "code",
   "execution_count": 7,
   "id": "db99aa28",
   "metadata": {},
   "outputs": [
    {
     "ename": "TypeError",
     "evalue": "draw_wrapper() got an unexpected keyword argument 'inframe'",
     "output_type": "error",
     "traceback": [
      "\u001b[0;31m---------------------------------------------------------------------------\u001b[0m",
      "\u001b[0;31mTypeError\u001b[0m                                 Traceback (most recent call last)",
      "File \u001b[0;32m~/miniconda3/envs/python/lib/python3.8/site-packages/IPython/core/formatters.py:339\u001b[0m, in \u001b[0;36mBaseFormatter.__call__\u001b[0;34m(self, obj)\u001b[0m\n\u001b[1;32m    337\u001b[0m     \u001b[38;5;28;01mpass\u001b[39;00m\n\u001b[1;32m    338\u001b[0m \u001b[38;5;28;01melse\u001b[39;00m:\n\u001b[0;32m--> 339\u001b[0m     \u001b[38;5;28;01mreturn\u001b[39;00m \u001b[43mprinter\u001b[49m\u001b[43m(\u001b[49m\u001b[43mobj\u001b[49m\u001b[43m)\u001b[49m\n\u001b[1;32m    340\u001b[0m \u001b[38;5;66;03m# Finally look for special method names\u001b[39;00m\n\u001b[1;32m    341\u001b[0m method \u001b[38;5;241m=\u001b[39m get_real_method(obj, \u001b[38;5;28mself\u001b[39m\u001b[38;5;241m.\u001b[39mprint_method)\n",
      "File \u001b[0;32m~/miniconda3/envs/python/lib/python3.8/site-packages/IPython/core/pylabtools.py:151\u001b[0m, in \u001b[0;36mprint_figure\u001b[0;34m(fig, fmt, bbox_inches, base64, **kwargs)\u001b[0m\n\u001b[1;32m    148\u001b[0m     \u001b[38;5;28;01mfrom\u001b[39;00m \u001b[38;5;21;01mmatplotlib\u001b[39;00m\u001b[38;5;21;01m.\u001b[39;00m\u001b[38;5;21;01mbackend_bases\u001b[39;00m \u001b[38;5;28;01mimport\u001b[39;00m FigureCanvasBase\n\u001b[1;32m    149\u001b[0m     FigureCanvasBase(fig)\n\u001b[0;32m--> 151\u001b[0m \u001b[43mfig\u001b[49m\u001b[38;5;241;43m.\u001b[39;49m\u001b[43mcanvas\u001b[49m\u001b[38;5;241;43m.\u001b[39;49m\u001b[43mprint_figure\u001b[49m\u001b[43m(\u001b[49m\u001b[43mbytes_io\u001b[49m\u001b[43m,\u001b[49m\u001b[43m \u001b[49m\u001b[38;5;241;43m*\u001b[39;49m\u001b[38;5;241;43m*\u001b[39;49m\u001b[43mkw\u001b[49m\u001b[43m)\u001b[49m\n\u001b[1;32m    152\u001b[0m data \u001b[38;5;241m=\u001b[39m bytes_io\u001b[38;5;241m.\u001b[39mgetvalue()\n\u001b[1;32m    153\u001b[0m \u001b[38;5;28;01mif\u001b[39;00m fmt \u001b[38;5;241m==\u001b[39m \u001b[38;5;124m'\u001b[39m\u001b[38;5;124msvg\u001b[39m\u001b[38;5;124m'\u001b[39m:\n",
      "File \u001b[0;32m~/miniconda3/envs/python/lib/python3.8/site-packages/matplotlib/backend_bases.py:2295\u001b[0m, in \u001b[0;36mFigureCanvasBase.print_figure\u001b[0;34m(self, filename, dpi, facecolor, edgecolor, orientation, format, bbox_inches, pad_inches, bbox_extra_artists, backend, **kwargs)\u001b[0m\n\u001b[1;32m   2289\u001b[0m     renderer \u001b[38;5;241m=\u001b[39m _get_renderer(\n\u001b[1;32m   2290\u001b[0m         \u001b[38;5;28mself\u001b[39m\u001b[38;5;241m.\u001b[39mfigure,\n\u001b[1;32m   2291\u001b[0m         functools\u001b[38;5;241m.\u001b[39mpartial(\n\u001b[1;32m   2292\u001b[0m             print_method, orientation\u001b[38;5;241m=\u001b[39morientation)\n\u001b[1;32m   2293\u001b[0m     )\n\u001b[1;32m   2294\u001b[0m     \u001b[38;5;28;01mwith\u001b[39;00m \u001b[38;5;28mgetattr\u001b[39m(renderer, \u001b[38;5;124m\"\u001b[39m\u001b[38;5;124m_draw_disabled\u001b[39m\u001b[38;5;124m\"\u001b[39m, nullcontext)():\n\u001b[0;32m-> 2295\u001b[0m         \u001b[38;5;28;43mself\u001b[39;49m\u001b[38;5;241;43m.\u001b[39;49m\u001b[43mfigure\u001b[49m\u001b[38;5;241;43m.\u001b[39;49m\u001b[43mdraw\u001b[49m\u001b[43m(\u001b[49m\u001b[43mrenderer\u001b[49m\u001b[43m)\u001b[49m\n\u001b[1;32m   2297\u001b[0m \u001b[38;5;28;01mif\u001b[39;00m bbox_inches:\n\u001b[1;32m   2298\u001b[0m     \u001b[38;5;28;01mif\u001b[39;00m bbox_inches \u001b[38;5;241m==\u001b[39m \u001b[38;5;124m\"\u001b[39m\u001b[38;5;124mtight\u001b[39m\u001b[38;5;124m\"\u001b[39m:\n",
      "File \u001b[0;32m~/miniconda3/envs/python/lib/python3.8/site-packages/matplotlib/artist.py:73\u001b[0m, in \u001b[0;36m_finalize_rasterization.<locals>.draw_wrapper\u001b[0;34m(artist, renderer, *args, **kwargs)\u001b[0m\n\u001b[1;32m     71\u001b[0m \u001b[38;5;129m@wraps\u001b[39m(draw)\n\u001b[1;32m     72\u001b[0m \u001b[38;5;28;01mdef\u001b[39;00m \u001b[38;5;21mdraw_wrapper\u001b[39m(artist, renderer, \u001b[38;5;241m*\u001b[39margs, \u001b[38;5;241m*\u001b[39m\u001b[38;5;241m*\u001b[39mkwargs):\n\u001b[0;32m---> 73\u001b[0m     result \u001b[38;5;241m=\u001b[39m \u001b[43mdraw\u001b[49m\u001b[43m(\u001b[49m\u001b[43martist\u001b[49m\u001b[43m,\u001b[49m\u001b[43m \u001b[49m\u001b[43mrenderer\u001b[49m\u001b[43m,\u001b[49m\u001b[43m \u001b[49m\u001b[38;5;241;43m*\u001b[39;49m\u001b[43margs\u001b[49m\u001b[43m,\u001b[49m\u001b[43m \u001b[49m\u001b[38;5;241;43m*\u001b[39;49m\u001b[38;5;241;43m*\u001b[39;49m\u001b[43mkwargs\u001b[49m\u001b[43m)\u001b[49m\n\u001b[1;32m     74\u001b[0m     \u001b[38;5;28;01mif\u001b[39;00m renderer\u001b[38;5;241m.\u001b[39m_rasterizing:\n\u001b[1;32m     75\u001b[0m         renderer\u001b[38;5;241m.\u001b[39mstop_rasterizing()\n",
      "File \u001b[0;32m~/miniconda3/envs/python/lib/python3.8/site-packages/matplotlib/artist.py:50\u001b[0m, in \u001b[0;36mallow_rasterization.<locals>.draw_wrapper\u001b[0;34m(artist, renderer)\u001b[0m\n\u001b[1;32m     47\u001b[0m     \u001b[38;5;28;01mif\u001b[39;00m artist\u001b[38;5;241m.\u001b[39mget_agg_filter() \u001b[38;5;129;01mis\u001b[39;00m \u001b[38;5;129;01mnot\u001b[39;00m \u001b[38;5;28;01mNone\u001b[39;00m:\n\u001b[1;32m     48\u001b[0m         renderer\u001b[38;5;241m.\u001b[39mstart_filter()\n\u001b[0;32m---> 50\u001b[0m     \u001b[38;5;28;01mreturn\u001b[39;00m \u001b[43mdraw\u001b[49m\u001b[43m(\u001b[49m\u001b[43martist\u001b[49m\u001b[43m,\u001b[49m\u001b[43m \u001b[49m\u001b[43mrenderer\u001b[49m\u001b[43m)\u001b[49m\n\u001b[1;32m     51\u001b[0m \u001b[38;5;28;01mfinally\u001b[39;00m:\n\u001b[1;32m     52\u001b[0m     \u001b[38;5;28;01mif\u001b[39;00m artist\u001b[38;5;241m.\u001b[39mget_agg_filter() \u001b[38;5;129;01mis\u001b[39;00m \u001b[38;5;129;01mnot\u001b[39;00m \u001b[38;5;28;01mNone\u001b[39;00m:\n",
      "File \u001b[0;32m~/miniconda3/envs/python/lib/python3.8/site-packages/matplotlib/figure.py:2837\u001b[0m, in \u001b[0;36mFigure.draw\u001b[0;34m(self, renderer)\u001b[0m\n\u001b[1;32m   2834\u001b[0m         \u001b[38;5;66;03m# ValueError can occur when resizing a window.\u001b[39;00m\n\u001b[1;32m   2836\u001b[0m \u001b[38;5;28mself\u001b[39m\u001b[38;5;241m.\u001b[39mpatch\u001b[38;5;241m.\u001b[39mdraw(renderer)\n\u001b[0;32m-> 2837\u001b[0m \u001b[43mmimage\u001b[49m\u001b[38;5;241;43m.\u001b[39;49m\u001b[43m_draw_list_compositing_images\u001b[49m\u001b[43m(\u001b[49m\n\u001b[1;32m   2838\u001b[0m \u001b[43m    \u001b[49m\u001b[43mrenderer\u001b[49m\u001b[43m,\u001b[49m\u001b[43m \u001b[49m\u001b[38;5;28;43mself\u001b[39;49m\u001b[43m,\u001b[49m\u001b[43m \u001b[49m\u001b[43martists\u001b[49m\u001b[43m,\u001b[49m\u001b[43m \u001b[49m\u001b[38;5;28;43mself\u001b[39;49m\u001b[38;5;241;43m.\u001b[39;49m\u001b[43msuppressComposite\u001b[49m\u001b[43m)\u001b[49m\n\u001b[1;32m   2840\u001b[0m \u001b[38;5;28;01mfor\u001b[39;00m sfig \u001b[38;5;129;01min\u001b[39;00m \u001b[38;5;28mself\u001b[39m\u001b[38;5;241m.\u001b[39msubfigs:\n\u001b[1;32m   2841\u001b[0m     sfig\u001b[38;5;241m.\u001b[39mdraw(renderer)\n",
      "File \u001b[0;32m~/miniconda3/envs/python/lib/python3.8/site-packages/matplotlib/image.py:132\u001b[0m, in \u001b[0;36m_draw_list_compositing_images\u001b[0;34m(renderer, parent, artists, suppress_composite)\u001b[0m\n\u001b[1;32m    130\u001b[0m \u001b[38;5;28;01mif\u001b[39;00m not_composite \u001b[38;5;129;01mor\u001b[39;00m \u001b[38;5;129;01mnot\u001b[39;00m has_images:\n\u001b[1;32m    131\u001b[0m     \u001b[38;5;28;01mfor\u001b[39;00m a \u001b[38;5;129;01min\u001b[39;00m artists:\n\u001b[0;32m--> 132\u001b[0m         \u001b[43ma\u001b[49m\u001b[38;5;241;43m.\u001b[39;49m\u001b[43mdraw\u001b[49m\u001b[43m(\u001b[49m\u001b[43mrenderer\u001b[49m\u001b[43m)\u001b[49m\n\u001b[1;32m    133\u001b[0m \u001b[38;5;28;01melse\u001b[39;00m:\n\u001b[1;32m    134\u001b[0m     \u001b[38;5;66;03m# Composite any adjacent images together\u001b[39;00m\n\u001b[1;32m    135\u001b[0m     image_group \u001b[38;5;241m=\u001b[39m []\n",
      "File \u001b[0;32m~/miniconda3/envs/python/lib/python3.8/site-packages/matplotlib/artist.py:50\u001b[0m, in \u001b[0;36mallow_rasterization.<locals>.draw_wrapper\u001b[0;34m(artist, renderer)\u001b[0m\n\u001b[1;32m     47\u001b[0m     \u001b[38;5;28;01mif\u001b[39;00m artist\u001b[38;5;241m.\u001b[39mget_agg_filter() \u001b[38;5;129;01mis\u001b[39;00m \u001b[38;5;129;01mnot\u001b[39;00m \u001b[38;5;28;01mNone\u001b[39;00m:\n\u001b[1;32m     48\u001b[0m         renderer\u001b[38;5;241m.\u001b[39mstart_filter()\n\u001b[0;32m---> 50\u001b[0m     \u001b[38;5;28;01mreturn\u001b[39;00m \u001b[43mdraw\u001b[49m\u001b[43m(\u001b[49m\u001b[43martist\u001b[49m\u001b[43m,\u001b[49m\u001b[43m \u001b[49m\u001b[43mrenderer\u001b[49m\u001b[43m)\u001b[49m\n\u001b[1;32m     51\u001b[0m \u001b[38;5;28;01mfinally\u001b[39;00m:\n\u001b[1;32m     52\u001b[0m     \u001b[38;5;28;01mif\u001b[39;00m artist\u001b[38;5;241m.\u001b[39mget_agg_filter() \u001b[38;5;129;01mis\u001b[39;00m \u001b[38;5;129;01mnot\u001b[39;00m \u001b[38;5;28;01mNone\u001b[39;00m:\n",
      "File \u001b[0;32m~/miniconda3/envs/python/lib/python3.8/site-packages/cartopy/mpl/geoaxes.py:387\u001b[0m, in \u001b[0;36mGeoAxes.draw\u001b[0;34m(self, renderer, inframe)\u001b[0m\n\u001b[1;32m    383\u001b[0m         \u001b[38;5;28mself\u001b[39m\u001b[38;5;241m.\u001b[39mimshow(img, extent\u001b[38;5;241m=\u001b[39mextent, origin\u001b[38;5;241m=\u001b[39morigin,\n\u001b[1;32m    384\u001b[0m                     transform\u001b[38;5;241m=\u001b[39mfactory\u001b[38;5;241m.\u001b[39mcrs, \u001b[38;5;241m*\u001b[39margs[\u001b[38;5;241m1\u001b[39m:], \u001b[38;5;241m*\u001b[39m\u001b[38;5;241m*\u001b[39mkwargs)\n\u001b[1;32m    385\u001b[0m \u001b[38;5;28mself\u001b[39m\u001b[38;5;241m.\u001b[39m_done_img_factory \u001b[38;5;241m=\u001b[39m \u001b[38;5;28;01mTrue\u001b[39;00m\n\u001b[0;32m--> 387\u001b[0m \u001b[38;5;28;01mreturn\u001b[39;00m \u001b[43mmatplotlib\u001b[49m\u001b[38;5;241;43m.\u001b[39;49m\u001b[43maxes\u001b[49m\u001b[38;5;241;43m.\u001b[39;49m\u001b[43mAxes\u001b[49m\u001b[38;5;241;43m.\u001b[39;49m\u001b[43mdraw\u001b[49m\u001b[43m(\u001b[49m\u001b[38;5;28;43mself\u001b[39;49m\u001b[43m,\u001b[49m\u001b[43m \u001b[49m\u001b[43mrenderer\u001b[49m\u001b[38;5;241;43m=\u001b[39;49m\u001b[43mrenderer\u001b[49m\u001b[43m,\u001b[49m\n\u001b[1;32m    388\u001b[0m \u001b[43m                                 \u001b[49m\u001b[43minframe\u001b[49m\u001b[38;5;241;43m=\u001b[39;49m\u001b[43minframe\u001b[49m\u001b[43m)\u001b[49m\n",
      "\u001b[0;31mTypeError\u001b[0m: draw_wrapper() got an unexpected keyword argument 'inframe'"
     ]
    },
    {
     "data": {
      "text/plain": [
       "<Figure size 640x480 with 1 Axes>"
      ]
     },
     "metadata": {},
     "output_type": "display_data"
    }
   ],
   "source": [
    "import cartopy.crs as ccrs\n",
    "import matplotlib.pyplot as plt\n",
    "\n",
    "ax = plt.axes(projection=ccrs.PlateCarree())\n",
    "ax.coastlines()\n",
    "\n",
    "plt.show()"
   ]
  },
  {
   "cell_type": "code",
   "execution_count": 8,
   "id": "df47eac4",
   "metadata": {},
   "outputs": [
    {
     "ename": "TypeError",
     "evalue": "draw_wrapper() got an unexpected keyword argument 'inframe'",
     "output_type": "error",
     "traceback": [
      "\u001b[0;31m---------------------------------------------------------------------------\u001b[0m",
      "\u001b[0;31mTypeError\u001b[0m                                 Traceback (most recent call last)",
      "File \u001b[0;32m~/miniconda3/envs/python/lib/python3.8/site-packages/IPython/core/formatters.py:339\u001b[0m, in \u001b[0;36mBaseFormatter.__call__\u001b[0;34m(self, obj)\u001b[0m\n\u001b[1;32m    337\u001b[0m     \u001b[38;5;28;01mpass\u001b[39;00m\n\u001b[1;32m    338\u001b[0m \u001b[38;5;28;01melse\u001b[39;00m:\n\u001b[0;32m--> 339\u001b[0m     \u001b[38;5;28;01mreturn\u001b[39;00m \u001b[43mprinter\u001b[49m\u001b[43m(\u001b[49m\u001b[43mobj\u001b[49m\u001b[43m)\u001b[49m\n\u001b[1;32m    340\u001b[0m \u001b[38;5;66;03m# Finally look for special method names\u001b[39;00m\n\u001b[1;32m    341\u001b[0m method \u001b[38;5;241m=\u001b[39m get_real_method(obj, \u001b[38;5;28mself\u001b[39m\u001b[38;5;241m.\u001b[39mprint_method)\n",
      "File \u001b[0;32m~/miniconda3/envs/python/lib/python3.8/site-packages/IPython/core/pylabtools.py:151\u001b[0m, in \u001b[0;36mprint_figure\u001b[0;34m(fig, fmt, bbox_inches, base64, **kwargs)\u001b[0m\n\u001b[1;32m    148\u001b[0m     \u001b[38;5;28;01mfrom\u001b[39;00m \u001b[38;5;21;01mmatplotlib\u001b[39;00m\u001b[38;5;21;01m.\u001b[39;00m\u001b[38;5;21;01mbackend_bases\u001b[39;00m \u001b[38;5;28;01mimport\u001b[39;00m FigureCanvasBase\n\u001b[1;32m    149\u001b[0m     FigureCanvasBase(fig)\n\u001b[0;32m--> 151\u001b[0m \u001b[43mfig\u001b[49m\u001b[38;5;241;43m.\u001b[39;49m\u001b[43mcanvas\u001b[49m\u001b[38;5;241;43m.\u001b[39;49m\u001b[43mprint_figure\u001b[49m\u001b[43m(\u001b[49m\u001b[43mbytes_io\u001b[49m\u001b[43m,\u001b[49m\u001b[43m \u001b[49m\u001b[38;5;241;43m*\u001b[39;49m\u001b[38;5;241;43m*\u001b[39;49m\u001b[43mkw\u001b[49m\u001b[43m)\u001b[49m\n\u001b[1;32m    152\u001b[0m data \u001b[38;5;241m=\u001b[39m bytes_io\u001b[38;5;241m.\u001b[39mgetvalue()\n\u001b[1;32m    153\u001b[0m \u001b[38;5;28;01mif\u001b[39;00m fmt \u001b[38;5;241m==\u001b[39m \u001b[38;5;124m'\u001b[39m\u001b[38;5;124msvg\u001b[39m\u001b[38;5;124m'\u001b[39m:\n",
      "File \u001b[0;32m~/miniconda3/envs/python/lib/python3.8/site-packages/matplotlib/backend_bases.py:2295\u001b[0m, in \u001b[0;36mFigureCanvasBase.print_figure\u001b[0;34m(self, filename, dpi, facecolor, edgecolor, orientation, format, bbox_inches, pad_inches, bbox_extra_artists, backend, **kwargs)\u001b[0m\n\u001b[1;32m   2289\u001b[0m     renderer \u001b[38;5;241m=\u001b[39m _get_renderer(\n\u001b[1;32m   2290\u001b[0m         \u001b[38;5;28mself\u001b[39m\u001b[38;5;241m.\u001b[39mfigure,\n\u001b[1;32m   2291\u001b[0m         functools\u001b[38;5;241m.\u001b[39mpartial(\n\u001b[1;32m   2292\u001b[0m             print_method, orientation\u001b[38;5;241m=\u001b[39morientation)\n\u001b[1;32m   2293\u001b[0m     )\n\u001b[1;32m   2294\u001b[0m     \u001b[38;5;28;01mwith\u001b[39;00m \u001b[38;5;28mgetattr\u001b[39m(renderer, \u001b[38;5;124m\"\u001b[39m\u001b[38;5;124m_draw_disabled\u001b[39m\u001b[38;5;124m\"\u001b[39m, nullcontext)():\n\u001b[0;32m-> 2295\u001b[0m         \u001b[38;5;28;43mself\u001b[39;49m\u001b[38;5;241;43m.\u001b[39;49m\u001b[43mfigure\u001b[49m\u001b[38;5;241;43m.\u001b[39;49m\u001b[43mdraw\u001b[49m\u001b[43m(\u001b[49m\u001b[43mrenderer\u001b[49m\u001b[43m)\u001b[49m\n\u001b[1;32m   2297\u001b[0m \u001b[38;5;28;01mif\u001b[39;00m bbox_inches:\n\u001b[1;32m   2298\u001b[0m     \u001b[38;5;28;01mif\u001b[39;00m bbox_inches \u001b[38;5;241m==\u001b[39m \u001b[38;5;124m\"\u001b[39m\u001b[38;5;124mtight\u001b[39m\u001b[38;5;124m\"\u001b[39m:\n",
      "File \u001b[0;32m~/miniconda3/envs/python/lib/python3.8/site-packages/matplotlib/artist.py:73\u001b[0m, in \u001b[0;36m_finalize_rasterization.<locals>.draw_wrapper\u001b[0;34m(artist, renderer, *args, **kwargs)\u001b[0m\n\u001b[1;32m     71\u001b[0m \u001b[38;5;129m@wraps\u001b[39m(draw)\n\u001b[1;32m     72\u001b[0m \u001b[38;5;28;01mdef\u001b[39;00m \u001b[38;5;21mdraw_wrapper\u001b[39m(artist, renderer, \u001b[38;5;241m*\u001b[39margs, \u001b[38;5;241m*\u001b[39m\u001b[38;5;241m*\u001b[39mkwargs):\n\u001b[0;32m---> 73\u001b[0m     result \u001b[38;5;241m=\u001b[39m \u001b[43mdraw\u001b[49m\u001b[43m(\u001b[49m\u001b[43martist\u001b[49m\u001b[43m,\u001b[49m\u001b[43m \u001b[49m\u001b[43mrenderer\u001b[49m\u001b[43m,\u001b[49m\u001b[43m \u001b[49m\u001b[38;5;241;43m*\u001b[39;49m\u001b[43margs\u001b[49m\u001b[43m,\u001b[49m\u001b[43m \u001b[49m\u001b[38;5;241;43m*\u001b[39;49m\u001b[38;5;241;43m*\u001b[39;49m\u001b[43mkwargs\u001b[49m\u001b[43m)\u001b[49m\n\u001b[1;32m     74\u001b[0m     \u001b[38;5;28;01mif\u001b[39;00m renderer\u001b[38;5;241m.\u001b[39m_rasterizing:\n\u001b[1;32m     75\u001b[0m         renderer\u001b[38;5;241m.\u001b[39mstop_rasterizing()\n",
      "File \u001b[0;32m~/miniconda3/envs/python/lib/python3.8/site-packages/matplotlib/artist.py:50\u001b[0m, in \u001b[0;36mallow_rasterization.<locals>.draw_wrapper\u001b[0;34m(artist, renderer)\u001b[0m\n\u001b[1;32m     47\u001b[0m     \u001b[38;5;28;01mif\u001b[39;00m artist\u001b[38;5;241m.\u001b[39mget_agg_filter() \u001b[38;5;129;01mis\u001b[39;00m \u001b[38;5;129;01mnot\u001b[39;00m \u001b[38;5;28;01mNone\u001b[39;00m:\n\u001b[1;32m     48\u001b[0m         renderer\u001b[38;5;241m.\u001b[39mstart_filter()\n\u001b[0;32m---> 50\u001b[0m     \u001b[38;5;28;01mreturn\u001b[39;00m \u001b[43mdraw\u001b[49m\u001b[43m(\u001b[49m\u001b[43martist\u001b[49m\u001b[43m,\u001b[49m\u001b[43m \u001b[49m\u001b[43mrenderer\u001b[49m\u001b[43m)\u001b[49m\n\u001b[1;32m     51\u001b[0m \u001b[38;5;28;01mfinally\u001b[39;00m:\n\u001b[1;32m     52\u001b[0m     \u001b[38;5;28;01mif\u001b[39;00m artist\u001b[38;5;241m.\u001b[39mget_agg_filter() \u001b[38;5;129;01mis\u001b[39;00m \u001b[38;5;129;01mnot\u001b[39;00m \u001b[38;5;28;01mNone\u001b[39;00m:\n",
      "File \u001b[0;32m~/miniconda3/envs/python/lib/python3.8/site-packages/matplotlib/figure.py:2837\u001b[0m, in \u001b[0;36mFigure.draw\u001b[0;34m(self, renderer)\u001b[0m\n\u001b[1;32m   2834\u001b[0m         \u001b[38;5;66;03m# ValueError can occur when resizing a window.\u001b[39;00m\n\u001b[1;32m   2836\u001b[0m \u001b[38;5;28mself\u001b[39m\u001b[38;5;241m.\u001b[39mpatch\u001b[38;5;241m.\u001b[39mdraw(renderer)\n\u001b[0;32m-> 2837\u001b[0m \u001b[43mmimage\u001b[49m\u001b[38;5;241;43m.\u001b[39;49m\u001b[43m_draw_list_compositing_images\u001b[49m\u001b[43m(\u001b[49m\n\u001b[1;32m   2838\u001b[0m \u001b[43m    \u001b[49m\u001b[43mrenderer\u001b[49m\u001b[43m,\u001b[49m\u001b[43m \u001b[49m\u001b[38;5;28;43mself\u001b[39;49m\u001b[43m,\u001b[49m\u001b[43m \u001b[49m\u001b[43martists\u001b[49m\u001b[43m,\u001b[49m\u001b[43m \u001b[49m\u001b[38;5;28;43mself\u001b[39;49m\u001b[38;5;241;43m.\u001b[39;49m\u001b[43msuppressComposite\u001b[49m\u001b[43m)\u001b[49m\n\u001b[1;32m   2840\u001b[0m \u001b[38;5;28;01mfor\u001b[39;00m sfig \u001b[38;5;129;01min\u001b[39;00m \u001b[38;5;28mself\u001b[39m\u001b[38;5;241m.\u001b[39msubfigs:\n\u001b[1;32m   2841\u001b[0m     sfig\u001b[38;5;241m.\u001b[39mdraw(renderer)\n",
      "File \u001b[0;32m~/miniconda3/envs/python/lib/python3.8/site-packages/matplotlib/image.py:132\u001b[0m, in \u001b[0;36m_draw_list_compositing_images\u001b[0;34m(renderer, parent, artists, suppress_composite)\u001b[0m\n\u001b[1;32m    130\u001b[0m \u001b[38;5;28;01mif\u001b[39;00m not_composite \u001b[38;5;129;01mor\u001b[39;00m \u001b[38;5;129;01mnot\u001b[39;00m has_images:\n\u001b[1;32m    131\u001b[0m     \u001b[38;5;28;01mfor\u001b[39;00m a \u001b[38;5;129;01min\u001b[39;00m artists:\n\u001b[0;32m--> 132\u001b[0m         \u001b[43ma\u001b[49m\u001b[38;5;241;43m.\u001b[39;49m\u001b[43mdraw\u001b[49m\u001b[43m(\u001b[49m\u001b[43mrenderer\u001b[49m\u001b[43m)\u001b[49m\n\u001b[1;32m    133\u001b[0m \u001b[38;5;28;01melse\u001b[39;00m:\n\u001b[1;32m    134\u001b[0m     \u001b[38;5;66;03m# Composite any adjacent images together\u001b[39;00m\n\u001b[1;32m    135\u001b[0m     image_group \u001b[38;5;241m=\u001b[39m []\n",
      "File \u001b[0;32m~/miniconda3/envs/python/lib/python3.8/site-packages/matplotlib/artist.py:50\u001b[0m, in \u001b[0;36mallow_rasterization.<locals>.draw_wrapper\u001b[0;34m(artist, renderer)\u001b[0m\n\u001b[1;32m     47\u001b[0m     \u001b[38;5;28;01mif\u001b[39;00m artist\u001b[38;5;241m.\u001b[39mget_agg_filter() \u001b[38;5;129;01mis\u001b[39;00m \u001b[38;5;129;01mnot\u001b[39;00m \u001b[38;5;28;01mNone\u001b[39;00m:\n\u001b[1;32m     48\u001b[0m         renderer\u001b[38;5;241m.\u001b[39mstart_filter()\n\u001b[0;32m---> 50\u001b[0m     \u001b[38;5;28;01mreturn\u001b[39;00m \u001b[43mdraw\u001b[49m\u001b[43m(\u001b[49m\u001b[43martist\u001b[49m\u001b[43m,\u001b[49m\u001b[43m \u001b[49m\u001b[43mrenderer\u001b[49m\u001b[43m)\u001b[49m\n\u001b[1;32m     51\u001b[0m \u001b[38;5;28;01mfinally\u001b[39;00m:\n\u001b[1;32m     52\u001b[0m     \u001b[38;5;28;01mif\u001b[39;00m artist\u001b[38;5;241m.\u001b[39mget_agg_filter() \u001b[38;5;129;01mis\u001b[39;00m \u001b[38;5;129;01mnot\u001b[39;00m \u001b[38;5;28;01mNone\u001b[39;00m:\n",
      "File \u001b[0;32m~/miniconda3/envs/python/lib/python3.8/site-packages/cartopy/mpl/geoaxes.py:387\u001b[0m, in \u001b[0;36mGeoAxes.draw\u001b[0;34m(self, renderer, inframe)\u001b[0m\n\u001b[1;32m    383\u001b[0m         \u001b[38;5;28mself\u001b[39m\u001b[38;5;241m.\u001b[39mimshow(img, extent\u001b[38;5;241m=\u001b[39mextent, origin\u001b[38;5;241m=\u001b[39morigin,\n\u001b[1;32m    384\u001b[0m                     transform\u001b[38;5;241m=\u001b[39mfactory\u001b[38;5;241m.\u001b[39mcrs, \u001b[38;5;241m*\u001b[39margs[\u001b[38;5;241m1\u001b[39m:], \u001b[38;5;241m*\u001b[39m\u001b[38;5;241m*\u001b[39mkwargs)\n\u001b[1;32m    385\u001b[0m \u001b[38;5;28mself\u001b[39m\u001b[38;5;241m.\u001b[39m_done_img_factory \u001b[38;5;241m=\u001b[39m \u001b[38;5;28;01mTrue\u001b[39;00m\n\u001b[0;32m--> 387\u001b[0m \u001b[38;5;28;01mreturn\u001b[39;00m \u001b[43mmatplotlib\u001b[49m\u001b[38;5;241;43m.\u001b[39;49m\u001b[43maxes\u001b[49m\u001b[38;5;241;43m.\u001b[39;49m\u001b[43mAxes\u001b[49m\u001b[38;5;241;43m.\u001b[39;49m\u001b[43mdraw\u001b[49m\u001b[43m(\u001b[49m\u001b[38;5;28;43mself\u001b[39;49m\u001b[43m,\u001b[49m\u001b[43m \u001b[49m\u001b[43mrenderer\u001b[49m\u001b[38;5;241;43m=\u001b[39;49m\u001b[43mrenderer\u001b[49m\u001b[43m,\u001b[49m\n\u001b[1;32m    388\u001b[0m \u001b[43m                                 \u001b[49m\u001b[43minframe\u001b[49m\u001b[38;5;241;43m=\u001b[39;49m\u001b[43minframe\u001b[49m\u001b[43m)\u001b[49m\n",
      "\u001b[0;31mTypeError\u001b[0m: draw_wrapper() got an unexpected keyword argument 'inframe'"
     ]
    },
    {
     "data": {
      "text/plain": [
       "<Figure size 1200x800 with 1 Axes>"
      ]
     },
     "metadata": {},
     "output_type": "display_data"
    }
   ],
   "source": [
    "fig = plt.figure(figsize=(12,8))\n",
    "ax = fig.add_subplot(1, 1, 1, projection=ccrs.PlateCarree())\n"
   ]
  },
  {
   "cell_type": "code",
   "execution_count": 3,
   "id": "f191271f",
   "metadata": {},
   "outputs": [
    {
     "name": "stdout",
     "output_type": "stream",
     "text": [
      "# packages in environment at /home/yqr/miniconda3/envs/python:\r\n",
      "#\r\n",
      "# Name                    Version                   Build  Channel\r\n",
      "_libgcc_mutex             0.1                        main  \r\n",
      "_openmp_mutex             5.1                       1_gnu  \r\n",
      "affine                    2.3.1                    pypi_0    pypi\r\n",
      "argon2-cffi               21.3.0             pyhd3eb1b0_0  \r\n",
      "argon2-cffi-bindings      21.2.0           py38h7f8727e_0  \r\n",
      "asttokens                 2.0.5              pyhd3eb1b0_0  \r\n",
      "attrs                     21.4.0             pyhd3eb1b0_0  \r\n",
      "backcall                  0.2.0              pyhd3eb1b0_0  \r\n",
      "beautifulsoup4            4.11.1           py38h06a4308_0  \r\n",
      "blas                      1.0                         mkl  \r\n",
      "bleach                    4.1.0              pyhd3eb1b0_0  \r\n",
      "bottleneck                1.3.5            py38h7deecbd_0  \r\n",
      "brotli                    1.0.9                h5eee18b_7  \r\n",
      "brotli-bin                1.0.9                h5eee18b_7  \r\n",
      "bzip2                     1.0.8                h7b6447c_0  \r\n",
      "c-ares                    1.18.1               h7f8727e_0  \r\n",
      "ca-certificates           2022.07.19           h06a4308_0  \r\n",
      "cdo                       1.9.8                hf139fd8_7    conda-forge\r\n",
      "certifi                   2022.9.24        py38h06a4308_0  \r\n",
      "cffi                      1.15.0           py38h7f8727e_0  \r\n",
      "cftime                    1.5.1.1          py38hce1f21e_0  \r\n",
      "click                     8.1.2                    pypi_0    pypi\r\n",
      "click-plugins             1.1.1                    pypi_0    pypi\r\n",
      "cligj                     0.7.2                    pypi_0    pypi\r\n",
      "curl                      7.84.0               h5eee18b_0  \r\n",
      "cycler                    0.11.0             pyhd3eb1b0_0  \r\n",
      "dbus                      1.13.18              hb2f20db_0  \r\n",
      "debugpy                   1.5.1            py38h295c915_0  \r\n",
      "decorator                 5.1.1              pyhd3eb1b0_0  \r\n",
      "defusedxml                0.7.1              pyhd3eb1b0_0  \r\n",
      "eccodes                   2.19.1               hea64003_0    conda-forge\r\n",
      "entrypoints               0.4              py38h06a4308_0  \r\n",
      "executing                 0.8.3              pyhd3eb1b0_0  \r\n",
      "expat                     2.4.9                h6a678d5_0  \r\n",
      "fftw                      3.3.9                h27cfd23_1  \r\n",
      "fiona                     1.8.21                   pypi_0    pypi\r\n",
      "fontconfig                2.13.1               h6c09931_0  \r\n",
      "fonttools                 4.25.0             pyhd3eb1b0_0  \r\n",
      "freetype                  2.11.0               h70c0345_0  \r\n",
      "geopandas                 0.10.2                   pypi_0    pypi\r\n",
      "giflib                    5.2.1                h7b6447c_0  \r\n",
      "glib                      2.63.1               h5a9c865_0  \r\n",
      "gst-plugins-base          1.14.0               hbbd80ab_1  \r\n",
      "gstreamer                 1.14.0               hb453b48_1  \r\n",
      "hdf4                      4.2.13               h3ca952b_2  \r\n",
      "hdf5                      1.10.6          nompi_h7c3c948_1111    conda-forge\r\n",
      "icu                       58.2                 he6710b0_3  \r\n",
      "importlib_resources       5.2.0              pyhd3eb1b0_1  \r\n",
      "intel-openmp              2021.4.0          h06a4308_3561  \r\n",
      "ipykernel                 6.15.2           py38h06a4308_0  \r\n",
      "ipython                   8.4.0            py38h06a4308_0  \r\n",
      "ipython_genutils          0.2.0              pyhd3eb1b0_1  \r\n",
      "ipywidgets                7.6.5              pyhd3eb1b0_1  \r\n",
      "jasper                    1.900.1              hd497a04_4  \r\n",
      "jedi                      0.18.1           py38h06a4308_1  \r\n",
      "jinja2                    3.0.3              pyhd3eb1b0_0  \r\n",
      "joblib                    1.1.0              pyhd3eb1b0_0  \r\n",
      "jpeg                      9e                   h7f8727e_0  \r\n",
      "jsonschema                4.16.0           py38h06a4308_0  \r\n",
      "jupyter                   1.0.0                    py38_7  \r\n",
      "jupyter_client            7.3.5            py38h06a4308_0  \r\n",
      "jupyter_console           6.4.3              pyhd3eb1b0_0  \r\n",
      "jupyter_contrib_core      0.3.3                      py_2    conda-forge\r\n",
      "jupyter_contrib_nbextensions 0.5.1              pyhd8ed1ab_2    conda-forge\r\n",
      "jupyter_core              4.11.1           py38h06a4308_0  \r\n",
      "jupyter_highlight_selected_word 0.2.0           py38h578d9bd_1005    conda-forge\r\n",
      "jupyter_latex_envs        1.4.6           pyhd8ed1ab_1002    conda-forge\r\n",
      "jupyter_nbextensions_configurator 0.4.1            py38h578d9bd_2    conda-forge\r\n",
      "jupyterlab_pygments       0.1.2                      py_0  \r\n",
      "jupyterlab_widgets        1.0.0              pyhd3eb1b0_1  \r\n",
      "jupyterthemes             0.20.0                   pypi_0    pypi\r\n",
      "kiwisolver                1.4.2            py38h295c915_0  \r\n",
      "krb5                      1.19.2               hac12032_0  \r\n",
      "lcms2                     2.12                 h3be6417_0  \r\n",
      "lerc                      3.0                  h295c915_0  \r\n",
      "lesscpy                   0.15.0                   pypi_0    pypi\r\n",
      "libaec                    1.0.4                he6710b0_1  \r\n",
      "libbrotlicommon           1.0.9                h5eee18b_7  \r\n",
      "libbrotlidec              1.0.9                h5eee18b_7  \r\n",
      "libbrotlienc              1.0.9                h5eee18b_7  \r\n",
      "libcurl                   7.84.0               h91b91d3_0  \r\n",
      "libdeflate                1.8                  h7f8727e_5  \r\n",
      "libedit                   3.1.20210910         h7f8727e_0  \r\n",
      "libev                     4.33                 h7f8727e_1  \r\n",
      "libffi                    3.2.1             hf484d3e_1007  \r\n",
      "libgcc-ng                 11.2.0               h1234567_1  \r\n",
      "libgfortran-ng            7.5.0               ha8ba4b0_17  \r\n",
      "libgfortran4              7.5.0               ha8ba4b0_17  \r\n",
      "libgomp                   11.2.0               h1234567_1  \r\n",
      "libnetcdf                 4.7.4           nompi_h56d31a8_107    conda-forge\r\n",
      "libnghttp2                1.46.0               hce63b2e_0  \r\n",
      "libpng                    1.6.37               hbc83047_0  \r\n",
      "libsodium                 1.0.18               h7b6447c_0  \r\n",
      "libssh2                   1.10.0               h8f2d780_0  \r\n",
      "libstdcxx-ng              11.2.0               h1234567_1  \r\n",
      "libtiff                   4.4.0                hecacb30_0  \r\n",
      "libuuid                   1.0.3                h7f8727e_2  \r\n",
      "libwebp                   1.2.2                h55f646e_0  \r\n",
      "libwebp-base              1.2.2                h7f8727e_0  \r\n",
      "libxcb                    1.15                 h7f8727e_0  \r\n",
      "libxml2                   2.9.14               h74e7548_0  \r\n",
      "libxslt                   1.1.35               h4e12654_0  \r\n",
      "lxml                      4.9.1            py38h1edc446_0  \r\n",
      "lz4-c                     1.9.3                h295c915_1  \r\n",
      "markupsafe                2.1.1            py38h7f8727e_0  \r\n",
      "matplotlib                3.5.2            py38h06a4308_0  \r\n",
      "matplotlib-base           3.5.2            py38hf590b9c_0  \r\n",
      "matplotlib-inline         0.1.6            py38h06a4308_0  \r\n",
      "mistune                   0.8.4           py38h7b6447c_1000  \r\n",
      "mkl                       2021.4.0           h06a4308_640  \r\n",
      "mkl-service               2.4.0            py38h7f8727e_0  \r\n",
      "mkl_fft                   1.3.1            py38hd3c417c_0  \r\n",
      "mkl_random                1.2.2            py38h51133e4_0  \r\n",
      "munch                     2.5.0                    pypi_0    pypi\r\n",
      "munkres                   1.1.4                      py_0  \r\n",
      "nbclient                  0.5.13           py38h06a4308_0  \r\n",
      "nbconvert                 6.4.4            py38h06a4308_0  \r\n",
      "nbformat                  5.5.0            py38h06a4308_0  \r\n",
      "ncurses                   6.3                  h5eee18b_3  \r\n",
      "nest-asyncio              1.5.5            py38h06a4308_0  \r\n",
      "netcdf4                   1.5.6           nompi_py38hf887595_102    conda-forge\r\n",
      "notebook                  6.4.8            py38h06a4308_0  \r\n",
      "numexpr                   2.8.3            py38h807cd23_0  \r\n",
      "numpy                     1.21.5           py38he7a7128_1  \r\n",
      "numpy-base                1.21.5           py38hf524024_1  \r\n",
      "openssl                   1.1.1q               h7f8727e_0  \r\n",
      "ossuuid                   1.6.2             hf484d3e_1000    conda-forge\r\n",
      "packaging                 21.3               pyhd3eb1b0_0  \r\n",
      "pandas                    1.4.2            py38h295c915_0  \r\n",
      "pandocfilters             1.5.0              pyhd3eb1b0_0  \r\n",
      "parso                     0.8.3              pyhd3eb1b0_0  \r\n",
      "pcre                      8.45                 h295c915_0  \r\n",
      "pexpect                   4.8.0              pyhd3eb1b0_3  \r\n",
      "pickleshare               0.7.5           pyhd3eb1b0_1003  \r\n",
      "pillow                    9.2.0            py38hace64e9_1  \r\n",
      "pip                       22.2.2           py38h06a4308_0  \r\n",
      "pkgutil-resolve-name      1.3.10           py38h06a4308_0  \r\n",
      "ply                       3.11                     pypi_0    pypi\r\n",
      "proj                      6.3.1                hc80f0dc_1    conda-forge\r\n",
      "prometheus_client         0.14.1           py38h06a4308_0  \r\n",
      "prompt-toolkit            3.0.20             pyhd3eb1b0_0  \r\n",
      "prompt_toolkit            3.0.20               hd3eb1b0_0  \r\n",
      "psutil                    5.9.0            py38h5eee18b_0  \r\n",
      "ptyprocess                0.7.0              pyhd3eb1b0_2  \r\n",
      "pure_eval                 0.2.2              pyhd3eb1b0_0  \r\n",
      "pycparser                 2.21               pyhd3eb1b0_0  \r\n",
      "pygments                  2.11.2             pyhd3eb1b0_0  \r\n",
      "pyparsing                 3.0.9            py38h06a4308_0  \r\n",
      "pyproj                    2.6.1                    pypi_0    pypi\r\n",
      "pyqt                      5.9.2            py38h05f1152_4  \r\n",
      "pyrsistent                0.18.0           py38heee7806_0  \r\n",
      "python                    3.8.0                h0371630_2  \r\n",
      "python-cdo                1.5.6              pyhd8ed1ab_0    conda-forge\r\n",
      "python-dateutil           2.8.2              pyhd3eb1b0_0  \r\n",
      "python-fastjsonschema     2.16.2           py38h06a4308_0  \r\n",
      "python_abi                3.8                      2_cp38    conda-forge\r\n",
      "pytz                      2022.1           py38h06a4308_0  \r\n",
      "pyyaml                    6.0              py38h7f8727e_1  \r\n",
      "pyzmq                     23.2.0           py38h6a678d5_0  \r\n",
      "qt                        5.9.7                h5867ecd_1  \r\n",
      "qtconsole                 5.3.2            py38h06a4308_0  \r\n",
      "qtpy                      2.2.0            py38h06a4308_0  \r\n",
      "rasterio                  1.2.10                   pypi_0    pypi\r\n",
      "readline                  7.0                  h7b6447c_5  \r\n",
      "salem                     0.3.7              pyhd8ed1ab_0    conda-forge\r\n",
      "scikit-learn              1.0.2            py38h51133e4_1  \r\n",
      "scipy                     1.7.3            py38hc147768_0  \r\n",
      "send2trash                1.8.0              pyhd3eb1b0_1  \r\n",
      "setuptools                63.4.1           py38h06a4308_0  \r\n",
      "sip                       4.19.13          py38h295c915_0  \r\n",
      "six                       1.16.0             pyhd3eb1b0_1  \r\n",
      "snuggs                    1.4.7                    pypi_0    pypi\r\n",
      "soupsieve                 2.3.1              pyhd3eb1b0_0  \r\n",
      "sqlite                    3.33.0               h62c20be_0  \r\n",
      "stack_data                0.2.0              pyhd3eb1b0_0  \r\n",
      "terminado                 0.13.1           py38h06a4308_0  \r\n",
      "testpath                  0.6.0            py38h06a4308_0  \r\n",
      "threadpoolctl             2.2.0              pyh0d69192_0  \r\n",
      "tk                        8.6.12               h1ccaba5_0  \r\n",
      "tornado                   6.2              py38h5eee18b_0  \r\n",
      "traitlets                 5.1.1              pyhd3eb1b0_0  \r\n",
      "typing-extensions         4.3.0            py38h06a4308_0  \r\n",
      "typing_extensions         4.3.0            py38h06a4308_0  \r\n",
      "udunits2                  2.2.25               hd30922c_1  \r\n",
      "wcwidth                   0.2.5              pyhd3eb1b0_0  \r\n",
      "webencodings              0.5.1                    py38_1  \r\n",
      "wheel                     0.37.1             pyhd3eb1b0_0  \r\n",
      "widgetsnbextension        3.5.2            py38h06a4308_0  \r\n",
      "xarray                    0.20.1             pyhd3eb1b0_1  \r\n"
     ]
    },
    {
     "name": "stdout",
     "output_type": "stream",
     "text": [
      "xlrd                      2.0.1              pyhd3eb1b0_0  \n",
      "xz                        5.2.6                h5eee18b_0  \n",
      "yaml                      0.2.5                h7b6447c_0  \n",
      "zeromq                    4.3.4                h2531618_0  \n",
      "zipp                      3.8.0            py38h06a4308_0  \n",
      "zlib                      1.2.12               h5eee18b_3  \n",
      "zstd                      1.5.2                ha4553b6_0  \n",
      "\n",
      "Note: you may need to restart the kernel to use updated packages.\n"
     ]
    }
   ],
   "source": [
    "conda list"
   ]
  },
  {
   "cell_type": "code",
   "execution_count": null,
   "id": "284df80e",
   "metadata": {},
   "outputs": [],
   "source": []
  }
 ],
 "metadata": {
  "kernelspec": {
   "display_name": "salem",
   "language": "python",
   "name": "python3"
  },
  "language_info": {
   "codemirror_mode": {
    "name": "ipython",
    "version": 3
   },
   "file_extension": ".py",
   "mimetype": "text/x-python",
   "name": "python",
   "nbconvert_exporter": "python",
   "pygments_lexer": "ipython3",
   "version": "3.8.0"
  },
  "toc": {
   "base_numbering": 1,
   "nav_menu": {},
   "number_sections": true,
   "sideBar": true,
   "skip_h1_title": false,
   "title_cell": "Table of Contents",
   "title_sidebar": "Contents",
   "toc_cell": false,
   "toc_position": {},
   "toc_section_display": true,
   "toc_window_display": false
  },
  "varInspector": {
   "cols": {
    "lenName": 16,
    "lenType": 16,
    "lenVar": 40
   },
   "kernels_config": {
    "python": {
     "delete_cmd_postfix": "",
     "delete_cmd_prefix": "del ",
     "library": "var_list.py",
     "varRefreshCmd": "print(var_dic_list())"
    },
    "r": {
     "delete_cmd_postfix": ") ",
     "delete_cmd_prefix": "rm(",
     "library": "var_list.r",
     "varRefreshCmd": "cat(var_dic_list()) "
    }
   },
   "position": {
    "height": "144.85px",
    "left": "379.2px",
    "right": "20px",
    "top": "165px",
    "width": "350px"
   },
   "types_to_exclude": [
    "module",
    "function",
    "builtin_function_or_method",
    "instance",
    "_Feature"
   ],
   "window_display": false
  }
 },
 "nbformat": 4,
 "nbformat_minor": 5
}
