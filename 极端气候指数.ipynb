{
 "cells": [
  {
   "cell_type": "code",
   "execution_count": 1,
   "id": "5a374538",
   "metadata": {},
   "outputs": [],
   "source": [
    "import numpy as np\n",
    "import xarray as xr\n",
    "from cdo import *\n",
    "from cdo import Cdo\n",
    "import pandas as pd\n",
    "import os\n",
    "import datetime\n",
    "cdo = Cdo()\n",
    "import matplotlib.pyplot as plt"
   ]
  },
  {
   "cell_type": "code",
   "execution_count": 31,
   "id": "286a8b5a",
   "metadata": {},
   "outputs": [],
   "source": [
    "text=xr.open_dataset('/mnt/f/cn05/cn05_huabei/tmax/tmax1982.nc')"
   ]
  },
  {
   "cell_type": "code",
   "execution_count": 48,
   "id": "09039892",
   "metadata": {},
   "outputs": [],
   "source": [
    "output=TX_index_TXx(text.tmax)\n",
    "output.to_netcdf(path = '/mnt/f/cn05/cn05_huabei/TXX/TXX_tmax1982.nc')"
   ]
  },
  {
   "cell_type": "code",
   "execution_count": 45,
   "id": "d854e5ac",
   "metadata": {},
   "outputs": [
    {
     "data": {
      "text/plain": [
       "<matplotlib.colorbar.Colorbar at 0x7f1aa4ca7490>"
      ]
     },
     "execution_count": 45,
     "metadata": {},
     "output_type": "execute_result"
    },
    {
     "data": {
      "image/png": "[encoded data removed]",
      "text/plain": [
       "<Figure size 432x288 with 2 Axes>"
      ]
     },
     "metadata": {
      "needs_background": "light"
     },
     "output_type": "display_data"
    }
   ],
   "source": [
    "TXX1982=xr.open_dataset('/mnt/f/cn05/cn05_huabei/TXX/TXX_tmax1982.nc')\n",
    "TXX1982\n",
    "plt.pcolormesh(TXX1982.tmax,cmap = 'viridis')\n",
    "plt.colorbar()"
   ]
  },
  {
   "cell_type": "code",
   "execution_count": 23,
   "id": "6a912ad0",
   "metadata": {},
   "outputs": [
    {
     "name": "stderr",
     "output_type": "stream",
     "text": [
      "cdo    splityear: Processed 1 variable over 12418 timesteps [18.07s 57MB].\n"
     ]
    },
    {
     "data": {
      "text/plain": [
       "0"
      ]
     },
     "execution_count": 23,
     "metadata": {},
     "output_type": "execute_result"
    }
   ],
   "source": [
    "os.system('cdo splityear, /mnt/f/cn05/cn05_huabei/huabeicn05.1_pre_1982_2015.nc  /mnt/f/cn05/cn05_huabei/pre ')\n",
    "os.system('cdo splityear, /mnt/f/cn05/cn05_huabei/huabeicn05.1_tm_1982_2015.nc  /mnt/f/cn05/cn05_huabei/tm ')\n",
    "os.system('cdo splityear, /mnt/f/cn05/cn05_huabei/huabeicn05.1_tmax_1982_2015.nc  /mnt/f/cn05/cn05_huabei/tmax/tmax ')\n",
    "os.system('cdo splityear, /mnt/f/cn05/cn05_huabei/huabeicn05.1_tmin_1982_2015.nc  /mnt/f/cn05/cn05_huabei/tmin/tmin ')"
   ]
  },
  {
   "cell_type": "code",
   "execution_count": 6,
   "id": "a481d690",
   "metadata": {},
   "outputs": [
    {
     "name": "stderr",
     "output_type": "stream",
     "text": [
      "cdo    splityearmon: Processed 1 variable over 12418 timesteps [40.25s 44MB].\n"
     ]
    },
    {
     "data": {
      "text/plain": [
       "0"
      ]
     },
     "execution_count": 6,
     "metadata": {},
     "output_type": "execute_result"
    }
   ],
   "source": [
    "os.system('cdo splityearmon, /mnt/f/cn05/new_pre/pre_1982_2015.nc  /mnt/f/cn05/cn05_huabei/month/pre ')"
   ]
  },
  {
   "cell_type": "code",
   "execution_count": 4,
   "id": "d27257e5",
   "metadata": {},
   "outputs": [
    {
     "name": "stderr",
     "output_type": "stream",
     "text": [
      "cdo    splityearmon: Processed 1 variable over 12418 timesteps [48.49s 44MB].\n",
      "cdo    splityearmon: Processed 1 variable over 12418 timesteps [49.50s 44MB].\n",
      "cdo    splityearmon: Processed 1 variable over 12418 timesteps [75.45s 44MB].\n"
     ]
    },
    {
     "data": {
      "text/plain": [
       "0"
      ]
     },
     "execution_count": 4,
     "metadata": {},
     "output_type": "execute_result"
    }
   ],
   "source": [
    "os.system('cdo splityearmon, /mnt/f/cn05/cn05_huabei/huabeicn05.1_tm_1982_2015.nc  /mnt/f/cn05/cn05_huabei/month/tm/tm ')\n",
    "os.system('cdo splityearmon, /mnt/f/cn05/cn05_huabei/huabeicn05.1_tmax_1982_2015.nc  /mnt/f/cn05/cn05_huabei/month/tmax/tmax ')\n",
    "os.system('cdo splityearmon, /mnt/f/cn05/cn05_huabei/huabeicn05.1_tmin_1982_2015.nc  /mnt/f/cn05/cn05_huabei/month/tmin/tmin ')"
   ]
  },
  {
   "cell_type": "code",
   "execution_count": 2,
   "id": "60a061d8",
   "metadata": {},
   "outputs": [],
   "source": [
    "def TX_index_TXx(tx):\n",
    "    TXx=np.amax(tx, axis=0)\n",
    "    return TXx"
   ]
  },
  {
   "cell_type": "code",
   "execution_count": 5,
   "id": "ca17a926",
   "metadata": {},
   "outputs": [],
   "source": [
    "path = '/mnt/f/cn05/cn05_huabei/tmax/'\n",
    "filename = os.listdir(path)\n",
    "for file in filename:\n",
    "    inputfile = os.path.join('/mnt/f/cn05/cn05_huabei/tmax/',file)\n",
    "    tmax_year = xr.open_dataset(inputfile)\n",
    "    output=TX_index_TXx(tmax_year.tmax)\n",
    "    outputfile = os.path.join('/mnt/f/cn05/cn05_huabei/TXX/',\"TXX_\" + file)\n",
    "    output.to_netcdf(path = outputfile)"
   ]
  },
  {
   "cell_type": "code",
   "execution_count": 2,
   "id": "4a6bd4cb",
   "metadata": {},
   "outputs": [],
   "source": [
    "def TN_index_TNn(tn):\n",
    "    TNn=np.amin(tn, axis=0)\n",
    "    return TNn"
   ]
  },
  {
   "cell_type": "code",
   "execution_count": 3,
   "id": "47d37553",
   "metadata": {},
   "outputs": [],
   "source": [
    "path = '/mnt/f/cn05/cn05_huabei/tmin/'\n",
    "filename = os.listdir(path)\n",
    "for file in filename:\n",
    "    inputfile = os.path.join('/mnt/f/cn05/cn05_huabei/tmin/',file)\n",
    "    tmin_year = xr.open_dataset(inputfile)\n",
    "    output=TN_index_TNn(tmin_year.tmin)\n",
    "    outputfile = os.path.join('/mnt/f/cn05/cn05_huabei/TNN/',\"TNN_\" + file)\n",
    "    output.to_netcdf(path = outputfile)"
   ]
  },
  {
   "cell_type": "code",
   "execution_count": 4,
   "id": "2e2095e1",
   "metadata": {},
   "outputs": [],
   "source": [
    "def TX_index_TXn(tx):\n",
    "    TXn=np.amin(tx, axis=0)\n",
    "    return TXn"
   ]
  },
  {
   "cell_type": "code",
   "execution_count": 5,
   "id": "52d5592d",
   "metadata": {},
   "outputs": [],
   "source": [
    "path = '/mnt/f/cn05/cn05_huabei/tmax/'\n",
    "filename = os.listdir(path)\n",
    "for file in filename:\n",
    "    inputfile = os.path.join('/mnt/f/cn05/cn05_huabei/tmax/',file)\n",
    "    tmax_year = xr.open_dataset(inputfile)\n",
    "    output=TX_index_TXn(tmax_year.tmax)\n",
    "    outputfile = os.path.join('/mnt/f/cn05/cn05_huabei/TXn/',\"TXn_\" + file)\n",
    "    output.to_netcdf(path = outputfile)"
   ]
  },
  {
   "cell_type": "code",
   "execution_count": 6,
   "id": "7b86067b",
   "metadata": {},
   "outputs": [],
   "source": [
    "def TN_index_TNX(tn):\n",
    "    TNx=np.amax(tn, axis=0)\n",
    "    return TNx"
   ]
  },
  {
   "cell_type": "code",
   "execution_count": 7,
   "id": "6bea4440",
   "metadata": {},
   "outputs": [],
   "source": [
    "path = '/mnt/f/cn05/cn05_huabei/tmin/'\n",
    "filename = os.listdir(path)\n",
    "for file in filename:\n",
    "    inputfile = os.path.join('/mnt/f/cn05/cn05_huabei/tmin/',file)\n",
    "    tmin_year = xr.open_dataset(inputfile)\n",
    "    output=TN_index_TNX(tmin_year.tmin)\n",
    "    outputfile = os.path.join('/mnt/f/cn05/cn05_huabei/TNx/',\"TNx_\" + file)\n",
    "    output.to_netcdf(path = outputfile)"
   ]
  },
  {
   "cell_type": "code",
   "execution_count": 29,
   "id": "9835cbaa",
   "metadata": {},
   "outputs": [
    {
     "name": "stderr",
     "output_type": "stream",
     "text": [
      "cdo    merge: Processed 2 variables over 730 timesteps [1.52s 81MB].\n"
     ]
    },
    {
     "data": {
      "text/plain": [
       "0"
      ]
     },
     "execution_count": 29,
     "metadata": {},
     "output_type": "execute_result"
    }
   ],
   "source": [
    "os.system('cdo merge  /mnt/f/cn05/cn05_huabei/tmax/tmax1997.nc  /mnt/f/cn05/cn05_huabei/tmin/tmin1997.nc  /mnt/f/cn05/cn05_huabei/tmaxmin/tmaxmin1997.nc')"
   ]
  },
  {
   "cell_type": "code",
   "execution_count": 2,
   "id": "c77e190e",
   "metadata": {},
   "outputs": [
    {
     "name": "stderr",
     "output_type": "stream",
     "text": [
      "cdo    merge: Processed 2 variables over 730 timesteps [3.84s 81MB].\n"
     ]
    },
    {
     "data": {
      "text/plain": [
       "0"
      ]
     },
     "execution_count": 2,
     "metadata": {},
     "output_type": "execute_result"
    }
   ],
   "source": [
    "os.system('cdo merge  /mnt/f/cn05/cn05_huabei/tmax/tmax1998.nc  /mnt/f/cn05/cn05_huabei/tmin/tmin1998.nc  /mnt/f/cn05/cn05_huabei/tmaxmin/tmaxmin1998.nc')"
   ]
  },
  {
   "cell_type": "code",
   "execution_count": 3,
   "id": "939d8ef2",
   "metadata": {},
   "outputs": [
    {
     "name": "stderr",
     "output_type": "stream",
     "text": [
      "cdo    merge: Processed 2 variables over 730 timesteps [1.51s 81MB].\n"
     ]
    },
    {
     "data": {
      "text/plain": [
       "0"
      ]
     },
     "execution_count": 3,
     "metadata": {},
     "output_type": "execute_result"
    }
   ],
   "source": [
    "os.system('cdo merge  /mnt/f/cn05/cn05_huabei/tmax/tmax1999.nc  /mnt/f/cn05/cn05_huabei/tmin/tmin1999.nc  /mnt/f/cn05/cn05_huabei/tmaxmin/tmaxmin1999.nc')"
   ]
  },
  {
   "cell_type": "code",
   "execution_count": 4,
   "id": "7cdea7f1",
   "metadata": {},
   "outputs": [
    {
     "name": "stderr",
     "output_type": "stream",
     "text": [
      "cdo    merge: Processed 2 variables over 732 timesteps [1.70s 81MB].\n"
     ]
    },
    {
     "data": {
      "text/plain": [
       "0"
      ]
     },
     "execution_count": 4,
     "metadata": {},
     "output_type": "execute_result"
    }
   ],
   "source": [
    "os.system('cdo merge  /mnt/f/cn05/cn05_huabei/tmax/tmax2000.nc  /mnt/f/cn05/cn05_huabei/tmin/tmin2000.nc  /mnt/f/cn05/cn05_huabei/tmaxmin/tmaxmin2000.nc')"
   ]
  },
  {
   "cell_type": "code",
   "execution_count": 5,
   "id": "1dc5f484",
   "metadata": {},
   "outputs": [
    {
     "name": "stderr",
     "output_type": "stream",
     "text": [
      "cdo    merge: Processed 2 variables over 730 timesteps [1.70s 81MB].\n"
     ]
    },
    {
     "data": {
      "text/plain": [
       "0"
      ]
     },
     "execution_count": 5,
     "metadata": {},
     "output_type": "execute_result"
    }
   ],
   "source": [
    "os.system('cdo merge  /mnt/f/cn05/cn05_huabei/tmax/tmax2001.nc  /mnt/f/cn05/cn05_huabei/tmin/tmin2001.nc  /mnt/f/cn05/cn05_huabei/tmaxmin/tmaxmin2001.nc')"
   ]
  },
  {
   "cell_type": "code",
   "execution_count": 6,
   "id": "dc0b6da5",
   "metadata": {},
   "outputs": [
    {
     "name": "stderr",
     "output_type": "stream",
     "text": [
      "cdo    merge: Processed 2 variables over 730 timesteps [1.67s 81MB].\n"
     ]
    },
    {
     "data": {
      "text/plain": [
       "0"
      ]
     },
     "execution_count": 6,
     "metadata": {},
     "output_type": "execute_result"
    }
   ],
   "source": [
    "os.system('cdo merge  /mnt/f/cn05/cn05_huabei/tmax/tmax2002.nc  /mnt/f/cn05/cn05_huabei/tmin/tmin2002.nc  /mnt/f/cn05/cn05_huabei/tmaxmin/tmaxmin2002.nc')"
   ]
  },
  {
   "cell_type": "code",
   "execution_count": 7,
   "id": "963bb8a9",
   "metadata": {},
   "outputs": [
    {
     "name": "stderr",
     "output_type": "stream",
     "text": [
      "cdo    merge: Processed 2 variables over 730 timesteps [1.64s 81MB].\n"
     ]
    },
    {
     "data": {
      "text/plain": [
       "0"
      ]
     },
     "execution_count": 7,
     "metadata": {},
     "output_type": "execute_result"
    }
   ],
   "source": [
    "os.system('cdo merge  /mnt/f/cn05/cn05_huabei/tmax/tmax2003.nc  /mnt/f/cn05/cn05_huabei/tmin/tmin2003.nc  /mnt/f/cn05/cn05_huabei/tmaxmin/tmaxmin2003.nc')"
   ]
  },
  {
   "cell_type": "code",
   "execution_count": 8,
   "id": "530c88f5",
   "metadata": {},
   "outputs": [
    {
     "name": "stderr",
     "output_type": "stream",
     "text": [
      "cdo    merge: Processed 2 variables over 732 timesteps [4.60s 81MB].\n",
      "cdo    merge: Processed 2 variables over 730 timesteps [1.54s 81MB].\n",
      "cdo    merge: Processed 2 variables over 730 timesteps [1.59s 81MB].\n",
      "cdo    merge: Processed 2 variables over 730 timesteps [1.50s 81MB].\n",
      "cdo    merge: Processed 2 variables over 732 timesteps [1.51s 81MB].\n",
      "cdo    merge: Processed 2 variables over 730 timesteps [1.52s 81MB].\n",
      "cdo    merge: Processed 2 variables over 730 timesteps [1.46s 81MB].\n",
      "cdo    merge: Processed 2 variables over 730 timesteps [1.65s 81MB].\n",
      "cdo    merge: Processed 2 variables over 732 timesteps [1.54s 81MB].\n",
      "cdo    merge: Processed 2 variables over 730 timesteps [1.63s 81MB].\n",
      "cdo    merge: Processed 2 variables over 730 timesteps [1.50s 81MB].\n",
      "cdo    merge: Processed 2 variables over 730 timesteps [1.47s 81MB].\n"
     ]
    },
    {
     "data": {
      "text/plain": [
       "0"
      ]
     },
     "execution_count": 8,
     "metadata": {},
     "output_type": "execute_result"
    }
   ],
   "source": [
    "os.system('cdo merge  /mnt/f/cn05/cn05_huabei/tmax/tmax2004.nc  /mnt/f/cn05/cn05_huabei/tmin/tmin2004.nc  /mnt/f/cn05/cn05_huabei/tmaxmin/tmaxmin2004.nc')\n",
    "os.system('cdo merge  /mnt/f/cn05/cn05_huabei/tmax/tmax2005.nc  /mnt/f/cn05/cn05_huabei/tmin/tmin2005.nc  /mnt/f/cn05/cn05_huabei/tmaxmin/tmaxmin2005.nc')\n",
    "os.system('cdo merge  /mnt/f/cn05/cn05_huabei/tmax/tmax2006.nc  /mnt/f/cn05/cn05_huabei/tmin/tmin2006.nc  /mnt/f/cn05/cn05_huabei/tmaxmin/tmaxmin2006.nc')\n",
    "os.system('cdo merge  /mnt/f/cn05/cn05_huabei/tmax/tmax2007.nc  /mnt/f/cn05/cn05_huabei/tmin/tmin2007.nc  /mnt/f/cn05/cn05_huabei/tmaxmin/tmaxmin2007.nc')\n",
    "os.system('cdo merge  /mnt/f/cn05/cn05_huabei/tmax/tmax2008.nc  /mnt/f/cn05/cn05_huabei/tmin/tmin2008.nc  /mnt/f/cn05/cn05_huabei/tmaxmin/tmaxmin2008.nc')\n",
    "os.system('cdo merge  /mnt/f/cn05/cn05_huabei/tmax/tmax2009.nc  /mnt/f/cn05/cn05_huabei/tmin/tmin2009.nc  /mnt/f/cn05/cn05_huabei/tmaxmin/tmaxmin2009.nc')\n",
    "os.system('cdo merge  /mnt/f/cn05/cn05_huabei/tmax/tmax2010.nc  /mnt/f/cn05/cn05_huabei/tmin/tmin2010.nc  /mnt/f/cn05/cn05_huabei/tmaxmin/tmaxmin2010.nc')\n",
    "os.system('cdo merge  /mnt/f/cn05/cn05_huabei/tmax/tmax2011.nc  /mnt/f/cn05/cn05_huabei/tmin/tmin2011.nc  /mnt/f/cn05/cn05_huabei/tmaxmin/tmaxmin2011.nc')\n",
    "os.system('cdo merge  /mnt/f/cn05/cn05_huabei/tmax/tmax2012.nc  /mnt/f/cn05/cn05_huabei/tmin/tmin2012.nc  /mnt/f/cn05/cn05_huabei/tmaxmin/tmaxmin2012.nc')\n",
    "os.system('cdo merge  /mnt/f/cn05/cn05_huabei/tmax/tmax2013.nc  /mnt/f/cn05/cn05_huabei/tmin/tmin2013.nc  /mnt/f/cn05/cn05_huabei/tmaxmin/tmaxmin2013.nc')\n",
    "os.system('cdo merge  /mnt/f/cn05/cn05_huabei/tmax/tmax2014.nc  /mnt/f/cn05/cn05_huabei/tmin/tmin2014.nc  /mnt/f/cn05/cn05_huabei/tmaxmin/tmaxmin2014.nc')\n",
    "os.system('cdo merge  /mnt/f/cn05/cn05_huabei/tmax/tmax2015.nc  /mnt/f/cn05/cn05_huabei/tmin/tmin2015.nc  /mnt/f/cn05/cn05_huabei/tmaxmin/tmaxmin2015.nc')"
   ]
  },
  {
   "cell_type": "code",
   "execution_count": 9,
   "id": "575a19b1",
   "metadata": {},
   "outputs": [
    {
     "data": {
      "text/html": [
       "<div><svg style=\"position: absolute; width: 0; height: 0; overflow: hidden\">\n",
       "<defs>\n",
       "<symbol id=\"icon-database\" viewBox=\"0 0 32 32\">\n",
       "<path d=\"M16 0c-8.837 0-16 2.239-16 5v4c0 2.761 7.163 5 16 5s16-2.239 16-5v-4c0-2.761-7.163-5-16-5z\"></path>\n",
       "<path d=\"M16 17c-8.837 0-16-2.239-16-5v6c0 2.761 7.163 5 16 5s16-2.239 16-5v-6c0 2.761-7.163 5-16 5z\"></path>\n",
       "<path d=\"M16 26c-8.837 0-16-2.239-16-5v6c0 2.761 7.163 5 16 5s16-2.239 16-5v-6c0 2.761-7.163 5-16 5z\"></path>\n",
       "</symbol>\n",
       "<symbol id=\"icon-file-text2\" viewBox=\"0 0 32 32\">\n",
       "<path d=\"M28.681 7.159c-0.694-0.947-1.662-2.053-2.724-3.116s-2.169-2.030-3.116-2.724c-1.612-1.182-2.393-1.319-2.841-1.319h-15.5c-1.378 0-2.5 1.121-2.5 2.5v27c0 1.378 1.122 2.5 2.5 2.5h23c1.378 0 2.5-1.122 2.5-2.5v-19.5c0-0.448-0.137-1.23-1.319-2.841zM24.543 5.457c0.959 0.959 1.712 1.825 2.268 2.543h-4.811v-4.811c0.718 0.556 1.584 1.309 2.543 2.268zM28 29.5c0 0.271-0.229 0.5-0.5 0.5h-23c-0.271 0-0.5-0.229-0.5-0.5v-27c0-0.271 0.229-0.5 0.5-0.5 0 0 15.499-0 15.5 0v7c0 0.552 0.448 1 1 1h7v19.5z\"></path>\n",
       "<path d=\"M23 26h-14c-0.552 0-1-0.448-1-1s0.448-1 1-1h14c0.552 0 1 0.448 1 1s-0.448 1-1 1z\"></path>\n",
       "<path d=\"M23 22h-14c-0.552 0-1-0.448-1-1s0.448-1 1-1h14c0.552 0 1 0.448 1 1s-0.448 1-1 1z\"></path>\n",
       "<path d=\"M23 18h-14c-0.552 0-1-0.448-1-1s0.448-1 1-1h14c0.552 0 1 0.448 1 1s-0.448 1-1 1z\"></path>\n",
       "</symbol>\n",
       "</defs>\n",
       "</svg>\n",
       "<style>/* CSS stylesheet for displaying xarray objects in jupyterlab.\n",
       " *\n",
       " */\n",
       "\n",
       ":root {\n",
       "  --xr-font-color0: var(--jp-content-font-color0, rgba(0, 0, 0, 1));\n",
       "  --xr-font-color2: var(--jp-content-font-color2, rgba(0, 0, 0, 0.54));\n",
       "  --xr-font-color3: var(--jp-content-font-color3, rgba(0, 0, 0, 0.38));\n",
       "  --xr-border-color: var(--jp-border-color2, #e0e0e0);\n",
       "  --xr-disabled-color: var(--jp-layout-color3, #bdbdbd);\n",
       "  --xr-background-color: var(--jp-layout-color0, white);\n",
       "  --xr-background-color-row-even: var(--jp-layout-color1, white);\n",
       "  --xr-background-color-row-odd: var(--jp-layout-color2, #eeeeee);\n",
       "}\n",
       "\n",
       "html[theme=dark],\n",
       "body.vscode-dark {\n",
       "  --xr-font-color0: rgba(255, 255, 255, 1);\n",
       "  --xr-font-color2: rgba(255, 255, 255, 0.54);\n",
       "  --xr-font-color3: rgba(255, 255, 255, 0.38);\n",
       "  --xr-border-color: #1F1F1F;\n",
       "  --xr-disabled-color: #515151;\n",
       "  --xr-background-color: #111111;\n",
       "  --xr-background-color-row-even: #111111;\n",
       "  --xr-background-color-row-odd: #313131;\n",
       "}\n",
       "\n",
       ".xr-wrap {\n",
       "  display: block;\n",
       "  min-width: 300px;\n",
       "  max-width: 700px;\n",
       "}\n",
       "\n",
       ".xr-text-repr-fallback {\n",
       "  /* fallback to plain text repr when CSS is not injected (untrusted notebook) */\n",
       "  display: none;\n",
       "}\n",
       "\n",
       ".xr-header {\n",
       "  padding-top: 6px;\n",
       "  padding-bottom: 6px;\n",
       "  margin-bottom: 4px;\n",
       "  border-bottom: solid 1px var(--xr-border-color);\n",
       "}\n",
       "\n",
       ".xr-header > div,\n",
       ".xr-header > ul {\n",
       "  display: inline;\n",
       "  margin-top: 0;\n",
       "  margin-bottom: 0;\n",
       "}\n",
       "\n",
       ".xr-obj-type,\n",
       ".xr-array-name {\n",
       "  margin-left: 2px;\n",
       "  margin-right: 10px;\n",
       "}\n",
       "\n",
       ".xr-obj-type {\n",
       "  color: var(--xr-font-color2);\n",
       "}\n",
       "\n",
       ".xr-sections {\n",
       "  padding-left: 0 !important;\n",
       "  display: grid;\n",
       "  grid-template-columns: 150px auto auto 1fr 20px 20px;\n",
       "}\n",
       "\n",
       ".xr-section-item {\n",
       "  display: contents;\n",
       "}\n",
       "\n",
       ".xr-section-item input {\n",
       "  display: none;\n",
       "}\n",
       "\n",
       ".xr-section-item input + label {\n",
       "  color: var(--xr-disabled-color);\n",
       "}\n",
       "\n",
       ".xr-section-item input:enabled + label {\n",
       "  cursor: pointer;\n",
       "  color: var(--xr-font-color2);\n",
       "}\n",
       "\n",
       ".xr-section-item input:enabled + label:hover {\n",
       "  color: var(--xr-font-color0);\n",
       "}\n",
       "\n",
       ".xr-section-summary {\n",
       "  grid-column: 1;\n",
       "  color: var(--xr-font-color2);\n",
       "  font-weight: 500;\n",
       "}\n",
       "\n",
       ".xr-section-summary > span {\n",
       "  display: inline-block;\n",
       "  padding-left: 0.5em;\n",
       "}\n",
       "\n",
       ".xr-section-summary-in:disabled + label {\n",
       "  color: var(--xr-font-color2);\n",
       "}\n",
       "\n",
       ".xr-section-summary-in + label:before {\n",
       "  display: inline-block;\n",
       "  content: '►';\n",
       "  font-size: 11px;\n",
       "  width: 15px;\n",
       "  text-align: center;\n",
       "}\n",
       "\n",
       ".xr-section-summary-in:disabled + label:before {\n",
       "  color: var(--xr-disabled-color);\n",
       "}\n",
       "\n",
       ".xr-section-summary-in:checked + label:before {\n",
       "  content: '▼';\n",
       "}\n",
       "\n",
       ".xr-section-summary-in:checked + label > span {\n",
       "  display: none;\n",
       "}\n",
       "\n",
       ".xr-section-summary,\n",
       ".xr-section-inline-details {\n",
       "  padding-top: 4px;\n",
       "  padding-bottom: 4px;\n",
       "}\n",
       "\n",
       ".xr-section-inline-details {\n",
       "  grid-column: 2 / -1;\n",
       "}\n",
       "\n",
       ".xr-section-details {\n",
       "  display: none;\n",
       "  grid-column: 1 / -1;\n",
       "  margin-bottom: 5px;\n",
       "}\n",
       "\n",
       ".xr-section-summary-in:checked ~ .xr-section-details {\n",
       "  display: contents;\n",
       "}\n",
       "\n",
       ".xr-array-wrap {\n",
       "  grid-column: 1 / -1;\n",
       "  display: grid;\n",
       "  grid-template-columns: 20px auto;\n",
       "}\n",
       "\n",
       ".xr-array-wrap > label {\n",
       "  grid-column: 1;\n",
       "  vertical-align: top;\n",
       "}\n",
       "\n",
       ".xr-preview {\n",
       "  color: var(--xr-font-color3);\n",
       "}\n",
       "\n",
       ".xr-array-preview,\n",
       ".xr-array-data {\n",
       "  padding: 0 5px !important;\n",
       "  grid-column: 2;\n",
       "}\n",
       "\n",
       ".xr-array-data,\n",
       ".xr-array-in:checked ~ .xr-array-preview {\n",
       "  display: none;\n",
       "}\n",
       "\n",
       ".xr-array-in:checked ~ .xr-array-data,\n",
       ".xr-array-preview {\n",
       "  display: inline-block;\n",
       "}\n",
       "\n",
       ".xr-dim-list {\n",
       "  display: inline-block !important;\n",
       "  list-style: none;\n",
       "  padding: 0 !important;\n",
       "  margin: 0;\n",
       "}\n",
       "\n",
       ".xr-dim-list li {\n",
       "  display: inline-block;\n",
       "  padding: 0;\n",
       "  margin: 0;\n",
       "}\n",
       "\n",
       ".xr-dim-list:before {\n",
       "  content: '(';\n",
       "}\n",
       "\n",
       ".xr-dim-list:after {\n",
       "  content: ')';\n",
       "}\n",
       "\n",
       ".xr-dim-list li:not(:last-child):after {\n",
       "  content: ',';\n",
       "  padding-right: 5px;\n",
       "}\n",
       "\n",
       ".xr-has-index {\n",
       "  font-weight: bold;\n",
       "}\n",
       "\n",
       ".xr-var-list,\n",
       ".xr-var-item {\n",
       "  display: contents;\n",
       "}\n",
       "\n",
       ".xr-var-item > div,\n",
       ".xr-var-item label,\n",
       ".xr-var-item > .xr-var-name span {\n",
       "  background-color: var(--xr-background-color-row-even);\n",
       "  margin-bottom: 0;\n",
       "}\n",
       "\n",
       ".xr-var-item > .xr-var-name:hover span {\n",
       "  padding-right: 5px;\n",
       "}\n",
       "\n",
       ".xr-var-list > li:nth-child(odd) > div,\n",
       ".xr-var-list > li:nth-child(odd) > label,\n",
       ".xr-var-list > li:nth-child(odd) > .xr-var-name span {\n",
       "  background-color: var(--xr-background-color-row-odd);\n",
       "}\n",
       "\n",
       ".xr-var-name {\n",
       "  grid-column: 1;\n",
       "}\n",
       "\n",
       ".xr-var-dims {\n",
       "  grid-column: 2;\n",
       "}\n",
       "\n",
       ".xr-var-dtype {\n",
       "  grid-column: 3;\n",
       "  text-align: right;\n",
       "  color: var(--xr-font-color2);\n",
       "}\n",
       "\n",
       ".xr-var-preview {\n",
       "  grid-column: 4;\n",
       "}\n",
       "\n",
       ".xr-var-name,\n",
       ".xr-var-dims,\n",
       ".xr-var-dtype,\n",
       ".xr-preview,\n",
       ".xr-attrs dt {\n",
       "  white-space: nowrap;\n",
       "  overflow: hidden;\n",
       "  text-overflow: ellipsis;\n",
       "  padding-right: 10px;\n",
       "}\n",
       "\n",
       ".xr-var-name:hover,\n",
       ".xr-var-dims:hover,\n",
       ".xr-var-dtype:hover,\n",
       ".xr-attrs dt:hover {\n",
       "  overflow: visible;\n",
       "  width: auto;\n",
       "  z-index: 1;\n",
       "}\n",
       "\n",
       ".xr-var-attrs,\n",
       ".xr-var-data {\n",
       "  display: none;\n",
       "  background-color: var(--xr-background-color) !important;\n",
       "  padding-bottom: 5px !important;\n",
       "}\n",
       "\n",
       ".xr-var-attrs-in:checked ~ .xr-var-attrs,\n",
       ".xr-var-data-in:checked ~ .xr-var-data {\n",
       "  display: block;\n",
       "}\n",
       "\n",
       ".xr-var-data > table {\n",
       "  float: right;\n",
       "}\n",
       "\n",
       ".xr-var-name span,\n",
       ".xr-var-data,\n",
       ".xr-attrs {\n",
       "  padding-left: 25px !important;\n",
       "}\n",
       "\n",
       ".xr-attrs,\n",
       ".xr-var-attrs,\n",
       ".xr-var-data {\n",
       "  grid-column: 1 / -1;\n",
       "}\n",
       "\n",
       "dl.xr-attrs {\n",
       "  padding: 0;\n",
       "  margin: 0;\n",
       "  display: grid;\n",
       "  grid-template-columns: 125px auto;\n",
       "}\n",
       "\n",
       ".xr-attrs dt,\n",
       ".xr-attrs dd {\n",
       "  padding: 0;\n",
       "  margin: 0;\n",
       "  float: left;\n",
       "  padding-right: 10px;\n",
       "  width: auto;\n",
       "}\n",
       "\n",
       ".xr-attrs dt {\n",
       "  font-weight: normal;\n",
       "  grid-column: 1;\n",
       "}\n",
       "\n",
       ".xr-attrs dt:hover span {\n",
       "  display: inline-block;\n",
       "  background: var(--xr-background-color);\n",
       "  padding-right: 10px;\n",
       "}\n",
       "\n",
       ".xr-attrs dd {\n",
       "  grid-column: 2;\n",
       "  white-space: pre-wrap;\n",
       "  word-break: break-all;\n",
       "}\n",
       "\n",
       ".xr-icon-database,\n",
       ".xr-icon-file-text2 {\n",
       "  display: inline-block;\n",
       "  vertical-align: middle;\n",
       "  width: 1em;\n",
       "  height: 1.5em !important;\n",
       "  stroke-width: 0;\n",
       "  stroke: currentColor;\n",
       "  fill: currentColor;\n",
       "}\n",
       "</style><pre class='xr-text-repr-fallback'>&lt;xarray.Dataset&gt;\n",
       "Dimensions:  (time: 365, lon: 141, lat: 101)\n",
       "Coordinates:\n",
       "  * time     (time) datetime64[ns] 2015-01-01 2015-01-02 ... 2015-12-31\n",
       "  * lon      (lon) float64 95.0 95.25 95.5 95.75 ... 129.2 129.5 129.8 130.0\n",
       "  * lat      (lat) float64 30.0 30.25 30.5 30.75 31.0 ... 54.25 54.5 54.75 55.0\n",
       "Data variables:\n",
       "    tmax     (time, lat, lon) float32 ...\n",
       "    tmin     (time, lat, lon) float32 ...\n",
       "Attributes:\n",
       "    CDI:          Climate Data Interface version 1.9.8 (https://mpimet.mpg.de...\n",
       "    Conventions:  CF-1.4\n",
       "    history:      Tue May 03 21:39:15 2022: cdo merge /mnt/f/cn05/cn05_huabei...\n",
       "    pyproj_srs:   +proj=longlat +datum=WGS84 +no_defs\n",
       "    CDO:          Climate Data Operators version 1.9.8 (https://mpimet.mpg.de...</pre><div class='xr-wrap' hidden><div class='xr-header'><div class='xr-obj-type'>xarray.Dataset</div></div><ul class='xr-sections'><li class='xr-section-item'><input id='section-cfc8ef21-3ca7-4a87-95c0-42565b9df12b' class='xr-section-summary-in' type='checkbox' disabled ><label for='section-cfc8ef21-3ca7-4a87-95c0-42565b9df12b' class='xr-section-summary'  title='Expand/collapse section'>Dimensions:</label><div class='xr-section-inline-details'><ul class='xr-dim-list'><li><span class='xr-has-index'>time</span>: 365</li><li><span class='xr-has-index'>lon</span>: 141</li><li><span class='xr-has-index'>lat</span>: 101</li></ul></div><div class='xr-section-details'></div></li><li class='xr-section-item'><input id='section-8bafc134-40df-431d-8c8f-5285849b582a' class='xr-section-summary-in' type='checkbox'  checked><label for='section-8bafc134-40df-431d-8c8f-5285849b582a' class='xr-section-summary' >Coordinates: <span>(3)</span></label><div class='xr-section-inline-details'></div><div class='xr-section-details'><ul class='xr-var-list'><li class='xr-var-item'><div class='xr-var-name'><span class='xr-has-index'>time</span></div><div class='xr-var-dims'>(time)</div><div class='xr-var-dtype'>datetime64[ns]</div><div class='xr-var-preview xr-preview'>2015-01-01 ... 2015-12-31</div><input id='attrs-393d5fdb-5440-4e20-8c1a-32fd75984fd4' class='xr-var-attrs-in' type='checkbox' ><label for='attrs-393d5fdb-5440-4e20-8c1a-32fd75984fd4' title='Show/Hide attributes'><svg class='icon xr-icon-file-text2'><use xlink:href='#icon-file-text2'></use></svg></label><input id='data-addf0b08-785b-4adc-b0f4-f3ed9b760fc2' class='xr-var-data-in' type='checkbox'><label for='data-addf0b08-785b-4adc-b0f4-f3ed9b760fc2' title='Show/Hide data repr'><svg class='icon xr-icon-database'><use xlink:href='#icon-database'></use></svg></label><div class='xr-var-attrs'><dl class='xr-attrs'><dt><span>standard_name :</span></dt><dd>time</dd><dt><span>axis :</span></dt><dd>T</dd></dl></div><div class='xr-var-data'><pre>array([&#x27;2015-01-01T00:00:00.000000000&#x27;, &#x27;2015-01-02T00:00:00.000000000&#x27;,\n",
       "       &#x27;2015-01-03T00:00:00.000000000&#x27;, ..., &#x27;2015-12-29T00:00:00.000000000&#x27;,\n",
       "       &#x27;2015-12-30T00:00:00.000000000&#x27;, &#x27;2015-12-31T00:00:00.000000000&#x27;],\n",
       "      dtype=&#x27;datetime64[ns]&#x27;)</pre></div></li><li class='xr-var-item'><div class='xr-var-name'><span class='xr-has-index'>lon</span></div><div class='xr-var-dims'>(lon)</div><div class='xr-var-dtype'>float64</div><div class='xr-var-preview xr-preview'>95.0 95.25 95.5 ... 129.8 130.0</div><input id='attrs-9db67572-5c2b-49dd-b7c0-a40e32e74907' class='xr-var-attrs-in' type='checkbox' ><label for='attrs-9db67572-5c2b-49dd-b7c0-a40e32e74907' title='Show/Hide attributes'><svg class='icon xr-icon-file-text2'><use xlink:href='#icon-file-text2'></use></svg></label><input id='data-1667f09e-5b73-4e26-b02e-402e42c408a2' class='xr-var-data-in' type='checkbox'><label for='data-1667f09e-5b73-4e26-b02e-402e42c408a2' title='Show/Hide data repr'><svg class='icon xr-icon-database'><use xlink:href='#icon-database'></use></svg></label><div class='xr-var-attrs'><dl class='xr-attrs'><dt><span>standard_name :</span></dt><dd>longitude</dd><dt><span>long_name :</span></dt><dd>longitude</dd><dt><span>units :</span></dt><dd>degrees_east</dd><dt><span>axis :</span></dt><dd>X</dd></dl></div><div class='xr-var-data'><pre>array([ 95.  ,  95.25,  95.5 ,  95.75,  96.  ,  96.25,  96.5 ,  96.75,  97.  ,\n",
       "        97.25,  97.5 ,  97.75,  98.  ,  98.25,  98.5 ,  98.75,  99.  ,  99.25,\n",
       "        99.5 ,  99.75, 100.  , 100.25, 100.5 , 100.75, 101.  , 101.25, 101.5 ,\n",
       "       101.75, 102.  , 102.25, 102.5 , 102.75, 103.  , 103.25, 103.5 , 103.75,\n",
       "       104.  , 104.25, 104.5 , 104.75, 105.  , 105.25, 105.5 , 105.75, 106.  ,\n",
       "       106.25, 106.5 , 106.75, 107.  , 107.25, 107.5 , 107.75, 108.  , 108.25,\n",
       "       108.5 , 108.75, 109.  , 109.25, 109.5 , 109.75, 110.  , 110.25, 110.5 ,\n",
       "       110.75, 111.  , 111.25, 111.5 , 111.75, 112.  , 112.25, 112.5 , 112.75,\n",
       "       113.  , 113.25, 113.5 , 113.75, 114.  , 114.25, 114.5 , 114.75, 115.  ,\n",
       "       115.25, 115.5 , 115.75, 116.  , 116.25, 116.5 , 116.75, 117.  , 117.25,\n",
       "       117.5 , 117.75, 118.  , 118.25, 118.5 , 118.75, 119.  , 119.25, 119.5 ,\n",
       "       119.75, 120.  , 120.25, 120.5 , 120.75, 121.  , 121.25, 121.5 , 121.75,\n",
       "       122.  , 122.25, 122.5 , 122.75, 123.  , 123.25, 123.5 , 123.75, 124.  ,\n",
       "       124.25, 124.5 , 124.75, 125.  , 125.25, 125.5 , 125.75, 126.  , 126.25,\n",
       "       126.5 , 126.75, 127.  , 127.25, 127.5 , 127.75, 128.  , 128.25, 128.5 ,\n",
       "       128.75, 129.  , 129.25, 129.5 , 129.75, 130.  ])</pre></div></li><li class='xr-var-item'><div class='xr-var-name'><span class='xr-has-index'>lat</span></div><div class='xr-var-dims'>(lat)</div><div class='xr-var-dtype'>float64</div><div class='xr-var-preview xr-preview'>30.0 30.25 30.5 ... 54.5 54.75 55.0</div><input id='attrs-31b0660d-c757-47e6-b9be-0430f8bd2d61' class='xr-var-attrs-in' type='checkbox' ><label for='attrs-31b0660d-c757-47e6-b9be-0430f8bd2d61' title='Show/Hide attributes'><svg class='icon xr-icon-file-text2'><use xlink:href='#icon-file-text2'></use></svg></label><input id='data-2ecfb207-18fe-4779-9e98-1a808bc30269' class='xr-var-data-in' type='checkbox'><label for='data-2ecfb207-18fe-4779-9e98-1a808bc30269' title='Show/Hide data repr'><svg class='icon xr-icon-database'><use xlink:href='#icon-database'></use></svg></label><div class='xr-var-attrs'><dl class='xr-attrs'><dt><span>standard_name :</span></dt><dd>latitude</dd><dt><span>long_name :</span></dt><dd>latitude</dd><dt><span>units :</span></dt><dd>degrees_north</dd><dt><span>axis :</span></dt><dd>Y</dd></dl></div><div class='xr-var-data'><pre>array([30.  , 30.25, 30.5 , 30.75, 31.  , 31.25, 31.5 , 31.75, 32.  , 32.25,\n",
       "       32.5 , 32.75, 33.  , 33.25, 33.5 , 33.75, 34.  , 34.25, 34.5 , 34.75,\n",
       "       35.  , 35.25, 35.5 , 35.75, 36.  , 36.25, 36.5 , 36.75, 37.  , 37.25,\n",
       "       37.5 , 37.75, 38.  , 38.25, 38.5 , 38.75, 39.  , 39.25, 39.5 , 39.75,\n",
       "       40.  , 40.25, 40.5 , 40.75, 41.  , 41.25, 41.5 , 41.75, 42.  , 42.25,\n",
       "       42.5 , 42.75, 43.  , 43.25, 43.5 , 43.75, 44.  , 44.25, 44.5 , 44.75,\n",
       "       45.  , 45.25, 45.5 , 45.75, 46.  , 46.25, 46.5 , 46.75, 47.  , 47.25,\n",
       "       47.5 , 47.75, 48.  , 48.25, 48.5 , 48.75, 49.  , 49.25, 49.5 , 49.75,\n",
       "       50.  , 50.25, 50.5 , 50.75, 51.  , 51.25, 51.5 , 51.75, 52.  , 52.25,\n",
       "       52.5 , 52.75, 53.  , 53.25, 53.5 , 53.75, 54.  , 54.25, 54.5 , 54.75,\n",
       "       55.  ])</pre></div></li></ul></div></li><li class='xr-section-item'><input id='section-5dbfb847-7004-4944-8d57-6198d5de8c5a' class='xr-section-summary-in' type='checkbox'  checked><label for='section-5dbfb847-7004-4944-8d57-6198d5de8c5a' class='xr-section-summary' >Data variables: <span>(2)</span></label><div class='xr-section-inline-details'></div><div class='xr-section-details'><ul class='xr-var-list'><li class='xr-var-item'><div class='xr-var-name'><span>tmax</span></div><div class='xr-var-dims'>(time, lat, lon)</div><div class='xr-var-dtype'>float32</div><div class='xr-var-preview xr-preview'>...</div><input id='attrs-61a18dbc-740b-4011-944a-62973cc2aacf' class='xr-var-attrs-in' type='checkbox' ><label for='attrs-61a18dbc-740b-4011-944a-62973cc2aacf' title='Show/Hide attributes'><svg class='icon xr-icon-file-text2'><use xlink:href='#icon-file-text2'></use></svg></label><input id='data-88ed5829-2b31-439d-9dd4-bfe14d701b18' class='xr-var-data-in' type='checkbox'><label for='data-88ed5829-2b31-439d-9dd4-bfe14d701b18' title='Show/Hide data repr'><svg class='icon xr-icon-database'><use xlink:href='#icon-database'></use></svg></label><div class='xr-var-attrs'><dl class='xr-attrs'><dt><span>long_name :</span></dt><dd>CN05.1 daily, maximum temperature,c                                                       \r",
       "</dd><dt><span>pyproj_srs :</span></dt><dd>+proj=longlat +datum=WGS84 +no_defs</dd></dl></div><div class='xr-var-data'><pre>[5197965 values with dtype=float32]</pre></div></li><li class='xr-var-item'><div class='xr-var-name'><span>tmin</span></div><div class='xr-var-dims'>(time, lat, lon)</div><div class='xr-var-dtype'>float32</div><div class='xr-var-preview xr-preview'>...</div><input id='attrs-4fb22678-be20-4f3a-b485-5825fb607e14' class='xr-var-attrs-in' type='checkbox' ><label for='attrs-4fb22678-be20-4f3a-b485-5825fb607e14' title='Show/Hide attributes'><svg class='icon xr-icon-file-text2'><use xlink:href='#icon-file-text2'></use></svg></label><input id='data-dc19a3fa-8bc8-4b15-8bda-67a19de258e3' class='xr-var-data-in' type='checkbox'><label for='data-dc19a3fa-8bc8-4b15-8bda-67a19de258e3' title='Show/Hide data repr'><svg class='icon xr-icon-database'><use xlink:href='#icon-database'></use></svg></label><div class='xr-var-attrs'><dl class='xr-attrs'><dt><span>long_name :</span></dt><dd>CN05.1 daily, minimum temperature,c                                                       \r",
       "</dd><dt><span>pyproj_srs :</span></dt><dd>+proj=longlat +datum=WGS84 +no_defs</dd></dl></div><div class='xr-var-data'><pre>[5197965 values with dtype=float32]</pre></div></li></ul></div></li><li class='xr-section-item'><input id='section-13477de4-8106-450a-b8b3-ce75ad1477b6' class='xr-section-summary-in' type='checkbox'  checked><label for='section-13477de4-8106-450a-b8b3-ce75ad1477b6' class='xr-section-summary' >Attributes: <span>(5)</span></label><div class='xr-section-inline-details'></div><div class='xr-section-details'><dl class='xr-attrs'><dt><span>CDI :</span></dt><dd>Climate Data Interface version 1.9.8 (https://mpimet.mpg.de/cdi)</dd><dt><span>Conventions :</span></dt><dd>CF-1.4</dd><dt><span>history :</span></dt><dd>Tue May 03 21:39:15 2022: cdo merge /mnt/f/cn05/cn05_huabei/tmax/tmax2015.nc /mnt/f/cn05/cn05_huabei/tmin/tmin2015.nc /mnt/f/cn05/cn05_huabei/tmaxmin/tmaxmin2015.nc\n",
       "Mon May 02 01:10:43 2022: cdo splityear, /mnt/f/cn05/cn05_huabei/huabeicn05.1_tmax_1982_2015.nc /mnt/f/cn05/cn05_huabei/tmax/tmax\n",
       "Fri Apr 29 19:49:44 2022: cdo -O -s -sellonlatbox,95,130,30,55 /mnt/f/cn05/huabei_1982_2015/huabeicn05.1_tmax_1982_2015.nc /mnt/f/cn05/cn05_huabei/huabeicn05.1_tmax_1982_2015.nc\n",
       "Tue Apr 26 17:36:51 2022: cdo select,year=1982,1983,1984,1985,1986,1987,1988,1989,1990,1991,1992,1993,1994,1995,1996,1997,1998,1999,2000,2001,2002,2003,2004,2005,2006,2007,2008,2009,2010,2011,2012,2013,2014,2015 /mnt/f/cn05/Climite/CN05.1_Tmax_1961_2020_daily_025x025.nc /mnt/f/cn05/Climite/out/cn05_1982_20151.nc\n",
       "Wed Dec 15 16:20:55 2021: cdo -r -O mergetime CN05.1_Tmax_1961_2018_daily_025x025.nc CN05.1-2019/changetime/CN05.1_Tmax_2019_daily_025x025.nc 2020/CN05.1_Tmax_2020_daily_025x025.nc ../RegCM_BC/CN05.1/CN05.1_Tmax_1961_2020_daily_025x025.nc\n",
       "Sat Nov 16 17:05:14 2019: cdo -f nc import_binary CN05.1_Tmax_1961_2018_daily_025x025.ctl CN05.1_Tmax_1961_2018_daily_025x025.nc</dd><dt><span>pyproj_srs :</span></dt><dd>+proj=longlat +datum=WGS84 +no_defs</dd><dt><span>CDO :</span></dt><dd>Climate Data Operators version 1.9.8 (https://mpimet.mpg.de/cdo)</dd></dl></div></li></ul></div></div>"
      ],
      "text/plain": [
       "<xarray.Dataset>\n",
       "Dimensions:  (time: 365, lon: 141, lat: 101)\n",
       "Coordinates:\n",
       "  * time     (time) datetime64[ns] 2015-01-01 2015-01-02 ... 2015-12-31\n",
       "  * lon      (lon) float64 95.0 95.25 95.5 95.75 ... 129.2 129.5 129.8 130.0\n",
       "  * lat      (lat) float64 30.0 30.25 30.5 30.75 31.0 ... 54.25 54.5 54.75 55.0\n",
       "Data variables:\n",
       "    tmax     (time, lat, lon) float32 ...\n",
       "    tmin     (time, lat, lon) float32 ...\n",
       "Attributes:\n",
       "    CDI:          Climate Data Interface version 1.9.8 (https://mpimet.mpg.de...\n",
       "    Conventions:  CF-1.4\n",
       "    history:      Tue May 03 21:39:15 2022: cdo merge /mnt/f/cn05/cn05_huabei...\n",
       "    pyproj_srs:   +proj=longlat +datum=WGS84 +no_defs\n",
       "    CDO:          Climate Data Operators version 1.9.8 (https://mpimet.mpg.de..."
      ]
     },
     "execution_count": 9,
     "metadata": {},
     "output_type": "execute_result"
    }
   ],
   "source": [
    "tmaxmin = xr.open_dataset('/mnt/f/cn05/cn05_huabei/tmaxmin/tmaxmin2015.nc')\n",
    "tmaxmin"
   ]
  },
  {
   "cell_type": "code",
   "execution_count": 31,
   "id": "8df2a4b7",
   "metadata": {},
   "outputs": [
    {
     "data": {
      "text/plain": [
       "<matplotlib.colorbar.Colorbar at 0x7fcd629e34c0>"
      ]
     },
     "execution_count": 31,
     "metadata": {},
     "output_type": "execute_result"
    },
    {
     "data": {
      "image/png": "[encoded data removed]",
      "text/plain": [
       "<Figure size 432x288 with 2 Axes>"
      ]
     },
     "metadata": {
      "needs_background": "light"
     },
     "output_type": "display_data"
    }
   ],
   "source": [
    "text=xr.open_dataset('/mnt/f/cn05/cn05_huabei/tmax/tmax1982.nc')\n",
    "text5 = xr.open_dataset('/mnt/f/cn05/cn05_huabei/tmin/tmin1982.nc')\n",
    "DTRtext=TXTN_index_DTR(text.tmax,text5.tmin)\n",
    "plt.pcolormesh(DTRtext,cmap = 'viridis')\n",
    "plt.colorbar()"
   ]
  },
  {
   "cell_type": "code",
   "execution_count": 7,
   "id": "243c4a6b",
   "metadata": {},
   "outputs": [],
   "source": [
    "tmaxmin = xr.open_dataset('/mnt/f/cn05/cn05_huabei/tmaxmin/tmaxmin2015.nc')\n",
    "total_lat =len(tmaxmin.lat)\n",
    "total_lon = len(tmaxmin.lon)"
   ]
  },
  {
   "cell_type": "code",
   "execution_count": 51,
   "id": "2d7eae15",
   "metadata": {},
   "outputs": [],
   "source": [
    "def TXTN_index_DTR(tx,tn):\n",
    "    txtndtr=tx-tn\n",
    "    DTR=np.mean(txtndtr,axis=0)\n",
    "    return DTR"
   ]
  },
  {
   "cell_type": "code",
   "execution_count": 52,
   "id": "25be6bc8",
   "metadata": {},
   "outputs": [],
   "source": [
    "DTR_matrix =np.full((34,101,141),fill_value=np.nan)\n",
    "path = '/mnt/f/cn05/cn05_huabei/tmaxmin/'\n",
    "filename = os.listdir(path)\n",
    "i = 0\n",
    "for file in filename:\n",
    "    inputfile = os.path.join('/mnt/f/cn05/cn05_huabei/tmaxmin/',file)\n",
    "    t_year = xr.open_dataset(inputfile)\n",
    "    DTR_matrix[i,:,:] = TXTN_index_DTR(t_year.tmax, t_year.tmin)\n",
    "    i = i + 1"
   ]
  },
  {
   "cell_type": "code",
   "execution_count": 102,
   "id": "ce627f42",
   "metadata": {},
   "outputs": [],
   "source": [
    "def TX_index_TX90p(tx,tx90th):\n",
    "    dtx=tx-tx90th\n",
    "    dtx01=np.where(dtx>0,1,np.nan)\n",
    "    TX90p=np.nansum(dtx01,axis=0)\n",
    "    return TX90p"
   ]
  },
  {
   "cell_type": "code",
   "execution_count": 137,
   "id": "dd61325f",
   "metadata": {},
   "outputs": [
    {
     "name": "stderr",
     "output_type": "stream",
     "text": [
      "/home/yqr/miniconda3/envs/python/lib/python3.8/site-packages/numpy/lib/nanfunctions.py:1395: RuntimeWarning: All-NaN slice encountered\n",
      "  result = np.apply_along_axis(_nanquantile_1d, axis, a, q,\n"
     ]
    },
    {
     "data": {
      "text/plain": [
       "28.282101937902322"
      ]
     },
     "execution_count": 137,
     "metadata": {},
     "output_type": "execute_result"
    },
    {
     "data": {
      "image/png": "[encoded data removed]",
      "text/plain": [
       "<Figure size 432x288 with 2 Axes>"
      ]
     },
     "metadata": {
      "needs_background": "light"
     },
     "output_type": "display_data"
    }
   ],
   "source": [
    "tmax1982_2015 = xr.open_dataset('/mnt/f/cn05/cn05_huabei/huabeicn05.1_tmax_1982_2015.nc')\n",
    "tmax90 = np.nanpercentile(tmax1982_2015.tmax,90,axis=0)\n",
    "plt.pcolormesh(tmax90,cmap = 'coolwarm')\n",
    "plt.colorbar()\n",
    "np.nanmean(tmax90)"
   ]
  },
  {
   "cell_type": "code",
   "execution_count": 106,
   "id": "3cff7576",
   "metadata": {},
   "outputs": [
    {
     "data": {
      "text/plain": [
       "array([[0., 0., 0., ..., 0., 0., 0.],\n",
       "       [0., 0., 0., ..., 0., 0., 0.],\n",
       "       [0., 0., 0., ..., 0., 0., 0.],\n",
       "       ...,\n",
       "       [0., 0., 0., ..., 0., 0., 0.],\n",
       "       [0., 0., 0., ..., 0., 0., 0.],\n",
       "       [0., 0., 0., ..., 0., 0., 0.]])"
      ]
     },
     "execution_count": 106,
     "metadata": {},
     "output_type": "execute_result"
    }
   ],
   "source": [
    "tmax1982test = xr.open_dataset('/mnt/f/cn05/cn05_huabei/tmax/tmax1982.nc')\n",
    "tx90_1982 = TX_index_TX90p(t_year.tmax,tmax90)\n",
    "tx90_1982"
   ]
  },
  {
   "cell_type": "code",
   "execution_count": 129,
   "id": "350e0f5e",
   "metadata": {},
   "outputs": [],
   "source": [
    "TX90_matrix =np.full((34,101,141),fill_value=np.nan)\n",
    "path = '/mnt/f/cn05/cn05_huabei/tmax/'\n",
    "filename = os.listdir(path)\n",
    "i = 0\n",
    "for file in filename:\n",
    "    inputfile = os.path.join('/mnt/f/cn05/cn05_huabei/tmax/',file)\n",
    "    t_year = xr.open_dataset(inputfile)\n",
    "    TX90_matrix[i,:,:] = TX_index_TX90p(t_year.tmax,tmax90)\n",
    "    i = i + 1"
   ]
  },
  {
   "cell_type": "code",
   "execution_count": 130,
   "id": "ac0ce7c8",
   "metadata": {},
   "outputs": [],
   "source": [
    "TX90_matrix[TX90_matrix==0]=np.nan"
   ]
  },
  {
   "cell_type": "code",
   "execution_count": 131,
   "id": "de7c5017",
   "metadata": {},
   "outputs": [
    {
     "data": {
      "text/plain": [
       "<matplotlib.colorbar.Colorbar at 0x7fb735ed3880>"
      ]
     },
     "execution_count": 131,
     "metadata": {},
     "output_type": "execute_result"
    },
    {
     "data": {
      "image/png": "[encoded data removed]",
      "text/plain": [
       "<Figure size 432x288 with 2 Axes>"
      ]
     },
     "metadata": {
      "needs_background": "light"
     },
     "output_type": "display_data"
    }
   ],
   "source": [
    "plt.pcolormesh(TX90_matrix[0,:],cmap = 'coolwarm')\n",
    "plt.colorbar()"
   ]
  },
  {
   "cell_type": "code",
   "execution_count": 11,
   "id": "525cd8ce",
   "metadata": {},
   "outputs": [
    {
     "data": {
      "text/plain": [
       "(101, 141)"
      ]
     },
     "execution_count": 11,
     "metadata": {},
     "output_type": "execute_result"
    }
   ],
   "source": [
    "tmax=xr.open_dataset('/mnt/f/cn05/cn05_huabei/tmax/tmax1982.nc')\n",
    "tmax90 = np.percentile(tmax.tmax,90,axis=0)\n",
    "total_lon=len(tmax.lon)\n",
    "total_lat=len(tmax.lat)\n",
    "Tx90_matrix =np.full((total_lat,total_lon),fill_value=np.nan)\n",
    "Tx90_matrix.shape"
   ]
  },
  {
   "cell_type": "code",
   "execution_count": 22,
   "id": "1fe79e98",
   "metadata": {},
   "outputs": [
    {
     "data": {
      "text/plain": [
       "(101, 141)"
      ]
     },
     "execution_count": 22,
     "metadata": {},
     "output_type": "execute_result"
    }
   ],
   "source": [
    "pre_1982=xr.open_dataset('/mnt/f/cn05/cn05_huabei/pre/pre1982.nc')\n",
    "total_lon=len(pre_1982.lon)\n",
    "total_lat=len(pre_1982.lat)\n",
    "R1mm_matrix =np.full((total_lat,total_lon),fill_value=np.nan)\n",
    "R1mm_matrix.shape"
   ]
  },
  {
   "cell_type": "code",
   "execution_count": 23,
   "id": "188fae29",
   "metadata": {},
   "outputs": [],
   "source": [
    "def R1mm(prDaily):\n",
    "    ind_R1mm=[]\n",
    "    prDaily_no_nan = prDaily[~np.isnan(prDaily)]\n",
    "    N = len(prDaily)\n",
    "    N2 = len(prDaily_no_nan)\n",
    "    if (N2 == 0):\n",
    "        N2=1\n",
    "\n",
    "    if ((N2/N) < 0.8):\n",
    "        ind_R1mm = np.empty(1)\n",
    "        ind_R1mm = np.nan\n",
    "    else:\n",
    "        wetday=np.where(prDaily_no_nan>=1,1,0)\n",
    "        ind_R1mm=np.nansum(wetday)\n",
    "    return ind_R1mm"
   ]
  },
  {
   "cell_type": "code",
   "execution_count": 24,
   "id": "bc40f574",
   "metadata": {},
   "outputs": [],
   "source": [
    "for index_lat in range(total_lat):\n",
    "    for index_lon in range(total_lon):\n",
    "        R1mm_matrix[index_lat,index_lon] = R1mm(pre_1982.pre[:,index_lat,index_lon])"
   ]
  },
  {
   "cell_type": "code",
   "execution_count": 26,
   "id": "e4925ff1",
   "metadata": {},
   "outputs": [
    {
     "data": {
      "text/plain": [
       "array([[nan, nan, nan, ..., nan, nan, nan],\n",
       "       [nan, nan, nan, ..., nan, nan, nan],\n",
       "       [nan, nan, nan, ..., nan, nan, nan],\n",
       "       ...,\n",
       "       [nan, nan, nan, ..., nan, nan, nan],\n",
       "       [nan, nan, nan, ..., nan, nan, nan],\n",
       "       [nan, nan, nan, ..., nan, nan, nan]])"
      ]
     },
     "execution_count": 26,
     "metadata": {},
     "output_type": "execute_result"
    },
    {
     "data": {
      "image/png": "[encoded data removed]",
      "text/plain": [
       "<Figure size 432x288 with 2 Axes>"
      ]
     },
     "metadata": {
      "needs_background": "light"
     },
     "output_type": "display_data"
    }
   ],
   "source": [
    "plt.pcolormesh(R1mm_matrix,cmap = 'coolwarm')\n",
    "plt.colorbar()\n",
    "R1mm_matrix"
   ]
  },
  {
   "cell_type": "code",
   "execution_count": 3,
   "id": "29d44062",
   "metadata": {},
   "outputs": [],
   "source": [
    "path = '/mnt/f/cn05/cn05_huabei/pre/'\n",
    "filename = os.listdir(path)\n",
    "for file in filename:\n",
    "    inputfile = os.path.join('/mnt/f/cn05/cn05_huabei/pre/',file)\n",
    "    pre_year = xr.open_dataset(inputfile)\n",
    "    outputfile = os.path.join('/mnt/f/cn05/cn05_huabei/Rx1day/',\"Rx1day_\" + file)\n",
    "    cdo.eca_rx1day(input=inputfile,output=outputfile)"
   ]
  },
  {
   "cell_type": "code",
   "execution_count": 3,
   "id": "f30f0987",
   "metadata": {},
   "outputs": [
    {
     "data": {
      "text/plain": [
       "<matplotlib.colorbar.Colorbar at 0x7fb507ff4e20>"
      ]
     },
     "execution_count": 3,
     "metadata": {},
     "output_type": "execute_result"
    },
    {
     "data": {
      "image/png": "[encoded data removed]",
      "text/plain": [
       "<Figure size 432x288 with 2 Axes>"
      ]
     },
     "metadata": {
      "needs_background": "light"
     },
     "output_type": "display_data"
    }
   ],
   "source": [
    "RX1daytext=xr.open_dataset('/mnt/f/cn05/cn05_huabei/Rx1day/Rx1day_pre1982.nc')\n",
    "RX1daytext.highest_one_day_precipitation_amount_per_time_period\n",
    "plt.pcolormesh(RX1daytext.highest_one_day_precipitation_amount_per_time_period[0,:],cmap = 'viridis')\n",
    "plt.colorbar()"
   ]
  },
  {
   "cell_type": "code",
   "execution_count": 2,
   "id": "590583a5",
   "metadata": {},
   "outputs": [
    {
     "name": "stderr",
     "output_type": "stream",
     "text": [
      "cdo    eca_rx5day: Processed 1 variable over 365 timesteps [3.28s 32MB].\n"
     ]
    },
    {
     "data": {
      "text/plain": [
       "0"
      ]
     },
     "execution_count": 2,
     "metadata": {},
     "output_type": "execute_result"
    }
   ],
   "source": [
    "os.system('cdo eca_rx5day /mnt/f/cn05/cn05_huabei/pre/pre1982.nc  /mnt/f/cn05/cn05_huabei/Rx5day/Rx5day_pre1982.nc')"
   ]
  },
  {
   "cell_type": "code",
   "execution_count": 3,
   "id": "3f500630",
   "metadata": {},
   "outputs": [
    {
     "data": {
      "text/html": [
       "<div><svg style=\"position: absolute; width: 0; height: 0; overflow: hidden\">\n",
       "<defs>\n",
       "<symbol id=\"icon-database\" viewBox=\"0 0 32 32\">\n",
       "<path d=\"M16 0c-8.837 0-16 2.239-16 5v4c0 2.761 7.163 5 16 5s16-2.239 16-5v-4c0-2.761-7.163-5-16-5z\"></path>\n",
       "<path d=\"M16 17c-8.837 0-16-2.239-16-5v6c0 2.761 7.163 5 16 5s16-2.239 16-5v-6c0 2.761-7.163 5-16 5z\"></path>\n",
       "<path d=\"M16 26c-8.837 0-16-2.239-16-5v6c0 2.761 7.163 5 16 5s16-2.239 16-5v-6c0 2.761-7.163 5-16 5z\"></path>\n",
       "</symbol>\n",
       "<symbol id=\"icon-file-text2\" viewBox=\"0 0 32 32\">\n",
       "<path d=\"M28.681 7.159c-0.694-0.947-1.662-2.053-2.724-3.116s-2.169-2.030-3.116-2.724c-1.612-1.182-2.393-1.319-2.841-1.319h-15.5c-1.378 0-2.5 1.121-2.5 2.5v27c0 1.378 1.122 2.5 2.5 2.5h23c1.378 0 2.5-1.122 2.5-2.5v-19.5c0-0.448-0.137-1.23-1.319-2.841zM24.543 5.457c0.959 0.959 1.712 1.825 2.268 2.543h-4.811v-4.811c0.718 0.556 1.584 1.309 2.543 2.268zM28 29.5c0 0.271-0.229 0.5-0.5 0.5h-23c-0.271 0-0.5-0.229-0.5-0.5v-27c0-0.271 0.229-0.5 0.5-0.5 0 0 15.499-0 15.5 0v7c0 0.552 0.448 1 1 1h7v19.5z\"></path>\n",
       "<path d=\"M23 26h-14c-0.552 0-1-0.448-1-1s0.448-1 1-1h14c0.552 0 1 0.448 1 1s-0.448 1-1 1z\"></path>\n",
       "<path d=\"M23 22h-14c-0.552 0-1-0.448-1-1s0.448-1 1-1h14c0.552 0 1 0.448 1 1s-0.448 1-1 1z\"></path>\n",
       "<path d=\"M23 18h-14c-0.552 0-1-0.448-1-1s0.448-1 1-1h14c0.552 0 1 0.448 1 1s-0.448 1-1 1z\"></path>\n",
       "</symbol>\n",
       "</defs>\n",
       "</svg>\n",
       "<style>/* CSS stylesheet for displaying xarray objects in jupyterlab.\n",
       " *\n",
       " */\n",
       "\n",
       ":root {\n",
       "  --xr-font-color0: var(--jp-content-font-color0, rgba(0, 0, 0, 1));\n",
       "  --xr-font-color2: var(--jp-content-font-color2, rgba(0, 0, 0, 0.54));\n",
       "  --xr-font-color3: var(--jp-content-font-color3, rgba(0, 0, 0, 0.38));\n",
       "  --xr-border-color: var(--jp-border-color2, #e0e0e0);\n",
       "  --xr-disabled-color: var(--jp-layout-color3, #bdbdbd);\n",
       "  --xr-background-color: var(--jp-layout-color0, white);\n",
       "  --xr-background-color-row-even: var(--jp-layout-color1, white);\n",
       "  --xr-background-color-row-odd: var(--jp-layout-color2, #eeeeee);\n",
       "}\n",
       "\n",
       "html[theme=dark],\n",
       "body.vscode-dark {\n",
       "  --xr-font-color0: rgba(255, 255, 255, 1);\n",
       "  --xr-font-color2: rgba(255, 255, 255, 0.54);\n",
       "  --xr-font-color3: rgba(255, 255, 255, 0.38);\n",
       "  --xr-border-color: #1F1F1F;\n",
       "  --xr-disabled-color: #515151;\n",
       "  --xr-background-color: #111111;\n",
       "  --xr-background-color-row-even: #111111;\n",
       "  --xr-background-color-row-odd: #313131;\n",
       "}\n",
       "\n",
       ".xr-wrap {\n",
       "  display: block;\n",
       "  min-width: 300px;\n",
       "  max-width: 700px;\n",
       "}\n",
       "\n",
       ".xr-text-repr-fallback {\n",
       "  /* fallback to plain text repr when CSS is not injected (untrusted notebook) */\n",
       "  display: none;\n",
       "}\n",
       "\n",
       ".xr-header {\n",
       "  padding-top: 6px;\n",
       "  padding-bottom: 6px;\n",
       "  margin-bottom: 4px;\n",
       "  border-bottom: solid 1px var(--xr-border-color);\n",
       "}\n",
       "\n",
       ".xr-header > div,\n",
       ".xr-header > ul {\n",
       "  display: inline;\n",
       "  margin-top: 0;\n",
       "  margin-bottom: 0;\n",
       "}\n",
       "\n",
       ".xr-obj-type,\n",
       ".xr-array-name {\n",
       "  margin-left: 2px;\n",
       "  margin-right: 10px;\n",
       "}\n",
       "\n",
       ".xr-obj-type {\n",
       "  color: var(--xr-font-color2);\n",
       "}\n",
       "\n",
       ".xr-sections {\n",
       "  padding-left: 0 !important;\n",
       "  display: grid;\n",
       "  grid-template-columns: 150px auto auto 1fr 20px 20px;\n",
       "}\n",
       "\n",
       ".xr-section-item {\n",
       "  display: contents;\n",
       "}\n",
       "\n",
       ".xr-section-item input {\n",
       "  display: none;\n",
       "}\n",
       "\n",
       ".xr-section-item input + label {\n",
       "  color: var(--xr-disabled-color);\n",
       "}\n",
       "\n",
       ".xr-section-item input:enabled + label {\n",
       "  cursor: pointer;\n",
       "  color: var(--xr-font-color2);\n",
       "}\n",
       "\n",
       ".xr-section-item input:enabled + label:hover {\n",
       "  color: var(--xr-font-color0);\n",
       "}\n",
       "\n",
       ".xr-section-summary {\n",
       "  grid-column: 1;\n",
       "  color: var(--xr-font-color2);\n",
       "  font-weight: 500;\n",
       "}\n",
       "\n",
       ".xr-section-summary > span {\n",
       "  display: inline-block;\n",
       "  padding-left: 0.5em;\n",
       "}\n",
       "\n",
       ".xr-section-summary-in:disabled + label {\n",
       "  color: var(--xr-font-color2);\n",
       "}\n",
       "\n",
       ".xr-section-summary-in + label:before {\n",
       "  display: inline-block;\n",
       "  content: '►';\n",
       "  font-size: 11px;\n",
       "  width: 15px;\n",
       "  text-align: center;\n",
       "}\n",
       "\n",
       ".xr-section-summary-in:disabled + label:before {\n",
       "  color: var(--xr-disabled-color);\n",
       "}\n",
       "\n",
       ".xr-section-summary-in:checked + label:before {\n",
       "  content: '▼';\n",
       "}\n",
       "\n",
       ".xr-section-summary-in:checked + label > span {\n",
       "  display: none;\n",
       "}\n",
       "\n",
       ".xr-section-summary,\n",
       ".xr-section-inline-details {\n",
       "  padding-top: 4px;\n",
       "  padding-bottom: 4px;\n",
       "}\n",
       "\n",
       ".xr-section-inline-details {\n",
       "  grid-column: 2 / -1;\n",
       "}\n",
       "\n",
       ".xr-section-details {\n",
       "  display: none;\n",
       "  grid-column: 1 / -1;\n",
       "  margin-bottom: 5px;\n",
       "}\n",
       "\n",
       ".xr-section-summary-in:checked ~ .xr-section-details {\n",
       "  display: contents;\n",
       "}\n",
       "\n",
       ".xr-array-wrap {\n",
       "  grid-column: 1 / -1;\n",
       "  display: grid;\n",
       "  grid-template-columns: 20px auto;\n",
       "}\n",
       "\n",
       ".xr-array-wrap > label {\n",
       "  grid-column: 1;\n",
       "  vertical-align: top;\n",
       "}\n",
       "\n",
       ".xr-preview {\n",
       "  color: var(--xr-font-color3);\n",
       "}\n",
       "\n",
       ".xr-array-preview,\n",
       ".xr-array-data {\n",
       "  padding: 0 5px !important;\n",
       "  grid-column: 2;\n",
       "}\n",
       "\n",
       ".xr-array-data,\n",
       ".xr-array-in:checked ~ .xr-array-preview {\n",
       "  display: none;\n",
       "}\n",
       "\n",
       ".xr-array-in:checked ~ .xr-array-data,\n",
       ".xr-array-preview {\n",
       "  display: inline-block;\n",
       "}\n",
       "\n",
       ".xr-dim-list {\n",
       "  display: inline-block !important;\n",
       "  list-style: none;\n",
       "  padding: 0 !important;\n",
       "  margin: 0;\n",
       "}\n",
       "\n",
       ".xr-dim-list li {\n",
       "  display: inline-block;\n",
       "  padding: 0;\n",
       "  margin: 0;\n",
       "}\n",
       "\n",
       ".xr-dim-list:before {\n",
       "  content: '(';\n",
       "}\n",
       "\n",
       ".xr-dim-list:after {\n",
       "  content: ')';\n",
       "}\n",
       "\n",
       ".xr-dim-list li:not(:last-child):after {\n",
       "  content: ',';\n",
       "  padding-right: 5px;\n",
       "}\n",
       "\n",
       ".xr-has-index {\n",
       "  font-weight: bold;\n",
       "}\n",
       "\n",
       ".xr-var-list,\n",
       ".xr-var-item {\n",
       "  display: contents;\n",
       "}\n",
       "\n",
       ".xr-var-item > div,\n",
       ".xr-var-item label,\n",
       ".xr-var-item > .xr-var-name span {\n",
       "  background-color: var(--xr-background-color-row-even);\n",
       "  margin-bottom: 0;\n",
       "}\n",
       "\n",
       ".xr-var-item > .xr-var-name:hover span {\n",
       "  padding-right: 5px;\n",
       "}\n",
       "\n",
       ".xr-var-list > li:nth-child(odd) > div,\n",
       ".xr-var-list > li:nth-child(odd) > label,\n",
       ".xr-var-list > li:nth-child(odd) > .xr-var-name span {\n",
       "  background-color: var(--xr-background-color-row-odd);\n",
       "}\n",
       "\n",
       ".xr-var-name {\n",
       "  grid-column: 1;\n",
       "}\n",
       "\n",
       ".xr-var-dims {\n",
       "  grid-column: 2;\n",
       "}\n",
       "\n",
       ".xr-var-dtype {\n",
       "  grid-column: 3;\n",
       "  text-align: right;\n",
       "  color: var(--xr-font-color2);\n",
       "}\n",
       "\n",
       ".xr-var-preview {\n",
       "  grid-column: 4;\n",
       "}\n",
       "\n",
       ".xr-var-name,\n",
       ".xr-var-dims,\n",
       ".xr-var-dtype,\n",
       ".xr-preview,\n",
       ".xr-attrs dt {\n",
       "  white-space: nowrap;\n",
       "  overflow: hidden;\n",
       "  text-overflow: ellipsis;\n",
       "  padding-right: 10px;\n",
       "}\n",
       "\n",
       ".xr-var-name:hover,\n",
       ".xr-var-dims:hover,\n",
       ".xr-var-dtype:hover,\n",
       ".xr-attrs dt:hover {\n",
       "  overflow: visible;\n",
       "  width: auto;\n",
       "  z-index: 1;\n",
       "}\n",
       "\n",
       ".xr-var-attrs,\n",
       ".xr-var-data {\n",
       "  display: none;\n",
       "  background-color: var(--xr-background-color) !important;\n",
       "  padding-bottom: 5px !important;\n",
       "}\n",
       "\n",
       ".xr-var-attrs-in:checked ~ .xr-var-attrs,\n",
       ".xr-var-data-in:checked ~ .xr-var-data {\n",
       "  display: block;\n",
       "}\n",
       "\n",
       ".xr-var-data > table {\n",
       "  float: right;\n",
       "}\n",
       "\n",
       ".xr-var-name span,\n",
       ".xr-var-data,\n",
       ".xr-attrs {\n",
       "  padding-left: 25px !important;\n",
       "}\n",
       "\n",
       ".xr-attrs,\n",
       ".xr-var-attrs,\n",
       ".xr-var-data {\n",
       "  grid-column: 1 / -1;\n",
       "}\n",
       "\n",
       "dl.xr-attrs {\n",
       "  padding: 0;\n",
       "  margin: 0;\n",
       "  display: grid;\n",
       "  grid-template-columns: 125px auto;\n",
       "}\n",
       "\n",
       ".xr-attrs dt,\n",
       ".xr-attrs dd {\n",
       "  padding: 0;\n",
       "  margin: 0;\n",
       "  float: left;\n",
       "  padding-right: 10px;\n",
       "  width: auto;\n",
       "}\n",
       "\n",
       ".xr-attrs dt {\n",
       "  font-weight: normal;\n",
       "  grid-column: 1;\n",
       "}\n",
       "\n",
       ".xr-attrs dt:hover span {\n",
       "  display: inline-block;\n",
       "  background: var(--xr-background-color);\n",
       "  padding-right: 10px;\n",
       "}\n",
       "\n",
       ".xr-attrs dd {\n",
       "  grid-column: 2;\n",
       "  white-space: pre-wrap;\n",
       "  word-break: break-all;\n",
       "}\n",
       "\n",
       ".xr-icon-database,\n",
       ".xr-icon-file-text2 {\n",
       "  display: inline-block;\n",
       "  vertical-align: middle;\n",
       "  width: 1em;\n",
       "  height: 1.5em !important;\n",
       "  stroke-width: 0;\n",
       "  stroke: currentColor;\n",
       "  fill: currentColor;\n",
       "}\n",
       "</style><pre class='xr-text-repr-fallback'>&lt;xarray.Dataset&gt;\n",
       "Dimensions:  (time: 366, lon: 141, lat: 101)\n",
       "Coordinates:\n",
       "  * time     (time) datetime64[ns] 1984-01-01 1984-01-02 ... 1984-12-31\n",
       "  * lon      (lon) float64 95.0 95.25 95.5 95.75 ... 129.2 129.5 129.8 130.0\n",
       "  * lat      (lat) float64 30.0 30.25 30.5 30.75 31.0 ... 54.25 54.5 54.75 55.0\n",
       "Data variables:\n",
       "    pre      (time, lat, lon) float32 ...\n",
       "Attributes:\n",
       "    CDI:          Climate Data Interface version 1.9.8 (https://mpimet.mpg.de...\n",
       "    Conventions:  CF-1.4\n",
       "    history:      Mon May 02 01:05:53 2022: cdo splityear, /mnt/f/cn05/cn05_h...\n",
       "    pyproj_srs:   +proj=longlat +datum=WGS84 +no_defs\n",
       "    CDO:          Climate Data Operators version 1.9.8 (https://mpimet.mpg.de...</pre><div class='xr-wrap' hidden><div class='xr-header'><div class='xr-obj-type'>xarray.Dataset</div></div><ul class='xr-sections'><li class='xr-section-item'><input id='section-210711d5-5ba0-453e-9e21-670924fdfab1' class='xr-section-summary-in' type='checkbox' disabled ><label for='section-210711d5-5ba0-453e-9e21-670924fdfab1' class='xr-section-summary'  title='Expand/collapse section'>Dimensions:</label><div class='xr-section-inline-details'><ul class='xr-dim-list'><li><span class='xr-has-index'>time</span>: 366</li><li><span class='xr-has-index'>lon</span>: 141</li><li><span class='xr-has-index'>lat</span>: 101</li></ul></div><div class='xr-section-details'></div></li><li class='xr-section-item'><input id='section-ceca87a5-16f4-40bd-8a51-efcb4944d331' class='xr-section-summary-in' type='checkbox'  checked><label for='section-ceca87a5-16f4-40bd-8a51-efcb4944d331' class='xr-section-summary' >Coordinates: <span>(3)</span></label><div class='xr-section-inline-details'></div><div class='xr-section-details'><ul class='xr-var-list'><li class='xr-var-item'><div class='xr-var-name'><span class='xr-has-index'>time</span></div><div class='xr-var-dims'>(time)</div><div class='xr-var-dtype'>datetime64[ns]</div><div class='xr-var-preview xr-preview'>1984-01-01 ... 1984-12-31</div><input id='attrs-563cea0a-509d-48c6-8b08-2bfdcceb671d' class='xr-var-attrs-in' type='checkbox' ><label for='attrs-563cea0a-509d-48c6-8b08-2bfdcceb671d' title='Show/Hide attributes'><svg class='icon xr-icon-file-text2'><use xlink:href='#icon-file-text2'></use></svg></label><input id='data-74db4035-4d19-47f0-a60c-de90224e29a5' class='xr-var-data-in' type='checkbox'><label for='data-74db4035-4d19-47f0-a60c-de90224e29a5' title='Show/Hide data repr'><svg class='icon xr-icon-database'><use xlink:href='#icon-database'></use></svg></label><div class='xr-var-attrs'><dl class='xr-attrs'><dt><span>standard_name :</span></dt><dd>time</dd><dt><span>axis :</span></dt><dd>T</dd></dl></div><div class='xr-var-data'><pre>array([&#x27;1984-01-01T00:00:00.000000000&#x27;, &#x27;1984-01-02T00:00:00.000000000&#x27;,\n",
       "       &#x27;1984-01-03T00:00:00.000000000&#x27;, ..., &#x27;1984-12-29T00:00:00.000000000&#x27;,\n",
       "       &#x27;1984-12-30T00:00:00.000000000&#x27;, &#x27;1984-12-31T00:00:00.000000000&#x27;],\n",
       "      dtype=&#x27;datetime64[ns]&#x27;)</pre></div></li><li class='xr-var-item'><div class='xr-var-name'><span class='xr-has-index'>lon</span></div><div class='xr-var-dims'>(lon)</div><div class='xr-var-dtype'>float64</div><div class='xr-var-preview xr-preview'>95.0 95.25 95.5 ... 129.8 130.0</div><input id='attrs-52d3b668-3991-4ae8-951e-cf1442f67262' class='xr-var-attrs-in' type='checkbox' ><label for='attrs-52d3b668-3991-4ae8-951e-cf1442f67262' title='Show/Hide attributes'><svg class='icon xr-icon-file-text2'><use xlink:href='#icon-file-text2'></use></svg></label><input id='data-dde33ac3-fb4c-40b8-bb99-a33ee1685b2f' class='xr-var-data-in' type='checkbox'><label for='data-dde33ac3-fb4c-40b8-bb99-a33ee1685b2f' title='Show/Hide data repr'><svg class='icon xr-icon-database'><use xlink:href='#icon-database'></use></svg></label><div class='xr-var-attrs'><dl class='xr-attrs'><dt><span>standard_name :</span></dt><dd>longitude</dd><dt><span>long_name :</span></dt><dd>longitude</dd><dt><span>units :</span></dt><dd>degrees_east</dd><dt><span>axis :</span></dt><dd>X</dd></dl></div><div class='xr-var-data'><pre>array([ 95.  ,  95.25,  95.5 ,  95.75,  96.  ,  96.25,  96.5 ,  96.75,  97.  ,\n",
       "        97.25,  97.5 ,  97.75,  98.  ,  98.25,  98.5 ,  98.75,  99.  ,  99.25,\n",
       "        99.5 ,  99.75, 100.  , 100.25, 100.5 , 100.75, 101.  , 101.25, 101.5 ,\n",
       "       101.75, 102.  , 102.25, 102.5 , 102.75, 103.  , 103.25, 103.5 , 103.75,\n",
       "       104.  , 104.25, 104.5 , 104.75, 105.  , 105.25, 105.5 , 105.75, 106.  ,\n",
       "       106.25, 106.5 , 106.75, 107.  , 107.25, 107.5 , 107.75, 108.  , 108.25,\n",
       "       108.5 , 108.75, 109.  , 109.25, 109.5 , 109.75, 110.  , 110.25, 110.5 ,\n",
       "       110.75, 111.  , 111.25, 111.5 , 111.75, 112.  , 112.25, 112.5 , 112.75,\n",
       "       113.  , 113.25, 113.5 , 113.75, 114.  , 114.25, 114.5 , 114.75, 115.  ,\n",
       "       115.25, 115.5 , 115.75, 116.  , 116.25, 116.5 , 116.75, 117.  , 117.25,\n",
       "       117.5 , 117.75, 118.  , 118.25, 118.5 , 118.75, 119.  , 119.25, 119.5 ,\n",
       "       119.75, 120.  , 120.25, 120.5 , 120.75, 121.  , 121.25, 121.5 , 121.75,\n",
       "       122.  , 122.25, 122.5 , 122.75, 123.  , 123.25, 123.5 , 123.75, 124.  ,\n",
       "       124.25, 124.5 , 124.75, 125.  , 125.25, 125.5 , 125.75, 126.  , 126.25,\n",
       "       126.5 , 126.75, 127.  , 127.25, 127.5 , 127.75, 128.  , 128.25, 128.5 ,\n",
       "       128.75, 129.  , 129.25, 129.5 , 129.75, 130.  ])</pre></div></li><li class='xr-var-item'><div class='xr-var-name'><span class='xr-has-index'>lat</span></div><div class='xr-var-dims'>(lat)</div><div class='xr-var-dtype'>float64</div><div class='xr-var-preview xr-preview'>30.0 30.25 30.5 ... 54.5 54.75 55.0</div><input id='attrs-f7a14e1b-c6a9-48de-8b0f-a8efe9f6f1ba' class='xr-var-attrs-in' type='checkbox' ><label for='attrs-f7a14e1b-c6a9-48de-8b0f-a8efe9f6f1ba' title='Show/Hide attributes'><svg class='icon xr-icon-file-text2'><use xlink:href='#icon-file-text2'></use></svg></label><input id='data-e9d94c54-f0c0-4857-a48a-1a710bdbbcd3' class='xr-var-data-in' type='checkbox'><label for='data-e9d94c54-f0c0-4857-a48a-1a710bdbbcd3' title='Show/Hide data repr'><svg class='icon xr-icon-database'><use xlink:href='#icon-database'></use></svg></label><div class='xr-var-attrs'><dl class='xr-attrs'><dt><span>standard_name :</span></dt><dd>latitude</dd><dt><span>long_name :</span></dt><dd>latitude</dd><dt><span>units :</span></dt><dd>degrees_north</dd><dt><span>axis :</span></dt><dd>Y</dd></dl></div><div class='xr-var-data'><pre>array([30.  , 30.25, 30.5 , 30.75, 31.  , 31.25, 31.5 , 31.75, 32.  , 32.25,\n",
       "       32.5 , 32.75, 33.  , 33.25, 33.5 , 33.75, 34.  , 34.25, 34.5 , 34.75,\n",
       "       35.  , 35.25, 35.5 , 35.75, 36.  , 36.25, 36.5 , 36.75, 37.  , 37.25,\n",
       "       37.5 , 37.75, 38.  , 38.25, 38.5 , 38.75, 39.  , 39.25, 39.5 , 39.75,\n",
       "       40.  , 40.25, 40.5 , 40.75, 41.  , 41.25, 41.5 , 41.75, 42.  , 42.25,\n",
       "       42.5 , 42.75, 43.  , 43.25, 43.5 , 43.75, 44.  , 44.25, 44.5 , 44.75,\n",
       "       45.  , 45.25, 45.5 , 45.75, 46.  , 46.25, 46.5 , 46.75, 47.  , 47.25,\n",
       "       47.5 , 47.75, 48.  , 48.25, 48.5 , 48.75, 49.  , 49.25, 49.5 , 49.75,\n",
       "       50.  , 50.25, 50.5 , 50.75, 51.  , 51.25, 51.5 , 51.75, 52.  , 52.25,\n",
       "       52.5 , 52.75, 53.  , 53.25, 53.5 , 53.75, 54.  , 54.25, 54.5 , 54.75,\n",
       "       55.  ])</pre></div></li></ul></div></li><li class='xr-section-item'><input id='section-344a462a-2eea-44ea-8829-e1813871a00f' class='xr-section-summary-in' type='checkbox'  checked><label for='section-344a462a-2eea-44ea-8829-e1813871a00f' class='xr-section-summary' >Data variables: <span>(1)</span></label><div class='xr-section-inline-details'></div><div class='xr-section-details'><ul class='xr-var-list'><li class='xr-var-item'><div class='xr-var-name'><span>pre</span></div><div class='xr-var-dims'>(time, lat, lon)</div><div class='xr-var-dtype'>float32</div><div class='xr-var-preview xr-preview'>...</div><input id='attrs-6706e437-eb2c-4618-ab4a-33a941b3c87c' class='xr-var-attrs-in' type='checkbox' ><label for='attrs-6706e437-eb2c-4618-ab4a-33a941b3c87c' title='Show/Hide attributes'><svg class='icon xr-icon-file-text2'><use xlink:href='#icon-file-text2'></use></svg></label><input id='data-684be6e4-7df1-45a6-a25f-a4162b730d79' class='xr-var-data-in' type='checkbox'><label for='data-684be6e4-7df1-45a6-a25f-a4162b730d79' title='Show/Hide data repr'><svg class='icon xr-icon-database'><use xlink:href='#icon-database'></use></svg></label><div class='xr-var-attrs'><dl class='xr-attrs'><dt><span>long_name :</span></dt><dd>CN05.1 daily, precipitation,mm/day                                                         \r",
       "</dd><dt><span>pyproj_srs :</span></dt><dd>+proj=longlat +datum=WGS84 +no_defs</dd></dl></div><div class='xr-var-data'><pre>[5212206 values with dtype=float32]</pre></div></li></ul></div></li><li class='xr-section-item'><input id='section-719c0f15-fee7-4dfe-bfde-f55df0da75f4' class='xr-section-summary-in' type='checkbox'  checked><label for='section-719c0f15-fee7-4dfe-bfde-f55df0da75f4' class='xr-section-summary' >Attributes: <span>(5)</span></label><div class='xr-section-inline-details'></div><div class='xr-section-details'><dl class='xr-attrs'><dt><span>CDI :</span></dt><dd>Climate Data Interface version 1.9.8 (https://mpimet.mpg.de/cdi)</dd><dt><span>Conventions :</span></dt><dd>CF-1.4</dd><dt><span>history :</span></dt><dd>Mon May 02 01:05:53 2022: cdo splityear, /mnt/f/cn05/cn05_huabei/huabeicn05.1_pre_1982_2015.nc /mnt/f/cn05/cn05_huabei/pre\n",
       "Fri Apr 29 19:49:06 2022: cdo -O -s -sellonlatbox,95,130,30,55 /mnt/f/cn05/huabei_1982_2015/huabeicn05.1_pre_1982_2015.nc /mnt/f/cn05/cn05_huabei/huabeicn05.1_pre_1982_2015.nc\n",
       "Tue Apr 26 17:35:41 2022: cdo select,year=1982,1983,1984,1985,1986,1987,1988,1989,1990,1991,1992,1993,1994,1995,1996,1997,1998,1999,2000,2001,2002,2003,2004,2005,2006,2007,2008,2009,2010,2011,2012,2013,2014,2015 /mnt/f/cn05/Climite/CN05.1_Pre_1961_2020_daily_025x025.nc /mnt/f/cn05/Climite/out/cn05_1982_20150.nc\n",
       "Wed Dec 15 16:21:39 2021: cdo -r -O mergetime CN05.1_Pre_1961_2018_daily_025x025.nc CN05.1-2019/changetime/CN05.1_Pre_2019_daily_025x025.nc 2020/CN05.1_Pre_2020_daily_025x025.nc ../RegCM_BC/CN05.1/CN05.1_Pre_1961_2020_daily_025x025.nc\n",
       "Wed May 15 17:07:06 2019: cdo -f nc import_binary CN05.1_Pre_1961_2018_daily_025x025.ctl CN05.1_Pre_1961_2018_daily_025x025.nc</dd><dt><span>pyproj_srs :</span></dt><dd>+proj=longlat +datum=WGS84 +no_defs</dd><dt><span>CDO :</span></dt><dd>Climate Data Operators version 1.9.8 (https://mpimet.mpg.de/cdo)</dd></dl></div></li></ul></div></div>"
      ],
      "text/plain": [
       "<xarray.Dataset>\n",
       "Dimensions:  (time: 366, lon: 141, lat: 101)\n",
       "Coordinates:\n",
       "  * time     (time) datetime64[ns] 1984-01-01 1984-01-02 ... 1984-12-31\n",
       "  * lon      (lon) float64 95.0 95.25 95.5 95.75 ... 129.2 129.5 129.8 130.0\n",
       "  * lat      (lat) float64 30.0 30.25 30.5 30.75 31.0 ... 54.25 54.5 54.75 55.0\n",
       "Data variables:\n",
       "    pre      (time, lat, lon) float32 ...\n",
       "Attributes:\n",
       "    CDI:          Climate Data Interface version 1.9.8 (https://mpimet.mpg.de...\n",
       "    Conventions:  CF-1.4\n",
       "    history:      Mon May 02 01:05:53 2022: cdo splityear, /mnt/f/cn05/cn05_h...\n",
       "    pyproj_srs:   +proj=longlat +datum=WGS84 +no_defs\n",
       "    CDO:          Climate Data Operators version 1.9.8 (https://mpimet.mpg.de..."
      ]
     },
     "execution_count": 3,
     "metadata": {},
     "output_type": "execute_result"
    }
   ],
   "source": [
    "textrun=xr.open_dataset('/mnt/f/cn05/cn05_huabei/pre/pre1984.nc')\n",
    "textrun"
   ]
  },
  {
   "cell_type": "code",
   "execution_count": 47,
   "id": "5a7e5bed",
   "metadata": {},
   "outputs": [],
   "source": [
    "def SUM(pre):\n",
    "    day5=np.sum(pre,axis = 0)\n",
    "    return day5"
   ]
  },
  {
   "cell_type": "code",
   "execution_count": null,
   "id": "c4e4dc4f",
   "metadata": {},
   "outputs": [],
   "source": [
    "day5_year =np.full((34,101,141),fill_value=np.nan)\n",
    "\n",
    "for file in filename:\n",
    "    inputfile = os.path.join('/mnt/f/cn05/cn05_huabei/pre/',file)\n",
    "    pre_year = xr.open_dataset(inputfile)\n",
    "    for j in range(361):\n",
    "    day5_1982[j,:,:] = SUM(pre_1982.pre[i:i+5,:,:])\n",
    "    i = i+1"
   ]
  },
  {
   "cell_type": "code",
   "execution_count": 48,
   "id": "f5a85be2",
   "metadata": {},
   "outputs": [],
   "source": [
    "day5_1982 =np.full((361,101,141),fill_value=np.nan)"
   ]
  },
  {
   "cell_type": "code",
   "execution_count": 134,
   "id": "cd0c16fa",
   "metadata": {},
   "outputs": [],
   "source": [
    "pre_1982=xr.open_dataset('/mnt/f/cn05/cn05_huabei/pre/pre1982.nc')\n",
    "i=0\n",
    "for j in range(361):\n",
    "    day5_1982[j,:,:] = SUM(pre_1982.pre[i:i+5,:,:])\n",
    "    i = i+1"
   ]
  },
  {
   "cell_type": "code",
   "execution_count": 132,
   "id": "fcb94ca7",
   "metadata": {},
   "outputs": [],
   "source": [
    "day5_1982[day5_1982==0]=np.nan"
   ]
  },
  {
   "cell_type": "code",
   "execution_count": 135,
   "id": "d4456f9b",
   "metadata": {},
   "outputs": [
    {
     "data": {
      "text/plain": [
       "<matplotlib.colorbar.Colorbar at 0x7fb735d417f0>"
      ]
     },
     "execution_count": 135,
     "metadata": {},
     "output_type": "execute_result"
    },
    {
     "data": {
      "image/png": "[encoded data removed]",
      "text/plain": [
       "<Figure size 432x288 with 2 Axes>"
      ]
     },
     "metadata": {
      "needs_background": "light"
     },
     "output_type": "display_data"
    }
   ],
   "source": [
    "plt.pcolormesh(day5_1982[0,:],cmap = 'viridis')\n",
    "plt.colorbar()"
   ]
  },
  {
   "cell_type": "code",
   "execution_count": null,
   "id": "4a748c0e",
   "metadata": {},
   "outputs": [],
   "source": [
    "text5day = np.full((101,141),fill_value=np.nan)\n",
    "textpre=xr.open_dataset('/mnt/f/cn05/cn05_huabei/pre/pre1982.nc')\n",
    "pre_year = textpre.pre\n",
    "for i in range(101):\n",
    "    for j in range(141):\n",
    "        text5day[i,j] = Rx5day(textpre.pre[:,i,j])"
   ]
  },
  {
   "cell_type": "code",
   "execution_count": 140,
   "id": "4d06fe6f",
   "metadata": {},
   "outputs": [
    {
     "name": "stderr",
     "output_type": "stream",
     "text": [
      "cdo    eca_pd: Processed 1 variable over 365 timesteps [3.15s 32MB].\n"
     ]
    },
    {
     "data": {
      "text/plain": [
       "0"
      ]
     },
     "execution_count": 140,
     "metadata": {},
     "output_type": "execute_result"
    }
   ],
   "source": [
    "os.system('cdo eca_pd,1 /mnt/f/cn05/cn05_huabei/pre/pre1982.nc /mnt/f/cn05/cn05_huabei/R1mm/R1mm982.nc')"
   ]
  },
  {
   "cell_type": "code",
   "execution_count": 154,
   "id": "b59ea885",
   "metadata": {},
   "outputs": [
    {
     "data": {
      "text/plain": [
       "<matplotlib.colorbar.Colorbar at 0x7fb7473c63a0>"
      ]
     },
     "execution_count": 154,
     "metadata": {},
     "output_type": "execute_result"
    },
    {
     "data": {
      "image/png": "[encoded data removed]",
      "text/plain": [
       "<Figure size 432x288 with 2 Axes>"
      ]
     },
     "metadata": {
      "needs_background": "light"
     },
     "output_type": "display_data"
    }
   ],
   "source": [
    "text1mm=xr.open_dataset('/mnt/f/cn05/cn05_huabei/R20mm/R20m_pre1982.nc')\n",
    "text1mm\n",
    "plt.pcolormesh(text1mm.precipitation_days_index_per_time_period[0,:],cmap = 'viridis')\n",
    "plt.colorbar()"
   ]
  },
  {
   "cell_type": "code",
   "execution_count": 145,
   "id": "45e3f90c",
   "metadata": {},
   "outputs": [],
   "source": [
    "path = '/mnt/f/cn05/cn05_huabei/pre/'\n",
    "filename = os.listdir(path)\n",
    "for file in filename:\n",
    "    inputfile = os.path.join('/mnt/f/cn05/cn05_huabei/pre/',file)\n",
    "    outputfile = os.path.join('/mnt/f/cn05/cn05_huabei/R1mm/',\"R1m_\" + file)\n",
    "    cdo.eca_pd('1',input=inputfile,output=outputfile)"
   ]
  },
  {
   "cell_type": "code",
   "execution_count": 146,
   "id": "388a0797",
   "metadata": {},
   "outputs": [],
   "source": [
    "path = '/mnt/f/cn05/cn05_huabei/pre/'\n",
    "filename = os.listdir(path)\n",
    "for file in filename:\n",
    "    inputfile = os.path.join('/mnt/f/cn05/cn05_huabei/pre/',file)\n",
    "    outputfile = os.path.join('/mnt/f/cn05/cn05_huabei/R10mm/',\"R10m_\" + file)\n",
    "    cdo.eca_pd('10',input=inputfile,output=outputfile)"
   ]
  },
  {
   "cell_type": "code",
   "execution_count": 147,
   "id": "ffbd0dc1",
   "metadata": {},
   "outputs": [],
   "source": [
    "path = '/mnt/f/cn05/cn05_huabei/pre/'\n",
    "filename = os.listdir(path)\n",
    "for file in filename:\n",
    "    inputfile = os.path.join('/mnt/f/cn05/cn05_huabei/pre/',file)\n",
    "    outputfile = os.path.join('/mnt/f/cn05/cn05_huabei/R20mm/',\"R20m_\" + file)\n",
    "    cdo.eca_pd('20',input=inputfile,output=outputfile)"
   ]
  },
  {
   "cell_type": "code",
   "execution_count": null,
   "id": "d9632395",
   "metadata": {},
   "outputs": [],
   "source": [
    "def TN_index_TR(tn):\n",
    "    tn01=np.where(tn>20,1,np.nan)\n",
    "    TR=np.sum(tn01,axis=0)\n",
    "    return TR"
   ]
  },
  {
   "cell_type": "markdown",
   "id": "763ac89c",
   "metadata": {},
   "source": [
    "pre出错，重新"
   ]
  },
  {
   "cell_type": "code",
   "execution_count": 2,
   "id": "5e51429f",
   "metadata": {},
   "outputs": [
    {
     "name": "stderr",
     "output_type": "stream",
     "text": [
      "cdo    splityear: Processed 1 variable over 12418 timesteps [12.96s 57MB].\n"
     ]
    },
    {
     "data": {
      "text/plain": [
       "0"
      ]
     },
     "execution_count": 2,
     "metadata": {},
     "output_type": "execute_result"
    }
   ],
   "source": [
    "os.system('cdo splityear, /mnt/f/cn05/new_pre/pre_1982_2015.nc  /mnt/f/cn05/new_pre/pre ')"
   ]
  },
  {
   "cell_type": "code",
   "execution_count": 3,
   "id": "6ae2e329",
   "metadata": {},
   "outputs": [],
   "source": [
    "path = '/mnt/f/cn05/new_pre/pre/'\n",
    "filename = os.listdir(path)\n",
    "for file in filename:\n",
    "    inputfile = os.path.join('/mnt/f/cn05/new_pre/pre/',file)\n",
    "    pre_year = xr.open_dataset(inputfile)\n",
    "    outputfile = os.path.join('/mnt/f/cn05/new_pre/Rx1day/',\"Rx1day_\" + file)\n",
    "    cdo.eca_rx1day(input=inputfile,output=outputfile)"
   ]
  },
  {
   "cell_type": "code",
   "execution_count": 4,
   "id": "cfc73f8e",
   "metadata": {},
   "outputs": [],
   "source": [
    "path = '/mnt/f/cn05/new_pre/pre/'\n",
    "filename = os.listdir(path)\n",
    "for file in filename:\n",
    "    inputfile = os.path.join(path,file)\n",
    "    outputfile = os.path.join('/mnt/f/cn05/new_pre/R1mm/',\"R1m_\" + file)\n",
    "    cdo.eca_pd('1',input=inputfile,output=outputfile)"
   ]
  },
  {
   "cell_type": "code",
   "execution_count": 5,
   "id": "a8e0ea77",
   "metadata": {},
   "outputs": [],
   "source": [
    "path = '/mnt/f/cn05/new_pre/pre/'\n",
    "filename = os.listdir(path)\n",
    "for file in filename:\n",
    "    inputfile = os.path.join(path,file)\n",
    "    outputfile = os.path.join('/mnt/f/cn05/new_pre/R10mm/',\"R10m_\" + file)\n",
    "    cdo.eca_pd('10',input=inputfile,output=outputfile)"
   ]
  },
  {
   "cell_type": "code",
   "execution_count": 6,
   "id": "b5fb4064",
   "metadata": {},
   "outputs": [],
   "source": [
    "path = '/mnt/f/cn05/new_pre/pre/'\n",
    "filename = os.listdir(path)\n",
    "for file in filename:\n",
    "    inputfile = os.path.join(path,file)\n",
    "    outputfile = os.path.join('/mnt/f/cn05/new_pre/R20mm/',\"R20m_\" + file)\n",
    "    cdo.eca_pd('20',input=inputfile,output=outputfile)"
   ]
  },
  {
   "cell_type": "code",
   "execution_count": 5,
   "id": "5f952fc9",
   "metadata": {},
   "outputs": [],
   "source": [
    "##月尺度降水指数"
   ]
  },
  {
   "cell_type": "code",
   "execution_count": 7,
   "id": "526a533c",
   "metadata": {},
   "outputs": [],
   "source": [
    "path = '/mnt/f/cn05/cn05_huabei/month/pre/'\n",
    "filename = os.listdir(path)\n",
    "for file in filename:\n",
    "    inputfile = os.path.join(path,file)\n",
    "    pre_year = xr.open_dataset(inputfile)\n",
    "    outputfile = os.path.join('/mnt/f/cn05/cn05_huabei/month/rx1day',\"rx1day_\" + file)\n",
    "    cdo.eca_rx1day(input=inputfile,output=outputfile)"
   ]
  },
  {
   "cell_type": "code",
   "execution_count": 8,
   "id": "6042e779",
   "metadata": {},
   "outputs": [],
   "source": [
    "path = '/mnt/f/cn05/cn05_huabei/month/pre/'\n",
    "filename = os.listdir(path)\n",
    "for file in filename:\n",
    "    inputfile = os.path.join(path,file)\n",
    "    pre_year = xr.open_dataset(inputfile)\n",
    "    outputfile = os.path.join('/mnt/f/cn05/cn05_huabei/month/r1mm',\"r1mm_\" + file)\n",
    "    cdo.eca_pd('1',input=inputfile,output=outputfile)"
   ]
  },
  {
   "cell_type": "code",
   "execution_count": 9,
   "id": "7a6a4b6f",
   "metadata": {},
   "outputs": [],
   "source": [
    "path = '/mnt/f/cn05/cn05_huabei/month/pre/'\n",
    "filename = os.listdir(path)\n",
    "for file in filename:\n",
    "    inputfile = os.path.join(path,file)\n",
    "    pre_year = xr.open_dataset(inputfile)\n",
    "    outputfile = os.path.join('/mnt/f/cn05/cn05_huabei/month/r10mm',\"r10mm_\" + file)\n",
    "    cdo.eca_pd('10',input=inputfile,output=outputfile)"
   ]
  },
  {
   "cell_type": "code",
   "execution_count": 10,
   "id": "acb4f0d8",
   "metadata": {},
   "outputs": [],
   "source": [
    "path = '/mnt/f/cn05/cn05_huabei/month/pre/'\n",
    "filename = os.listdir(path)\n",
    "for file in filename:\n",
    "    inputfile = os.path.join(path,file)\n",
    "    pre_year = xr.open_dataset(inputfile)\n",
    "    outputfile = os.path.join('/mnt/f/cn05/cn05_huabei/month/r20mm',\"r20mm_\" + file)\n",
    "    cdo.eca_pd('20',input=inputfile,output=outputfile)"
   ]
  },
  {
   "cell_type": "code",
   "execution_count": null,
   "id": "5280dcb6",
   "metadata": {},
   "outputs": [],
   "source": []
  }
 ],
 "metadata": {
  "kernelspec": {
   "display_name": "Python 3 (ipykernel)",
   "language": "python",
   "name": "python3"
  },
  "language_info": {
   "codemirror_mode": {
    "name": "ipython",
    "version": 3
   },
   "file_extension": ".py",
   "mimetype": "text/x-python",
   "name": "python",
   "nbconvert_exporter": "python",
   "pygments_lexer": "ipython3",
   "version": "3.8.0"
  },
  "toc": {
   "base_numbering": 1,
   "nav_menu": {},
   "number_sections": true,
   "sideBar": true,
   "skip_h1_title": false,
   "title_cell": "Table of Contents",
   "title_sidebar": "Contents",
   "toc_cell": false,
   "toc_position": {},
   "toc_section_display": true,
   "toc_window_display": false
  },
  "varInspector": {
   "cols": {
    "lenName": 16,
    "lenType": 16,
    "lenVar": 40
   },
   "kernels_config": {
    "python": {
     "delete_cmd_postfix": "",
     "delete_cmd_prefix": "del ",
     "library": "var_list.py",
     "varRefreshCmd": "print(var_dic_list())"
    },
    "r": {
     "delete_cmd_postfix": ") ",
     "delete_cmd_prefix": "rm(",
     "library": "var_list.r",
     "varRefreshCmd": "cat(var_dic_list()) "
    }
   },
   "types_to_exclude": [
    "module",
    "function",
    "builtin_function_or_method",
    "instance",
    "_Feature"
   ],
   "window_display": false
  }
 },
 "nbformat": 4,
 "nbformat_minor": 5
}
