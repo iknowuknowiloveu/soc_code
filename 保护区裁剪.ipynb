{
 "cells": [
  {
   "cell_type": "code",
   "execution_count": 2,
   "metadata": {},
   "outputs": [],
   "source": [
    "import numpy as np\n",
    "import xarray as xr\n",
    "import os\n",
    "from cdo import *\n",
    "from cdo import Cdo\n",
    "cdo = Cdo()\n",
    "\n",
    "import geopandas as geo\n",
    "import salem\n"
   ]
  },
  {
   "cell_type": "code",
   "execution_count": 3,
   "metadata": {},
   "outputs": [
    {
     "data": {
      "text/plain": [
       "\"\\ni = 0\\nfor data in pre_data:\\n    filename = os.listdir(data)\\n    for file in filename:\\n        inputfile = os.path.join(data,file)\\n        input = xr.open_dataset(inputfile)\\n        if i == 0:\\n            input = input.pre\\n        elif i == 4:\\n            input = input.highest_one_day_precipitation_amount_per_time_period\\n        else:\\n            input = input.precipitation_days_index_per_time_period\\n        output = input.salem.roi(shape = reserve_shp)\\n        outputfile = os.path.join('/mnt/g/reserve/{}',file).format(pre_data[i][20:])\\n        output.to_netcdf(path = outputfile)\\n    i = i + 1\\n\""
      ]
     },
     "execution_count": 3,
     "metadata": {},
     "output_type": "execute_result"
    }
   ],
   "source": [
    "#导入保护区的shp\n",
    "reserve_shp = geo.read_file('/mnt/e/BaiduSyncdisk/lunwen/毕设的糟心玩意/华北国家级保护区shp/华北保护区.shp')\n",
    "#导入需要裁剪的cn05/NDVI数据\n",
    "#此处数据都是已经salem裁剪成华北地区，box裁剪成小内存的了\n",
    "\n",
    "#cn05包括降水和气温，降水由于后面做过改正，所以是另外导入的new_pre\n",
    "#有一部分降水指数已经输出成文件了所以直接裁剪\n",
    "\n",
    "cn05_pre = '/mnt/g/cn05/new_pre/pre/'\n",
    "cn05_r1mm = '/mnt/g/cn05/new_pre/R1mm/'\n",
    "cn05_r10mm = '/mnt/g/cn05/new_pre/R10mm/'\n",
    "cn05_r20mm = '/mnt/g/cn05/new_pre/R20mm/'\n",
    "cn05_rx1day = '/mnt/g/cn05/new_pre/Rx1day/'\n",
    "\n",
    "cn05_tmax = '/mnt/g/cn05/cn05_huabei/tmax/'\n",
    "cn05_tmin = '/mnt/g/cn05/cn05_huabei/tmin/'\n",
    "\n",
    "pre_data = [cn05_pre,cn05_r1mm,cn05_r10mm,cn05_r20mm,cn05_rx1day]\n",
    "tm_data = [cn05_tmax,cn05_tmin]\n",
    "\n",
    "\n",
    "i = 0\n",
    "for data in pre_data:\n",
    "    filename = os.listdir(data)\n",
    "    for file in filename:\n",
    "        inputfile = os.path.join(data,file)\n",
    "        input = xr.open_dataset(inputfile)\n",
    "        if i == 0:\n",
    "            input = input.pre\n",
    "        elif i == 4:\n",
    "            input = input.highest_one_day_precipitation_amount_per_time_period\n",
    "        else:\n",
    "            input = input.precipitation_days_index_per_time_period\n",
    "        output = input.salem.roi(shape = reserve_shp)\n",
    "        outputfile = os.path.join('/mnt/g/reserve/{}',file).format(pre_data[i][20:])\n",
    "        output.to_netcdf(path = outputfile)\n",
    "    i = i + 1\n",
    "\n",
    "i = 0\n",
    "for data in tm_data:\n",
    "    filename = os.listdir(data)\n",
    "    for file in filename:\n",
    "        inputfile = os.path.join(data,file)\n",
    "        input = xr.open_dataset(inputfile)\n",
    "        if i == 0:\n",
    "            input = input.tmax\n",
    "        else:\n",
    "            input = input.tmin\n",
    "        output = input.salem.roi(shape = reserve_shp)\n",
    "        outputfile = os.path.join('/mnt/g/reserve/{}',file).format(tm_data[i][23:])\n",
    "        output.to_netcdf(path = outputfile)\n",
    "    i = i + 1\n",
    "\n",
    "#NDVI包括插值前和插值后的，插值前用来做趋势分析，插值后做相关分析\n",
    "ndvi = '/mnt/g/month/'\n",
    "ndvi_remapbic = '/mnt/g/month_remapbic'\n",
    "\n",
    "ndvi_data = [ndvi,ndvi_remapbic]\n",
    "\n",
    "i = 0\n",
    "for data in ndvi_data:\n",
    "    filename = os.listdir(data)\n",
    "    for file in filename:\n",
    "        inputfile = os.path.join(data,file)\n",
    "        input = xr.open_dataset(inputfile)\n",
    "        input = input.ndvi\n",
    "        output = input.salem.roi(shape = reserve_shp)\n",
    "        outputfile = os.path.join('/mnt/g/reserve/ndvi{}',file).format(ndvi_data[i][12:])\n",
    "        output.to_netcdf(path = outputfile)\n",
    "        print(outputfile)\n",
    "    i = i + 1"
   ]
  }
 ],
 "metadata": {
  "kernelspec": {
   "display_name": "salem",
   "language": "python",
   "name": "python3"
  },
  "language_info": {
   "codemirror_mode": {
    "name": "ipython",
    "version": 3
   },
   "file_extension": ".py",
   "mimetype": "text/x-python",
   "name": "python",
   "nbconvert_exporter": "python",
   "pygments_lexer": "ipython3",
   "version": "3.8.0"
  }
 },
 "nbformat": 4,
 "nbformat_minor": 2
}
